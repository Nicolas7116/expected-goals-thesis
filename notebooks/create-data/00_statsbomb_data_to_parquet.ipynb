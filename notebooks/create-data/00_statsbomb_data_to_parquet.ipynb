{
 "cells": [
  {
   "cell_type": "code",
   "execution_count": 1,
   "metadata": {},
   "outputs": [],
   "source": [
    "import mplsoccer.statsbomb as sbapi\n",
    "import pandas as pd\n",
    "import os\n",
    "import glob"
   ]
  },
  {
   "cell_type": "markdown",
   "metadata": {},
   "source": [
    "This notebook takes the StatsBomb json files and turns them into parquet files. These are extremely fast to load so good for this prototyping kind of analysis."
   ]
  },
  {
   "cell_type": "markdown",
   "metadata": {},
   "source": [
    "# Change these paths/ parameters\n",
    "You will need to change these paths/ parameters depending on where the StatsBomb open-data is located, how and where you want to save the resulting data, and if you only want the new files to be processed."
   ]
  },
  {
   "cell_type": "code",
   "execution_count": 2,
   "metadata": {},
   "outputs": [],
   "source": [
    "# open data folder is one folder down in the directory. To change if run elsewhere\n",
    "STATSBOMB_DATA = os.path.join('..', '..', '..', 'open-data','data')\n",
    "# save files in folder in current directory. To change if want to save elsewhere\n",
    "DATA_FOLDER = os.path.join('..', '..', 'data', 'statsbomb')"
   ]
  },
  {
   "cell_type": "markdown",
   "metadata": {},
   "source": [
    "# Get the data file paths"
   ]
  },
  {
   "cell_type": "code",
   "execution_count": 3,
   "metadata": {},
   "outputs": [],
   "source": [
    "event_links = glob.glob(os.path.join(STATSBOMB_DATA, 'events', '**', '*.json'),recursive=True)\n",
    "lineup_links = glob.glob(os.path.join(STATSBOMB_DATA, 'lineups', '**', '*.json'),recursive=True)\n",
    "match_links = glob.glob(os.path.join(STATSBOMB_DATA, 'matches', '**', '*.json'),recursive=True)\n",
    "competition_path = os.path.join(STATSBOMB_DATA, 'competitions.json')"
   ]
  },
  {
   "cell_type": "markdown",
   "metadata": {},
   "source": [
    "# Make the directory structure"
   ]
  },
  {
   "cell_type": "code",
   "execution_count": 4,
   "metadata": {},
   "outputs": [],
   "source": [
    "# make the directory structure\n",
    "for folder in ['event_raw', 'related_event_raw', 'freeze_frame_raw', 'tactic_raw', 'lineup_raw']:\n",
    "    path = os.path.join(DATA_FOLDER, folder)\n",
    "    if not os.path.exists(path):\n",
    "        os.mkdir(path)"
   ]
  },
  {
   "cell_type": "markdown",
   "metadata": {},
   "source": [
    "# Read the competition datam"
   ]
  },
  {
   "cell_type": "code",
   "execution_count": 5,
   "metadata": {},
   "outputs": [
    {
     "name": "stdout",
     "output_type": "stream",
     "text": [
      "<class 'pandas.core.frame.DataFrame'>\n",
      "RangeIndex: 36 entries, 0 to 35\n",
      "Data columns (total 8 columns):\n",
      " #   Column              Non-Null Count  Dtype         \n",
      "---  ------              --------------  -----         \n",
      " 0   competition_id      36 non-null     int64         \n",
      " 1   season_id           36 non-null     int64         \n",
      " 2   country_name        36 non-null     object        \n",
      " 3   competition_name    36 non-null     object        \n",
      " 4   competition_gender  36 non-null     object        \n",
      " 5   season_name         36 non-null     object        \n",
      " 6   match_updated       36 non-null     datetime64[ns]\n",
      " 7   match_available     36 non-null     datetime64[ns]\n",
      "dtypes: datetime64[ns](2), int64(2), object(4)\n",
      "memory usage: 2.4+ KB\n"
     ]
    }
   ],
   "source": [
    "df_competition = sbapi.read_competition(competition_path, warn=False)\n",
    "# note there is a slight loss of data quality with timestamps, but these aren't relevant for analysis\n",
    "# pandas has nanoseconds, which aren't supported in parquet (supports milliseconds)\n",
    "df_competition.to_parquet(os.path.join(DATA_FOLDER, 'competition.parquet'), allow_truncated_timestamps=True)\n",
    "df_competition.info()"
   ]
  },
  {
   "cell_type": "markdown",
   "metadata": {},
   "source": [
    "# Read the match data"
   ]
  },
  {
   "cell_type": "code",
   "execution_count": 6,
   "metadata": {},
   "outputs": [
    {
     "name": "stdout",
     "output_type": "stream",
     "text": [
      "Skipping ..\\..\\..\\open-data\\data\\matches\\16\\4.json: empty json\n",
      "Skipping ..\\..\\..\\open-data\\data\\matches\\16\\42.json: empty json\n",
      "Skipping ..\\..\\..\\open-data\\data\\matches\\16\\44.json: empty json\n",
      "Skipping ..\\..\\..\\open-data\\data\\matches\\16\\76.json: empty json\n",
      "<class 'pandas.core.frame.DataFrame'>\n",
      "Int64Index: 842 entries, 0 to 51\n",
      "Data columns (total 48 columns):\n",
      " #   Column                           Non-Null Count  Dtype         \n",
      "---  ------                           --------------  -----         \n",
      " 0   match_id                         842 non-null    int64         \n",
      " 1   match_date                       842 non-null    datetime64[ns]\n",
      " 2   kick_off                         841 non-null    datetime64[ns]\n",
      " 3   home_score                       842 non-null    int64         \n",
      " 4   away_score                       842 non-null    int64         \n",
      " 5   last_updated                     842 non-null    datetime64[ns]\n",
      " 6   match_week                       842 non-null    int64         \n",
      " 7   competition_id                   842 non-null    int64         \n",
      " 8   competition_country_name         842 non-null    object        \n",
      " 9   competition_name                 842 non-null    object        \n",
      " 10  season_id                        842 non-null    int64         \n",
      " 11  season_name                      842 non-null    object        \n",
      " 12  home_team_id                     842 non-null    int64         \n",
      " 13  home_team_name                   842 non-null    object        \n",
      " 14  competition_gender               842 non-null    object        \n",
      " 15  home_team_group                  92 non-null     object        \n",
      " 16  home_team_country_id             842 non-null    int64         \n",
      " 17  home_team_country_name           842 non-null    object        \n",
      " 18  away_team_id                     842 non-null    int64         \n",
      " 19  away_team_name                   842 non-null    object        \n",
      " 20  away_team_group                  92 non-null     object        \n",
      " 21  away_team_country_id             842 non-null    int64         \n",
      " 22  away_team_country_name           842 non-null    object        \n",
      " 23  metadata_data_version            841 non-null    object        \n",
      " 24  metadata_shot_fidelity_version   646 non-null    object        \n",
      " 25  competition_stage_id             842 non-null    int64         \n",
      " 26  competition_stage_name           842 non-null    object        \n",
      " 27  stadium_id                       711 non-null    float64       \n",
      " 28  stadium_name                     711 non-null    object        \n",
      " 29  stadium_country_id               711 non-null    float64       \n",
      " 30  stadium_country_name             711 non-null    object        \n",
      " 31  referee_id                       803 non-null    float64       \n",
      " 32  referee_name                     803 non-null    object        \n",
      " 33  referee_country_id               331 non-null    float64       \n",
      " 34  referee_country_name             331 non-null    object        \n",
      " 35  home_team_managers_id            604 non-null    float64       \n",
      " 36  home_team_managers_name          604 non-null    object        \n",
      " 37  home_team_managers_nickname      180 non-null    object        \n",
      " 38  home_team_managers_dob           103 non-null    datetime64[ns]\n",
      " 39  home_team_managers_country_id    604 non-null    float64       \n",
      " 40  home_team_managers_country_name  604 non-null    object        \n",
      " 41  away_team_managers_id            604 non-null    float64       \n",
      " 42  away_team_managers_name          604 non-null    object        \n",
      " 43  away_team_managers_nickname      175 non-null    object        \n",
      " 44  away_team_managers_dob           108 non-null    datetime64[ns]\n",
      " 45  away_team_managers_country_id    604 non-null    float64       \n",
      " 46  away_team_managers_country_name  604 non-null    object        \n",
      " 47  metadata_xy_fidelity_version     556 non-null    object        \n",
      "dtypes: datetime64[ns](5), float64(8), int64(11), object(24)\n",
      "memory usage: 322.3+ KB\n"
     ]
    }
   ],
   "source": [
    "match_dfs = [sbapi.read_match(file, warn=False) for file in match_links]\n",
    "df_match = pd.concat(match_dfs)\n",
    "# again there is a slight loss of quality when saving timestamps, but only relevant for last_updated\n",
    "df_match.to_parquet(os.path.join(DATA_FOLDER, 'match.parquet'), allow_truncated_timestamps=True)\n",
    "df_match.info()"
   ]
  },
  {
   "cell_type": "markdown",
   "metadata": {},
   "source": [
    "# Read the lineup data"
   ]
  },
  {
   "cell_type": "code",
   "execution_count": 7,
   "metadata": {},
   "outputs": [],
   "source": [
    "LINEUP_FOLDER = os.path.join(DATA_FOLDER, 'lineup_raw')\n",
    "# loop through the links and store as parquet files - small and fast files\n",
    "for file in lineup_links:\n",
    "    save_path = f'{os.path.basename(file)[:-4]}parquet'\n",
    "    if not os.path.isfile(os.path.join(LINEUP_FOLDER, save_path)):\n",
    "        try:\n",
    "            print('Trying:', file)\n",
    "            df_lineup = sbapi.read_lineup(file, warn=False)\n",
    "            df_lineup.to_parquet(os.path.join(LINEUP_FOLDER, save_path))\n",
    "        except:\n",
    "            print('Skipping:', file)\n",
    "            pass"
   ]
  },
  {
   "cell_type": "markdown",
   "metadata": {},
   "source": [
    "Convert to a single dataframe"
   ]
  },
  {
   "cell_type": "code",
   "execution_count": 8,
   "metadata": {},
   "outputs": [
    {
     "name": "stdout",
     "output_type": "stream",
     "text": [
      "<class 'pandas.core.frame.DataFrame'>\n",
      "Int64Index: 25004 entries, 0 to 35\n",
      "Data columns (total 9 columns):\n",
      " #   Column                Non-Null Count  Dtype  \n",
      "---  ------                --------------  -----  \n",
      " 0   team_id               25004 non-null  int64  \n",
      " 1   team_name             25004 non-null  object \n",
      " 2   match_id              25004 non-null  int64  \n",
      " 3   player_id             25004 non-null  int64  \n",
      " 4   player_name           25004 non-null  object \n",
      " 5   player_nickname       13399 non-null  object \n",
      " 6   player_jersey_number  25004 non-null  int64  \n",
      " 7   player_country_id     24999 non-null  float64\n",
      " 8   player_country_name   24999 non-null  object \n",
      "dtypes: float64(1), int64(4), object(4)\n",
      "memory usage: 1.9+ MB\n"
     ]
    }
   ],
   "source": [
    "lineup_files = glob.glob(os.path.join(LINEUP_FOLDER, '*.parquet'))\n",
    "df_lineup = pd.concat([pd.read_parquet(file) for file in lineup_files])\n",
    "# replace some ids that appear to be duplicated. Then de-duplicate\n",
    "df_lineup.player_id.replace({18103: 38522,  # Dietmar Hamann\n",
    "                             17275: 4656,  # Hannah Jayne Blundell\n",
    "                             17524: 4655,  # Jennifer Beattie\n",
    "                             10172: 4644,  # Jill Scott\n",
    "                             4634: 5088,  # Crystal Dunn\n",
    "                             }, inplace=True)\n",
    "df_lineup.to_parquet(os.path.join(DATA_FOLDER, 'lineup.parquet'))\n",
    "df_lineup.info()"
   ]
  },
  {
   "cell_type": "markdown",
   "metadata": {},
   "source": [
    "# Read the event data"
   ]
  },
  {
   "cell_type": "code",
   "execution_count": 9,
   "metadata": {
    "scrolled": true
   },
   "outputs": [],
   "source": [
    "# loop through the links and store as parquet files - small and fast files\n",
    "for file in event_links:\n",
    "    save_path = f'{os.path.basename(file)[:-4]}parquet'\n",
    "    if not os.path.isfile(os.path.join(DATA_FOLDER, 'event_raw', save_path)):\n",
    "        try:\n",
    "            print('Trying:', file)\n",
    "            dict_event = sbapi.read_event(file, warn=False)\n",
    "            # save to parquet files\n",
    "            # using the dictionary key to access the dataframes from the dictionary\n",
    "            dict_event['event'].to_parquet(os.path.join(DATA_FOLDER, 'event_raw', save_path))\n",
    "            dict_event['related_event'].to_parquet(os.path.join(DATA_FOLDER, 'related_event_raw', save_path))\n",
    "            dict_event['shot_freeze_frame'].to_parquet(os.path.join(DATA_FOLDER, 'freeze_frame_raw', save_path))\n",
    "            dict_event['tactics_lineup'].to_parquet(os.path.join(DATA_FOLDER, 'tactic_raw', save_path))\n",
    "        except:\n",
    "            print('Skipping:', file)\n",
    "            pass"
   ]
  },
  {
   "cell_type": "markdown",
   "metadata": {},
   "source": [
    "Single dataframe events"
   ]
  },
  {
   "cell_type": "code",
   "execution_count": 10,
   "metadata": {
    "scrolled": false
   },
   "outputs": [
    {
     "name": "stdout",
     "output_type": "stream",
     "text": [
      "<class 'pandas.core.frame.DataFrame'>\n",
      "Int64Index: 3056120 entries, 0 to 3746\n",
      "Data columns (total 130 columns):\n",
      " #   Column                            Non-Null Count    Dtype  \n",
      "---  ------                            --------------    -----  \n",
      " 0   match_id                          3056120 non-null  int64  \n",
      " 1   id                                3056120 non-null  object \n",
      " 2   index                             3056120 non-null  int64  \n",
      " 3   period                            3056120 non-null  int64  \n",
      " 4   timestamp_minute                  3056120 non-null  int64  \n",
      " 5   timestamp_second                  3056120 non-null  int64  \n",
      " 6   timestamp_millisecond             3056120 non-null  int64  \n",
      " 7   minute                            3056120 non-null  int64  \n",
      " 8   second                            3056120 non-null  int64  \n",
      " 9   type_id                           3056120 non-null  int64  \n",
      " 10  type_name                         3056120 non-null  object \n",
      " 11  outcome_id                        428177 non-null   float64\n",
      " 12  outcome_name                      428177 non-null   object \n",
      " 13  play_pattern_id                   3056120 non-null  int64  \n",
      " 14  play_pattern_name                 3056120 non-null  object \n",
      " 15  possession_team_id                3056120 non-null  int64  \n",
      " 16  possession                        3056120 non-null  int64  \n",
      " 17  possession_team_name              3056120 non-null  object \n",
      " 18  team_id                           3056120 non-null  int64  \n",
      " 19  team_name                         3056120 non-null  object \n",
      " 20  player_id                         3039790 non-null  float64\n",
      " 21  player_name                       3039790 non-null  object \n",
      " 22  position_id                       3039790 non-null  float64\n",
      " 23  position_name                     3039790 non-null  object \n",
      " 24  duration                          2239847 non-null  float64\n",
      " 25  x                                 3031897 non-null  float64\n",
      " 26  y                                 3031897 non-null  float64\n",
      " 27  pass_end_x                        841555 non-null   float64\n",
      " 28  pass_end_y                        841555 non-null   float64\n",
      " 29  carry_end_x                       692895 non-null   float64\n",
      " 30  carry_end_y                       692895 non-null   float64\n",
      " 31  shot_end_x                        21838 non-null    float64\n",
      " 32  shot_end_y                        21838 non-null    float64\n",
      " 33  shot_end_z                        15804 non-null    float64\n",
      " 34  goalkeeper_end_x                  13442 non-null    float64\n",
      " 35  goalkeeper_end_y                  13442 non-null    float64\n",
      " 36  body_part_id                      848946 non-null   float64\n",
      " 37  body_part_name                    848946 non-null   object \n",
      " 38  counterpress                      95344 non-null    float64\n",
      " 39  under_pressure                    661896 non-null   float64\n",
      " 40  pass_length                       841555 non-null   float64\n",
      " 41  pass_angle                        841555 non-null   float64\n",
      " 42  pass_recipient_id                 780454 non-null   float64\n",
      " 43  pass_recipient_name               780454 non-null   object \n",
      " 44  pass_height_id                    841555 non-null   float64\n",
      " 45  pass_height_name                  841555 non-null   object \n",
      " 46  pass_type_id                      168102 non-null   float64\n",
      " 47  pass_type_name                    168102 non-null   object \n",
      " 48  pass_switch                       22915 non-null    object \n",
      " 49  pass_assisted_shot_id             15267 non-null    object \n",
      " 50  pass_shot_assist                  13464 non-null    object \n",
      " 51  pass_through_ball                 5324 non-null     object \n",
      " 52  pass_technique_id                 9836 non-null     float64\n",
      " 53  pass_technique_name               9836 non-null     object \n",
      " 54  pass_cross                        18195 non-null    object \n",
      " 55  pass_backheel                     1043 non-null     object \n",
      " 56  pass_deflected                    980 non-null      object \n",
      " 57  pass_cut_back                     1573 non-null     object \n",
      " 58  pass_goal_assist                  1803 non-null     object \n",
      " 59  bad_behaviour_card_id             593 non-null      float64\n",
      " 60  bad_behaviour_card_name           593 non-null      object \n",
      " 61  ball_recovery_recovery_failure    7050 non-null     object \n",
      " 62  block_offensive                   481 non-null      object \n",
      " 63  block_deflection                  946 non-null      object \n",
      " 64  dribble_overrun                   2120 non-null     object \n",
      " 65  duel_type_id                      54182 non-null    float64\n",
      " 66  duel_type_name                    54182 non-null    object \n",
      " 67  foul_committed_card_id            2692 non-null     float64\n",
      " 68  foul_committed_card_name          2692 non-null     object \n",
      " 69  foul_committed_advantage          3188 non-null     object \n",
      " 70  foul_committed_type_id            1522 non-null     float64\n",
      " 71  foul_committed_type_name          1522 non-null     object \n",
      " 72  foul_won_defensive                6022 non-null     object \n",
      " 73  foul_won_advantage                3280 non-null     object \n",
      " 74  goalkeeper_type_id                25867 non-null    float64\n",
      " 75  goalkeeper_type_name              25867 non-null    object \n",
      " 76  goalkeeper_position_id            21814 non-null    float64\n",
      " 77  goalkeeper_position_name          21814 non-null    object \n",
      " 78  goalkeeper_technique_id           8448 non-null     float64\n",
      " 79  goalkeeper_technique_name         8448 non-null     object \n",
      " 80  shot_statsbomb_xg                 21837 non-null    float64\n",
      " 81  shot_key_pass_id                  15267 non-null    object \n",
      " 82  shot_first_time                   5797 non-null     object \n",
      " 83  shot_type_id                      21838 non-null    float64\n",
      " 84  shot_type_name                    21838 non-null    object \n",
      " 85  shot_technique_id                 21838 non-null    float64\n",
      " 86  shot_technique_name               21838 non-null    object \n",
      " 87  shot_one_on_one                   1344 non-null     object \n",
      " 88  substitution_replacement_id       4666 non-null     float64\n",
      " 89  substitution_replacement_name     4666 non-null     object \n",
      " 90  tactics_formation                 3203 non-null     float64\n",
      " 91  aerial_won                        20474 non-null    object \n",
      " 92  ball_recovery_offensive           321 non-null      object \n",
      " 93  dribble_nutmeg                    1168 non-null     object \n",
      " 94  off_camera                        33172 non-null    object \n",
      " 95  foul_committed_penalty            253 non-null      object \n",
      " 96  foul_won_penalty                  212 non-null      object \n",
      " 97  shot_redirect                     73 non-null       object \n",
      " 98  shot_deflected                    223 non-null      object \n",
      " 99  pass_miscommunication             553 non-null      object \n",
      " 100 foul_committed_offensive          1003 non-null     object \n",
      " 101 block_save_block                  184 non-null      object \n",
      " 102 out                               18666 non-null    float64\n",
      " 103 pass_outswinging                  1775 non-null     object \n",
      " 104 pass_inswinging                   2138 non-null     object \n",
      " 105 clearance_head                    15536 non-null    object \n",
      " 106 clearance_left_foot               5388 non-null     object \n",
      " 107 clearance_right_foot              9154 non-null     object \n",
      " 108 shot_open_goal                    256 non-null      object \n",
      " 109 pass_straight                     603 non-null      object \n",
      " 110 injury_stoppage_in_chain          330 non-null      object \n",
      " 111 shot_follows_dribble              28 non-null       object \n",
      " 112 clearance_other                   156 non-null      object \n",
      " 113 goalkeeper_punched_out            106 non-null      object \n",
      " 114 pass_no_touch                     550 non-null      object \n",
      " 115 dribble_no_touch                  93 non-null       object \n",
      " 116 goalkeeper_shot_saved_off_target  80 non-null       object \n",
      " 117 shot_saved_off_target             80 non-null       object \n",
      " 118 half_start_late_video_start       48 non-null       object \n",
      " 119 goalkeeper_shot_saved_to_post     55 non-null       object \n",
      " 120 shot_saved_to_post                49 non-null       object \n",
      " 121 goalkeeper_lost_out               11 non-null       object \n",
      " 122 player_off_permanent              8 non-null        object \n",
      " 123 goalkeeper_lost_in_play           20 non-null       object \n",
      " 124 goalkeeper_success_out            8 non-null        object \n",
      " 125 goalkeeper_success_in_play        19 non-null       object \n",
      " 126 goalkeeper_saved_to_post          2 non-null        object \n",
      " 127 half_end_early_video_end          8 non-null        object \n",
      " 128 shot_kick_off                     1 non-null        object \n",
      " 129 goalkeeper_penalty_saved_to_post  1 non-null        object \n",
      "dtypes: float64(37), int64(13), object(80)\n",
      "memory usage: 3.0+ GB\n"
     ]
    }
   ],
   "source": [
    "event_files = glob.glob(os.path.join(DATA_FOLDER, 'event_raw', '*.parquet'))\n",
    "df_event = pd.concat([pd.read_parquet(file) for file in event_files])\n",
    "df_event.to_parquet(os.path.join(DATA_FOLDER, 'event.parquet'))\n",
    "df_event.info(verbose=True, null_counts=True)"
   ]
  },
  {
   "cell_type": "markdown",
   "metadata": {},
   "source": [
    "Single dataframe shot freeze frames"
   ]
  },
  {
   "cell_type": "code",
   "execution_count": 11,
   "metadata": {},
   "outputs": [
    {
     "name": "stdout",
     "output_type": "stream",
     "text": [
      "<class 'pandas.core.frame.DataFrame'>\n",
      "Int64Index: 266478 entries, 0 to 341\n",
      "Data columns (total 10 columns):\n",
      " #   Column                Non-Null Count   Dtype  \n",
      "---  ------                --------------   -----  \n",
      " 0   id                    266478 non-null  object \n",
      " 1   event_freeze_id       266478 non-null  int64  \n",
      " 2   player_teammate       266478 non-null  bool   \n",
      " 3   player_id             266478 non-null  int64  \n",
      " 4   player_name           266478 non-null  object \n",
      " 5   player_position_id    266478 non-null  int64  \n",
      " 6   player_position_name  266478 non-null  object \n",
      " 7   x                     266478 non-null  float64\n",
      " 8   y                     266478 non-null  float64\n",
      " 9   match_id              266478 non-null  int64  \n",
      "dtypes: bool(1), float64(2), int64(4), object(3)\n",
      "memory usage: 20.6+ MB\n"
     ]
    }
   ],
   "source": [
    "freeze_files = glob.glob(os.path.join(DATA_FOLDER, 'freeze_frame_raw', '*.parquet'))\n",
    "df_freeze = pd.concat([pd.read_parquet(file) for file in freeze_files])\n",
    "df_freeze.to_parquet(os.path.join(DATA_FOLDER, 'freeze.parquet'))\n",
    "df_freeze.info()"
   ]
  },
  {
   "cell_type": "markdown",
   "metadata": {},
   "source": [
    "Single dataframe tactics"
   ]
  },
  {
   "cell_type": "code",
   "execution_count": 12,
   "metadata": {},
   "outputs": [
    {
     "name": "stdout",
     "output_type": "stream",
     "text": [
      "<class 'pandas.core.frame.DataFrame'>\n",
      "Int64Index: 35225 entries, 0 to 32\n",
      "Data columns (total 8 columns):\n",
      " #   Column                Non-Null Count  Dtype  \n",
      "---  ------                --------------  -----  \n",
      " 0   id                    35225 non-null  object \n",
      " 1   event_tactics_id      35225 non-null  int64  \n",
      " 2   player_jersey_number  35221 non-null  float64\n",
      " 3   player_id             35225 non-null  int64  \n",
      " 4   player_name           35225 non-null  object \n",
      " 5   player_position_id    35225 non-null  int64  \n",
      " 6   player_position_name  35225 non-null  object \n",
      " 7   match_id              35225 non-null  int64  \n",
      "dtypes: float64(1), int64(4), object(3)\n",
      "memory usage: 2.4+ MB\n"
     ]
    }
   ],
   "source": [
    "tactic_files = glob.glob(os.path.join(DATA_FOLDER, 'tactic_raw', '*.parquet'))\n",
    "df_tactic = pd.concat([pd.read_parquet(file) for file in tactic_files])\n",
    "df_tactic.to_parquet(os.path.join(DATA_FOLDER, 'tactic.parquet'))\n",
    "df_tactic.info()"
   ]
  },
  {
   "cell_type": "markdown",
   "metadata": {},
   "source": [
    "Single dataframe related events"
   ]
  },
  {
   "cell_type": "code",
   "execution_count": 13,
   "metadata": {},
   "outputs": [
    {
     "name": "stdout",
     "output_type": "stream",
     "text": [
      "<class 'pandas.core.frame.DataFrame'>\n",
      "Int64Index: 5941216 entries, 0 to 7467\n",
      "Data columns (total 7 columns):\n",
      " #   Column             Non-Null Count    Dtype \n",
      "---  ------             --------------    ----- \n",
      " 0   id                 5941216 non-null  object\n",
      " 1   id_related         5941216 non-null  object\n",
      " 2   type_name          5941216 non-null  object\n",
      " 3   index              5941216 non-null  int64 \n",
      " 4   type_name_related  5941216 non-null  object\n",
      " 5   index_related      5941216 non-null  int64 \n",
      " 6   match_id           5941216 non-null  int64 \n",
      "dtypes: int64(3), object(4)\n",
      "memory usage: 362.6+ MB\n"
     ]
    }
   ],
   "source": [
    "related_files = glob.glob(os.path.join(DATA_FOLDER, 'related_event_raw', '*.parquet'))\n",
    "df_related = pd.concat([pd.read_parquet(file) for file in related_files])\n",
    "df_related.to_parquet(os.path.join(DATA_FOLDER, 'related.parquet'))\n",
    "df_related.info(verbose=True, null_counts=True)"
   ]
  }
 ],
 "metadata": {
  "kernelspec": {
   "display_name": "Python 3",
   "language": "python",
   "name": "python3"
  },
  "language_info": {
   "codemirror_mode": {
    "name": "ipython",
    "version": 3
   },
   "file_extension": ".py",
   "mimetype": "text/x-python",
   "name": "python",
   "nbconvert_exporter": "python",
   "pygments_lexer": "ipython3",
   "version": "3.8.3"
  }
 },
 "nbformat": 4,
 "nbformat_minor": 2
}
