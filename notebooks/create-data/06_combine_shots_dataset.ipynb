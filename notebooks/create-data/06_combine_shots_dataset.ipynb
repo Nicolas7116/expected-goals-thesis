{
 "cells": [
  {
   "cell_type": "code",
   "execution_count": 1,
   "metadata": {},
   "outputs": [],
   "source": [
    "import os\n",
    "import pandas as pd\n",
    "import fuzzymatcher\n",
    "from mplsoccer.pitch import Pitch\n",
    "import numpy as np"
   ]
  },
  {
   "cell_type": "markdown",
   "metadata": {},
   "source": [
    "Load the data"
   ]
  },
  {
   "cell_type": "code",
   "execution_count": 2,
   "metadata": {},
   "outputs": [],
   "source": [
    "STATSBOMB_SHOTS = os.path.join('..', '..', 'data', 'statsbomb', 'shots.parquet')\n",
    "WYSCOUT_SHOTS = os.path.join('..', '..', 'data', 'wyscout', 'shots.parquet')\n",
    "FREEZE_FEATURES = os.path.join('..', '..', 'data', 'statsbomb', 'freeze_features.parquet')\n",
    "df_statsbomb_shots = pd.read_parquet(STATSBOMB_SHOTS)\n",
    "df_wyscout_shots = pd.read_parquet(WYSCOUT_SHOTS)\n",
    "df_freeze_frame = pd.read_parquet(FREEZE_FEATURES)"
   ]
  },
  {
   "cell_type": "markdown",
   "metadata": {},
   "source": [
    "Remove three shots without player info"
   ]
  },
  {
   "cell_type": "code",
   "execution_count": 3,
   "metadata": {},
   "outputs": [],
   "source": [
    "df_wyscout_shots = df_wyscout_shots[df_wyscout_shots.player_id.notnull()].copy()"
   ]
  },
  {
   "cell_type": "markdown",
   "metadata": {},
   "source": [
    "Get a unique team id by combining the datasets and using a fuzzy match on team name"
   ]
  },
  {
   "cell_type": "code",
   "execution_count": 4,
   "metadata": {},
   "outputs": [],
   "source": [
    "cols = ['team_id', 'team_name', 'competition_gender']\n",
    "a = df_wyscout_shots[cols].drop_duplicates('team_id', keep='last').rename({'team_id': 'wyscout_team_id'}, axis=1).copy()\n",
    "b = df_statsbomb_shots[cols].drop_duplicates('team_id', keep='last').rename({'team_id': 'statsbomb_team_id'}, axis=1).copy()\n",
    "team_match = fuzzymatcher.fuzzy_left_join(a,\n",
    "                                          b,\n",
    "                                          left_on=['team_name', 'competition_gender'],\n",
    "                                          right_on=['team_name', 'competition_gender'],\n",
    "                                          left_id_col='wyscout_team_id',\n",
    "                                          right_id_col='statsbomb_team_id')\n",
    "team_match = team_match[(team_match.best_match_score > 0.02) & (team_match.competition_gender_right == 'male')].copy()\n",
    "team_match = (team_match[['wyscout_team_id', 'statsbomb_team_id', 'competition_gender_right', 'team_name_right']]\n",
    "              .rename({'team_name_right': 'team_name', 'competition_gender_right': 'competition_gender'}, axis=1)\n",
    "              .copy())\n",
    "df_team = pd.concat([a[~a.wyscout_team_id.isin(team_match.wyscout_team_id)],\n",
    "                     b[~b.statsbomb_team_id.isin(team_match.statsbomb_team_id)],\n",
    "                     team_match])\n",
    "df_team.reset_index(drop=True, inplace=True)\n",
    "df_team.index.name = 'team_id'\n",
    "df_team.reset_index(inplace=True)"
   ]
  },
  {
   "cell_type": "markdown",
   "metadata": {},
   "source": [
    "Add the unique team_id/ name to the datasets"
   ]
  },
  {
   "cell_type": "code",
   "execution_count": 5,
   "metadata": {},
   "outputs": [],
   "source": [
    "# wyscout\n",
    "a = df_team[['team_id', 'wyscout_team_id', 'team_name']].copy()\n",
    "df_wyscout_shots.rename({'team_id': 'wyscout_team_id'}, axis=1, inplace=True)\n",
    "df_wyscout_shots.drop('team_name', axis=1, inplace=True)\n",
    "df_wyscout_shots = df_wyscout_shots.merge(a, how='left', on='wyscout_team_id')\n",
    "# statsbomb\n",
    "b = df_team[['team_id', 'statsbomb_team_id', 'team_name']].copy()\n",
    "df_statsbomb_shots.rename({'team_id': 'statsbomb_team_id'}, axis=1, inplace=True)\n",
    "df_statsbomb_shots.drop('team_name', axis=1, inplace=True)\n",
    "df_statsbomb_shots = df_statsbomb_shots.merge(b, how='left', on='statsbomb_team_id')"
   ]
  },
  {
   "cell_type": "markdown",
   "metadata": {},
   "source": [
    "Get a unique player id"
   ]
  },
  {
   "cell_type": "code",
   "execution_count": 6,
   "metadata": {},
   "outputs": [],
   "source": [
    "# get a dataframe of statsbomb players\n",
    "cols = ['player_id', 'team_id', 'team_name', 'firstName', 'middleName', 'lastName', 'Name', 'competition_gender']\n",
    "statsbomb_players = df_statsbomb_shots[cols].drop_duplicates('player_id').copy()\n",
    "statsbomb_players.rename({'player_id': 'player_id_statsbomb'}, axis=1, inplace=True)\n",
    "# get a dataframe of wyscout players\n",
    "wyscout_players = df_wyscout_shots[cols].drop_duplicates('player_id').copy()\n",
    "wyscout_players.rename({'player_id': 'player_id_wyscout'}, axis=1, inplace=True)"
   ]
  },
  {
   "cell_type": "code",
   "execution_count": 7,
   "metadata": {},
   "outputs": [
    {
     "name": "stdout",
     "output_type": "stream",
     "text": [
      "Check no duplicates: 0 0\n"
     ]
    }
   ],
   "source": [
    "# merge the two datasets: exact match on names\n",
    "exact_match = wyscout_players.merge(statsbomb_players, how='inner', \n",
    "                                    on=['firstName', 'middleName', 'lastName', 'Name'],\n",
    "                                    suffixes=['_wyscout', '_statsbomb'])\n",
    "print('Check no duplicates:', exact_match.player_id_wyscout.duplicated().sum(), \n",
    "      exact_match.player_id_statsbomb.duplicated().sum())\n",
    "exact_match = exact_match[['player_id_wyscout', 'player_id_statsbomb', 'firstName', 'middleName', 'lastName', 'Name']].copy()"
   ]
  },
  {
   "cell_type": "code",
   "execution_count": 8,
   "metadata": {},
   "outputs": [],
   "source": [
    "# for the unmatched use a fuzzy match to match on names\n",
    "not_matched_statsbomb = statsbomb_players[~statsbomb_players.player_id_statsbomb.isin(exact_match.player_id_statsbomb)].copy()\n",
    "not_matched_wyscout = wyscout_players[~wyscout_players.player_id_wyscout.isin(exact_match.player_id_wyscout)].copy()\n",
    "fuzzy_match = fuzzymatcher.fuzzy_left_join(not_matched_wyscout,\n",
    "                                           not_matched_statsbomb,\n",
    "                                           left_on=['Name'],\n",
    "                                           right_on=['Name'],\n",
    "                                           left_id_col='player_id_wyscout',\n",
    "                                           right_id_col='player_id_statsbomb')\n",
    "fuzzy_match.sort_values('best_match_score', ascending=False, inplace=True)\n",
    "fuzzy_match.drop_duplicates('player_id_wyscout', keep='first', inplace=True)\n",
    "fuzzy_match.drop_duplicates('player_id_statsbomb', keep='first', inplace=True)\n",
    "# drop some dodgy matches just above the threshold (hand checked)\n",
    "fuzzy_match = fuzzy_match[(fuzzy_match.best_match_score > 0.25)  & \n",
    "                          (fuzzy_match.competition_gender_left == fuzzy_match.competition_gender_right) & \n",
    "                          (~fuzzy_match.player_id_statsbomb.isin([23804, 40366, 40257]))].copy()"
   ]
  },
  {
   "cell_type": "code",
   "execution_count": 9,
   "metadata": {},
   "outputs": [],
   "source": [
    "# concatenate all the matches\n",
    "fuzzy_match = fuzzy_match[['player_id_wyscout', 'player_id_statsbomb', 'firstName_right',\n",
    "                           'middleName_right', 'lastName_right', 'Name_right']].copy()\n",
    "fuzzy_match.rename({'firstName_right': 'firstName', 'middleName_right': 'middleName',\n",
    "                    'lastName_right': 'lastName', 'Name_right': 'Name'}, axis=1, inplace=True)\n",
    "matches = pd.concat([fuzzy_match, exact_match])\n",
    "# add the non-matches\n",
    "not_matched_wyscout = wyscout_players[~wyscout_players.player_id_wyscout.isin(matches.player_id_wyscout)].copy()\n",
    "not_matched_statsbomb = statsbomb_players[~statsbomb_players.player_id_statsbomb.isin(matches.player_id_statsbomb)].copy()\n",
    "all_players = pd.concat([matches, not_matched_wyscout, not_matched_statsbomb])\n",
    "all_players.drop(['team_id', 'team_name', 'competition_gender'], axis=1, inplace=True)\n",
    "all_players.reset_index(drop=True, inplace=True)\n",
    "all_players.index.name = 'player_id'\n",
    "all_players.reset_index(inplace=True)"
   ]
  },
  {
   "cell_type": "markdown",
   "metadata": {},
   "source": [
    "Add unique player id/ Names to datasets"
   ]
  },
  {
   "cell_type": "code",
   "execution_count": 10,
   "metadata": {},
   "outputs": [],
   "source": [
    "# merge statsbomb\n",
    "df_statsbomb_shots.drop(['firstName', 'middleName', 'lastName', 'Name'], axis=1, inplace=True)\n",
    "df_statsbomb_shots.rename({'player_id': 'player_id_statsbomb'}, axis=1, inplace=True)\n",
    "df_statsbomb_shots = df_statsbomb_shots.merge(all_players.drop('player_id_wyscout', axis=1),\n",
    "                                              on='player_id_statsbomb', how='left')\n",
    "# merge wyscout\n",
    "df_wyscout_shots.drop(['firstName', 'middleName', 'lastName', 'Name'], axis=1, inplace=True)\n",
    "df_wyscout_shots.rename({'player_id': 'player_id_wyscout'}, axis=1, inplace=True)\n",
    "df_wyscout_shots = df_wyscout_shots.merge(all_players.drop('player_id_statsbomb', axis=1),\n",
    "                                          on='player_id_wyscout', how='left')"
   ]
  },
  {
   "cell_type": "markdown",
   "metadata": {},
   "source": [
    "Merge freeze frame features"
   ]
  },
  {
   "cell_type": "code",
   "execution_count": 11,
   "metadata": {},
   "outputs": [],
   "source": [
    "df_statsbomb_shots = df_statsbomb_shots.merge(df_freeze_frame, on='id', how='left')"
   ]
  },
  {
   "cell_type": "markdown",
   "metadata": {},
   "source": [
    "Concatenate shot datasets"
   ]
  },
  {
   "cell_type": "code",
   "execution_count": 12,
   "metadata": {},
   "outputs": [],
   "source": [
    "df_statsbomb_shots['dataset'] = 'statsbomb'\n",
    "df_wyscout_shots.rename({'id': 'wyscout_id'}, axis=1, inplace=True)\n",
    "df_wyscout_shots['dataset'] = 'wyscout'\n",
    "df_statsbomb_shots.rename({'id': 'statsbomb_id'}, axis=1, inplace=True)\n",
    "df_all_shots = pd.concat([df_statsbomb_shots, df_wyscout_shots], axis=0)"
   ]
  },
  {
   "cell_type": "markdown",
   "metadata": {},
   "source": [
    "Pass technique name to 'other' if null"
   ]
  },
  {
   "cell_type": "code",
   "execution_count": 13,
   "metadata": {},
   "outputs": [],
   "source": [
    "df_all_shots.loc[(df_all_shots.pass_technique_name.isnull()) &\n",
    "                 (df_all_shots.assist_type == 'pass'), 'pass_technique_name'] = 'other'"
   ]
  },
  {
   "cell_type": "markdown",
   "metadata": {},
   "source": [
    "Save dataset"
   ]
  },
  {
   "cell_type": "code",
   "execution_count": 14,
   "metadata": {},
   "outputs": [],
   "source": [
    "df_all_shots.reset_index(drop=True, inplace=True)"
   ]
  },
  {
   "cell_type": "code",
   "execution_count": 15,
   "metadata": {},
   "outputs": [],
   "source": [
    "df_all_shots.to_parquet(os.path.join('..', '..', 'data', 'shots.parquet'))"
   ]
  },
  {
   "cell_type": "markdown",
   "metadata": {},
   "source": [
    "Info"
   ]
  },
  {
   "cell_type": "code",
   "execution_count": 16,
   "metadata": {},
   "outputs": [
    {
     "name": "stdout",
     "output_type": "stream",
     "text": [
      "<class 'pandas.core.frame.DataFrame'>\n",
      "RangeIndex: 64396 entries, 0 to 64395\n",
      "Data columns (total 46 columns):\n",
      " #   Column                  Non-Null Count  Dtype  \n",
      "---  ------                  --------------  -----  \n",
      " 0   match_id                64396 non-null  int64  \n",
      " 1   statsbomb_id            21532 non-null  object \n",
      " 2   goal                    64396 non-null  bool   \n",
      " 3   statsbomb_team_id       21532 non-null  float64\n",
      " 4   player_id_statsbomb     21532 non-null  float64\n",
      " 5   shot_type_name          64396 non-null  object \n",
      " 6   x                       64396 non-null  float64\n",
      " 7   y                       64396 non-null  float64\n",
      " 8   counter_attack          64396 non-null  bool   \n",
      " 9   fast_break              64396 non-null  bool   \n",
      " 10  strong_foot             64396 non-null  bool   \n",
      " 11  body_part_name          64396 non-null  object \n",
      " 12  assist_type             64396 non-null  object \n",
      " 13  pass_end_y              15291 non-null  float64\n",
      " 14  pass_end_x              15291 non-null  float64\n",
      " 15  pass_switch             43836 non-null  object \n",
      " 16  pass_cross              43836 non-null  object \n",
      " 17  pass_cut_back           43836 non-null  object \n",
      " 18  pass_height_name        43836 non-null  object \n",
      " 19  pass_technique_name     43836 non-null  object \n",
      " 20  carry_length            15291 non-null  float64\n",
      " 21  visible_angle           64396 non-null  float64\n",
      " 22  middle_angle            64396 non-null  float64\n",
      " 23  distance_to_goal        64396 non-null  float64\n",
      " 24  distance_visible_angle  64396 non-null  float64\n",
      " 25  log_distance_to_goal    64396 non-null  float64\n",
      " 26  competition_gender      64396 non-null  object \n",
      " 27  shot_one_on_one         21532 non-null  object \n",
      " 28  shot_open_goal          21532 non-null  object \n",
      " 29  under_pressure          21532 non-null  object \n",
      " 30  team_id                 64396 non-null  int64  \n",
      " 31  team_name               64396 non-null  object \n",
      " 32  player_id               64396 non-null  int64  \n",
      " 33  firstName               64396 non-null  object \n",
      " 34  middleName              64396 non-null  object \n",
      " 35  lastName                64396 non-null  object \n",
      " 36  Name                    64396 non-null  object \n",
      " 37  area_shot               21192 non-null  float64\n",
      " 38  area_goal               21192 non-null  float64\n",
      " 39  n_angle                 21192 non-null  float64\n",
      " 40  goalkeeper_x            21134 non-null  float64\n",
      " 41  goalkeeper_y            21134 non-null  float64\n",
      " 42  dataset                 64396 non-null  object \n",
      " 43  wyscout_id              42864 non-null  float64\n",
      " 44  wyscout_team_id         42864 non-null  float64\n",
      " 45  player_id_wyscout       42864 non-null  float64\n",
      "dtypes: bool(4), float64(20), int64(3), object(19)\n",
      "memory usage: 20.9+ MB\n"
     ]
    }
   ],
   "source": [
    "df_all_shots.info()"
   ]
  },
  {
   "cell_type": "markdown",
   "metadata": {},
   "source": [
    "Compare datasets"
   ]
  },
  {
   "cell_type": "code",
   "execution_count": 17,
   "metadata": {},
   "outputs": [
    {
     "data": {
      "text/plain": [
       "Text(0.5, 1.0, 'Wyscout')"
      ]
     },
     "execution_count": 17,
     "metadata": {},
     "output_type": "execute_result"
    },
    {
     "data": {
      "image/png": "[encoded data removed]",
      "text/plain": [
       "<Figure size 1152x864 with 2 Axes>"
      ]
     },
     "metadata": {},
     "output_type": "display_data"
    }
   ],
   "source": [
    "pitch = Pitch(pitch_type='statsperform', figsize=(16, 12), layout=(1, 2), pad_left=-10, pad_right=-10, pad_bottom=-10,\n",
    "              orientation='vertical', view='half', line_zorder=2)\n",
    "fig, ax = pitch.draw()\n",
    "ax = ax.ravel()\n",
    "bs = pitch.bin_statistic(df_all_shots[df_all_shots.dataset=='statsbomb'].x,\n",
    "                         df_all_shots[df_all_shots.dataset=='statsbomb'].y, \n",
    "                         statistic='count', bins=(30, 20))\n",
    "bs['statistic'] = (bs['statistic']).astype(np.int32)\n",
    "pcm = pitch.heatmap(bs, ax=ax[0], cmap='hot', edgecolors='#22312b')\n",
    "ax[0].set_title('StatsBomb', fontsize=15, pad=-4)\n",
    "bs = pitch.bin_statistic(df_all_shots[df_all_shots.dataset=='wyscout'].x,\n",
    "                         df_all_shots[df_all_shots.dataset=='wyscout'].y,\n",
    "                         statistic='count', bins=(30, 20))\n",
    "bs['statistic'] = (bs['statistic']).astype(np.int32)\n",
    "pcm = pitch.heatmap(bs, ax=ax[1], cmap='hot', edgecolors='#22312b')\n",
    "ax[1].set_title('Wyscout', fontsize=15, pad=-4)"
   ]
  },
  {
   "cell_type": "code",
   "execution_count": 18,
   "metadata": {},
   "outputs": [
    {
     "data": {
      "text/plain": [
       "dataset\n",
       "statsbomb    0.033439\n",
       "wyscout      0.042063\n",
       "Name: fast_break, dtype: float64"
      ]
     },
     "execution_count": 18,
     "metadata": {},
     "output_type": "execute_result"
    }
   ],
   "source": [
    "df_all_shots.groupby('dataset').fast_break.mean()"
   ]
  },
  {
   "cell_type": "code",
   "execution_count": 19,
   "metadata": {},
   "outputs": [
    {
     "data": {
      "text/plain": [
       "dataset\n",
       "statsbomb    0.047278\n",
       "wyscout      0.052398\n",
       "Name: counter_attack, dtype: float64"
      ]
     },
     "execution_count": 19,
     "metadata": {},
     "output_type": "execute_result"
    }
   ],
   "source": [
    "df_all_shots.groupby('dataset').counter_attack.mean()"
   ]
  },
  {
   "cell_type": "code",
   "execution_count": 20,
   "metadata": {},
   "outputs": [
    {
     "data": {
      "text/html": [
       "<div>\n",
       "<style scoped>\n",
       "    .dataframe tbody tr th:only-of-type {\n",
       "        vertical-align: middle;\n",
       "    }\n",
       "\n",
       "    .dataframe tbody tr th {\n",
       "        vertical-align: top;\n",
       "    }\n",
       "\n",
       "    .dataframe thead th {\n",
       "        text-align: right;\n",
       "    }\n",
       "</style>\n",
       "<table border=\"1\" class=\"dataframe\">\n",
       "  <thead>\n",
       "    <tr style=\"text-align: right;\">\n",
       "      <th></th>\n",
       "      <th>count</th>\n",
       "      <th>mean</th>\n",
       "      <th>std</th>\n",
       "      <th>min</th>\n",
       "      <th>25%</th>\n",
       "      <th>50%</th>\n",
       "      <th>75%</th>\n",
       "      <th>max</th>\n",
       "    </tr>\n",
       "    <tr>\n",
       "      <th>dataset</th>\n",
       "      <th></th>\n",
       "      <th></th>\n",
       "      <th></th>\n",
       "      <th></th>\n",
       "      <th></th>\n",
       "      <th></th>\n",
       "      <th></th>\n",
       "      <th></th>\n",
       "    </tr>\n",
       "  </thead>\n",
       "  <tbody>\n",
       "    <tr>\n",
       "      <th>statsbomb</th>\n",
       "      <td>21532.0</td>\n",
       "      <td>0.467126</td>\n",
       "      <td>0.299570</td>\n",
       "      <td>0.0</td>\n",
       "      <td>0.274155</td>\n",
       "      <td>0.361681</td>\n",
       "      <td>0.564675</td>\n",
       "      <td>3.141593</td>\n",
       "    </tr>\n",
       "    <tr>\n",
       "      <th>wyscout</th>\n",
       "      <td>42864.0</td>\n",
       "      <td>0.406009</td>\n",
       "      <td>0.251117</td>\n",
       "      <td>0.0</td>\n",
       "      <td>0.246501</td>\n",
       "      <td>0.318814</td>\n",
       "      <td>0.492907</td>\n",
       "      <td>3.141593</td>\n",
       "    </tr>\n",
       "  </tbody>\n",
       "</table>\n",
       "</div>"
      ],
      "text/plain": [
       "             count      mean       std  min       25%       50%       75%  \\\n",
       "dataset                                                                     \n",
       "statsbomb  21532.0  0.467126  0.299570  0.0  0.274155  0.361681  0.564675   \n",
       "wyscout    42864.0  0.406009  0.251117  0.0  0.246501  0.318814  0.492907   \n",
       "\n",
       "                max  \n",
       "dataset              \n",
       "statsbomb  3.141593  \n",
       "wyscout    3.141593  "
      ]
     },
     "execution_count": 20,
     "metadata": {},
     "output_type": "execute_result"
    }
   ],
   "source": [
    "df_all_shots.groupby('dataset').visible_angle.describe()"
   ]
  },
  {
   "cell_type": "code",
   "execution_count": 21,
   "metadata": {},
   "outputs": [
    {
     "data": {
      "text/html": [
       "<div>\n",
       "<style scoped>\n",
       "    .dataframe tbody tr th:only-of-type {\n",
       "        vertical-align: middle;\n",
       "    }\n",
       "\n",
       "    .dataframe tbody tr th {\n",
       "        vertical-align: top;\n",
       "    }\n",
       "\n",
       "    .dataframe thead th {\n",
       "        text-align: right;\n",
       "    }\n",
       "</style>\n",
       "<table border=\"1\" class=\"dataframe\">\n",
       "  <thead>\n",
       "    <tr style=\"text-align: right;\">\n",
       "      <th></th>\n",
       "      <th>count</th>\n",
       "      <th>mean</th>\n",
       "      <th>std</th>\n",
       "      <th>min</th>\n",
       "      <th>25%</th>\n",
       "      <th>50%</th>\n",
       "      <th>75%</th>\n",
       "      <th>max</th>\n",
       "    </tr>\n",
       "    <tr>\n",
       "      <th>dataset</th>\n",
       "      <th></th>\n",
       "      <th></th>\n",
       "      <th></th>\n",
       "      <th></th>\n",
       "      <th></th>\n",
       "      <th></th>\n",
       "      <th></th>\n",
       "      <th></th>\n",
       "    </tr>\n",
       "  </thead>\n",
       "  <tbody>\n",
       "    <tr>\n",
       "      <th>statsbomb</th>\n",
       "      <td>21532.0</td>\n",
       "      <td>0.492256</td>\n",
       "      <td>0.328711</td>\n",
       "      <td>0.0</td>\n",
       "      <td>0.223218</td>\n",
       "      <td>0.452154</td>\n",
       "      <td>0.721041</td>\n",
       "      <td>1.570796</td>\n",
       "    </tr>\n",
       "    <tr>\n",
       "      <th>wyscout</th>\n",
       "      <td>42864.0</td>\n",
       "      <td>0.480124</td>\n",
       "      <td>0.312013</td>\n",
       "      <td>0.0</td>\n",
       "      <td>0.227296</td>\n",
       "      <td>0.452154</td>\n",
       "      <td>0.691294</td>\n",
       "      <td>1.570796</td>\n",
       "    </tr>\n",
       "  </tbody>\n",
       "</table>\n",
       "</div>"
      ],
      "text/plain": [
       "             count      mean       std  min       25%       50%       75%  \\\n",
       "dataset                                                                     \n",
       "statsbomb  21532.0  0.492256  0.328711  0.0  0.223218  0.452154  0.721041   \n",
       "wyscout    42864.0  0.480124  0.312013  0.0  0.227296  0.452154  0.691294   \n",
       "\n",
       "                max  \n",
       "dataset              \n",
       "statsbomb  1.570796  \n",
       "wyscout    1.570796  "
      ]
     },
     "execution_count": 21,
     "metadata": {},
     "output_type": "execute_result"
    }
   ],
   "source": [
    "df_all_shots.groupby('dataset').middle_angle.describe()"
   ]
  },
  {
   "cell_type": "code",
   "execution_count": 22,
   "metadata": {},
   "outputs": [
    {
     "data": {
      "text/html": [
       "<div>\n",
       "<style scoped>\n",
       "    .dataframe tbody tr th:only-of-type {\n",
       "        vertical-align: middle;\n",
       "    }\n",
       "\n",
       "    .dataframe tbody tr th {\n",
       "        vertical-align: top;\n",
       "    }\n",
       "\n",
       "    .dataframe thead th {\n",
       "        text-align: right;\n",
       "    }\n",
       "</style>\n",
       "<table border=\"1\" class=\"dataframe\">\n",
       "  <thead>\n",
       "    <tr style=\"text-align: right;\">\n",
       "      <th></th>\n",
       "      <th>count</th>\n",
       "      <th>mean</th>\n",
       "      <th>std</th>\n",
       "      <th>min</th>\n",
       "      <th>25%</th>\n",
       "      <th>50%</th>\n",
       "      <th>75%</th>\n",
       "      <th>max</th>\n",
       "    </tr>\n",
       "    <tr>\n",
       "      <th>dataset</th>\n",
       "      <th></th>\n",
       "      <th></th>\n",
       "      <th></th>\n",
       "      <th></th>\n",
       "      <th></th>\n",
       "      <th></th>\n",
       "      <th></th>\n",
       "      <th></th>\n",
       "    </tr>\n",
       "  </thead>\n",
       "  <tbody>\n",
       "    <tr>\n",
       "      <th>statsbomb</th>\n",
       "      <td>21532.0</td>\n",
       "      <td>16.738719</td>\n",
       "      <td>7.780551</td>\n",
       "      <td>0.6</td>\n",
       "      <td>10.6</td>\n",
       "      <td>15.9</td>\n",
       "      <td>22.3</td>\n",
       "      <td>70.8</td>\n",
       "    </tr>\n",
       "    <tr>\n",
       "      <th>wyscout</th>\n",
       "      <td>42864.0</td>\n",
       "      <td>19.029785</td>\n",
       "      <td>8.380983</td>\n",
       "      <td>0.7</td>\n",
       "      <td>12.6</td>\n",
       "      <td>17.8</td>\n",
       "      <td>25.6</td>\n",
       "      <td>75.4</td>\n",
       "    </tr>\n",
       "  </tbody>\n",
       "</table>\n",
       "</div>"
      ],
      "text/plain": [
       "             count       mean       std  min   25%   50%   75%   max\n",
       "dataset                                                             \n",
       "statsbomb  21532.0  16.738719  7.780551  0.6  10.6  15.9  22.3  70.8\n",
       "wyscout    42864.0  19.029785  8.380983  0.7  12.6  17.8  25.6  75.4"
      ]
     },
     "execution_count": 22,
     "metadata": {},
     "output_type": "execute_result"
    }
   ],
   "source": [
    "df_all_shots.groupby('dataset').distance_to_goal.describe()"
   ]
  },
  {
   "cell_type": "code",
   "execution_count": 23,
   "metadata": {},
   "outputs": [
    {
     "data": {
      "text/html": [
       "<div>\n",
       "<style scoped>\n",
       "    .dataframe tbody tr th:only-of-type {\n",
       "        vertical-align: middle;\n",
       "    }\n",
       "\n",
       "    .dataframe tbody tr th {\n",
       "        vertical-align: top;\n",
       "    }\n",
       "\n",
       "    .dataframe thead th {\n",
       "        text-align: right;\n",
       "    }\n",
       "</style>\n",
       "<table border=\"1\" class=\"dataframe\">\n",
       "  <thead>\n",
       "    <tr style=\"text-align: right;\">\n",
       "      <th></th>\n",
       "      <th>count</th>\n",
       "      <th>mean</th>\n",
       "      <th>std</th>\n",
       "      <th>min</th>\n",
       "      <th>25%</th>\n",
       "      <th>50%</th>\n",
       "      <th>75%</th>\n",
       "      <th>max</th>\n",
       "    </tr>\n",
       "    <tr>\n",
       "      <th>dataset</th>\n",
       "      <th></th>\n",
       "      <th></th>\n",
       "      <th></th>\n",
       "      <th></th>\n",
       "      <th></th>\n",
       "      <th></th>\n",
       "      <th></th>\n",
       "      <th></th>\n",
       "    </tr>\n",
       "  </thead>\n",
       "  <tbody>\n",
       "    <tr>\n",
       "      <th>statsbomb</th>\n",
       "      <td>21532.0</td>\n",
       "      <td>6.097156</td>\n",
       "      <td>1.152958</td>\n",
       "      <td>0.0</td>\n",
       "      <td>5.602725</td>\n",
       "      <td>6.448973</td>\n",
       "      <td>6.956443</td>\n",
       "      <td>9.738937</td>\n",
       "    </tr>\n",
       "    <tr>\n",
       "      <th>wyscout</th>\n",
       "      <td>42864.0</td>\n",
       "      <td>6.169209</td>\n",
       "      <td>1.092615</td>\n",
       "      <td>0.0</td>\n",
       "      <td>5.705352</td>\n",
       "      <td>6.505071</td>\n",
       "      <td>6.992008</td>\n",
       "      <td>7.316065</td>\n",
       "    </tr>\n",
       "  </tbody>\n",
       "</table>\n",
       "</div>"
      ],
      "text/plain": [
       "             count      mean       std  min       25%       50%       75%  \\\n",
       "dataset                                                                     \n",
       "statsbomb  21532.0  6.097156  1.152958  0.0  5.602725  6.448973  6.956443   \n",
       "wyscout    42864.0  6.169209  1.092615  0.0  5.705352  6.505071  6.992008   \n",
       "\n",
       "                max  \n",
       "dataset              \n",
       "statsbomb  9.738937  \n",
       "wyscout    7.316065  "
      ]
     },
     "execution_count": 23,
     "metadata": {},
     "output_type": "execute_result"
    }
   ],
   "source": [
    "df_all_shots.groupby('dataset').distance_visible_angle.describe()"
   ]
  },
  {
   "cell_type": "code",
   "execution_count": 24,
   "metadata": {},
   "outputs": [
    {
     "data": {
      "text/plain": [
       "dataset    pass_switch\n",
       "statsbomb  False          14307\n",
       "           True             984\n",
       "wyscout    False          26483\n",
       "           True            2062\n",
       "Name: pass_switch, dtype: int64"
      ]
     },
     "execution_count": 24,
     "metadata": {},
     "output_type": "execute_result"
    }
   ],
   "source": [
    "df_all_shots.groupby('dataset').pass_switch.value_counts()"
   ]
  },
  {
   "cell_type": "code",
   "execution_count": 25,
   "metadata": {},
   "outputs": [
    {
     "data": {
      "text/plain": [
       "dataset    pass_cut_back\n",
       "statsbomb  False            14887\n",
       "           True               404\n",
       "wyscout    False            27597\n",
       "           True               948\n",
       "Name: pass_cut_back, dtype: int64"
      ]
     },
     "execution_count": 25,
     "metadata": {},
     "output_type": "execute_result"
    }
   ],
   "source": [
    "df_all_shots.groupby('dataset').pass_cut_back.value_counts()"
   ]
  },
  {
   "cell_type": "code",
   "execution_count": 26,
   "metadata": {},
   "outputs": [
    {
     "data": {
      "text/plain": [
       "dataset    pass_cross\n",
       "statsbomb  False         12360\n",
       "           True           2931\n",
       "wyscout    False         21182\n",
       "           True           7363\n",
       "Name: pass_cross, dtype: int64"
      ]
     },
     "execution_count": 26,
     "metadata": {},
     "output_type": "execute_result"
    }
   ],
   "source": [
    "df_all_shots.groupby('dataset').pass_cross.value_counts()"
   ]
  }
 ],
 "metadata": {
  "kernelspec": {
   "display_name": "Python 3",
   "language": "python",
   "name": "python3"
  },
  "language_info": {
   "codemirror_mode": {
    "name": "ipython",
    "version": 3
   },
   "file_extension": ".py",
   "mimetype": "text/x-python",
   "name": "python",
   "nbconvert_exporter": "python",
   "pygments_lexer": "ipython3",
   "version": "3.7.7"
  }
 },
 "nbformat": 4,
 "nbformat_minor": 4
}
