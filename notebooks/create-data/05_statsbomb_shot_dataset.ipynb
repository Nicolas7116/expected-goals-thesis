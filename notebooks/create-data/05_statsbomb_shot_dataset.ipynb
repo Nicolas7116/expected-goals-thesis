{
 "cells": [
  {
   "cell_type": "code",
   "execution_count": 1,
   "metadata": {},
   "outputs": [],
   "source": [
    "import pandas as pd\n",
    "import numpy as np\n",
    "import os\n",
    "import matplotlib.pyplot as plt\n",
    "from mplsoccer import Standardizer\n",
    "from mplsoccer.dimensions import create_pitch_dims"
   ]
  },
  {
   "cell_type": "markdown",
   "metadata": {},
   "source": [
    "Load the data"
   ]
  },
  {
   "cell_type": "code",
   "execution_count": 2,
   "metadata": {},
   "outputs": [],
   "source": [
    "STATSBOMB = os.path.join('..', '..', 'data', 'statsbomb')"
   ]
  },
  {
   "cell_type": "code",
   "execution_count": 3,
   "metadata": {},
   "outputs": [],
   "source": [
    "df_statsbomb_match = pd.read_parquet(os.path.join(STATSBOMB, 'match.parquet'))"
   ]
  },
  {
   "cell_type": "code",
   "execution_count": 4,
   "metadata": {},
   "outputs": [],
   "source": [
    "df_statsbomb_related = pd.read_parquet(os.path.join(STATSBOMB, 'related.parquet'))"
   ]
  },
  {
   "cell_type": "code",
   "execution_count": 5,
   "metadata": {},
   "outputs": [],
   "source": [
    "df_statsbomb_event = pd.read_parquet(os.path.join(STATSBOMB, 'event.parquet'))"
   ]
  },
  {
   "cell_type": "code",
   "execution_count": 6,
   "metadata": {},
   "outputs": [],
   "source": [
    "df_statsbomb_lineup = pd.read_parquet(os.path.join(STATSBOMB, 'lineup.parquet'))\n",
    "df_statsbomb_lineup = df_statsbomb_lineup[['player_id', 'country_name']].copy()\n",
    "df_statsbomb_lineup.drop_duplicates('player_id', inplace=True)"
   ]
  },
  {
   "cell_type": "markdown",
   "metadata": {},
   "source": [
    "Standardize coordinates"
   ]
  },
  {
   "cell_type": "code",
   "execution_count": 7,
   "metadata": {},
   "outputs": [],
   "source": [
    "standard = Standardizer(pitch_from='statsbomb', pitch_to='uefa')\n",
    "\n",
    "new_x, new_y = standard.transform(df_statsbomb_event.x, df_statsbomb_event.y)\n",
    "df_statsbomb_event['x'] = new_x\n",
    "df_statsbomb_event['y'] = new_y\n",
    "\n",
    "new_end_x, new_end_y = standard.transform(df_statsbomb_event.end_x, df_statsbomb_event.end_y)\n",
    "df_statsbomb_event['end_x'] = new_end_x\n",
    "df_statsbomb_event['end_y'] = new_end_y"
   ]
  },
  {
   "cell_type": "markdown",
   "metadata": {},
   "source": [
    "Get goalkeeper for shots"
   ]
  },
  {
   "cell_type": "code",
   "execution_count": 8,
   "metadata": {},
   "outputs": [],
   "source": [
    "df_gk = df_statsbomb_related.loc[(df_statsbomb_related.type_name == 'Shot') & \n",
    "                                 (df_statsbomb_related.type_name_related == 'Goal Keeper'), ['id', 'id_related']]\n",
    "df_gk = df_gk.merge((df_statsbomb_event[['id', 'player_id', 'type_name', 'sub_type_name']]\n",
    "                     .rename({'id': 'id_related'}, axis=1)), how='left', on='id_related')"
   ]
  },
  {
   "cell_type": "markdown",
   "metadata": {},
   "source": [
    "Create a dataframe of the strongest foot\n",
    "\n",
    "Assumptions:\n",
    "- based on all events with body_part_name left or right\n",
    "- both feet if the percentage of events on either foot are within 10 percentage points of each other (if the players have more than 20 events)\n",
    "- left foot if left is used more often (other than when marked both feet)\n",
    "- otherwise right foot"
   ]
  },
  {
   "cell_type": "code",
   "execution_count": 9,
   "metadata": {},
   "outputs": [],
   "source": [
    "df_foot = df_statsbomb_event[df_statsbomb_event.body_part_name.isin(['Right Foot', 'Left Foot'])].copy()\n",
    "df_foot = df_foot.groupby('player_id').body_part_name.value_counts()\n",
    "df_foot = df_foot.unstack()\n",
    "df_foot.reset_index(drop=False, inplace=True)\n",
    "df_foot.index.name = ''\n",
    "df_foot.rename({'Left Foot': 'left', 'Right Foot': 'right'}, axis=1, inplace=True)\n",
    "df_foot.fillna(0, inplace=True)\n",
    "n_total = df_foot[['left', 'right']].sum(axis=1)\n",
    "df_foot['left'] = df_foot['left'] / n_total\n",
    "df_foot['right'] = df_foot['right'] / n_total\n",
    "df_foot.loc[(np.abs(df_foot.left - df_foot.right) < 0.1) & n_total > 20, 'foot'] = 'both'\n",
    "df_foot.loc[(df_foot.foot.isnull()) & (df_foot.left > df_foot.right), 'foot'] = 'left'\n",
    "df_foot.loc[(df_foot.foot.isnull()), 'foot'] = 'right'"
   ]
  },
  {
   "cell_type": "markdown",
   "metadata": {},
   "source": [
    "Fast attack, win ball in own third, shoot in last quarter in 7-25 seconds"
   ]
  },
  {
   "cell_type": "code",
   "execution_count": 10,
   "metadata": {},
   "outputs": [],
   "source": [
    "df_statsbomb_event['eventSec'] = df_statsbomb_event.timestamp.apply(lambda x: x.minute * 60 + x.second + x.microsecond / 1000000)\n",
    "mask_gk = ((df_statsbomb_event.type_name == 'Goal Keeper') & \n",
    "           (~df_statsbomb_event.sub_type_name.isin(['Shot Faced', 'Goal Conceded', 'Penalty Conceded'])))\n",
    "mask_50 =((df_statsbomb_event.type_name == '50/50') & \n",
    "          (df_statsbomb_event.outcome_name.isin(['Success To Team', 'Won','Success To Opposition'])))\n",
    "mask_other = (df_statsbomb_event.type_name == 'Interception') | (df_statsbomb_event.sub_type_name == 'Tackle')\n",
    "mask_defence_win = (mask_gk | mask_50 | mask_other) & (df_statsbomb_event.x < 35)\n",
    "df_statsbomb_event.loc[mask_defence_win, 'defence_win'] = df_statsbomb_event.loc[mask_defence_win, 'team_id']\n",
    "df_statsbomb_event.loc[mask_defence_win, 'defence_sec'] = df_statsbomb_event.loc[mask_defence_win, 'eventSec']\n",
    "group_match = df_statsbomb_event.groupby(['match_id', 'period'])\n",
    "df_statsbomb_event[['defence_win', 'defence_sec']] = group_match[['defence_win', 'defence_sec']].ffill()\n",
    "mask_fast = (((df_statsbomb_event.eventSec - df_statsbomb_event.defence_sec) <= 25) &\n",
    "             (df_statsbomb_event.x > 78.75) &\n",
    "             (df_statsbomb_event.type_name == 'Shot') & (df_statsbomb_event.team_id == df_statsbomb_event.defence_win))\n",
    "df_statsbomb_event['fast_break'] = mask_fast"
   ]
  },
  {
   "cell_type": "markdown",
   "metadata": {},
   "source": [
    "Add on previous info"
   ]
  },
  {
   "cell_type": "code",
   "execution_count": 11,
   "metadata": {},
   "outputs": [],
   "source": [
    "# first filter out some events so the previous event is the correct assist type\n",
    "on_ball = ['Ball Recovery','Block','Clearance','Dispossessed','Dribble','Referee Ball-Drop','Shield',\n",
    "           'Error','Foul Won','Goal Keeper','Interception','Miscontrol','Own Goal Against','Pass','Shot']\n",
    "# won 50/50s\n",
    "mask_50_50_success = ((df_statsbomb_event.type_name=='50/50')&\n",
    "                      (df_statsbomb_event.outcome_name.isin(['Won','Success To Team','Success To Opposition'])))\n",
    "# off ball goal keeper\n",
    "mask_goalkeeper_off_ball = df_statsbomb_event.sub_type_name.isin(['Shot Faced', 'Goal Conceded',\n",
    "                                                                  'Penalty Conceded', 'Smother'])\n",
    "# all on the ball events\n",
    "mask_on_ball = ((df_statsbomb_event.type_name.isin(on_ball))&(~mask_goalkeeper_off_ball))|(mask_50_50_success)\n",
    "df_statsbomb_event = df_statsbomb_event[mask_on_ball].copy()\n",
    "match_group = df_statsbomb_event.groupby(['match_id', 'period'])\n",
    "for i in range(1, 4):\n",
    "    df_statsbomb_event[f'prev_id_{i}'] = match_group.id.shift(i)\n",
    "    df_statsbomb_event[f'prev_type_name_{i}'] = match_group.type_name.shift(i)\n",
    "    df_statsbomb_event[f'prev_player_id_{i}'] = match_group.player_id.shift(i)\n",
    "    df_statsbomb_event[f'prev_team_id_{i}'] = match_group.team_id.shift(i)"
   ]
  },
  {
   "cell_type": "markdown",
   "metadata": {},
   "source": [
    "Add set piece column"
   ]
  },
  {
   "cell_type": "code",
   "execution_count": 12,
   "metadata": {},
   "outputs": [],
   "source": [
    "mask_set_piece = df_statsbomb_event.sub_type_name.isin(['Throw-in', 'Corner', 'Free Kick'])\n",
    "df_statsbomb_event.loc[mask_set_piece, 'set_piece'] = df_statsbomb_event.loc[mask_set_piece, 'sub_type_name']"
   ]
  },
  {
   "cell_type": "markdown",
   "metadata": {},
   "source": [
    "Flag 10 seconds from a corner or freekick/ 20 seconds from a throw-in"
   ]
  },
  {
   "cell_type": "code",
   "execution_count": 13,
   "metadata": {},
   "outputs": [
    {
     "name": "stderr",
     "output_type": "stream",
     "text": [
      "C:\\Users\\nicol\\AppData\\Local\\Temp\\ipykernel_19344\\3975091505.py:13: FutureWarning: The behavior of DataFrame.idxmin with all-NA values, or any-NA and skipna=False, is deprecated. In a future version this will raise ValueError\n",
      "  df_statsbomb_event['play_type'] = df_statsbomb_event[['throw_in_sec', 'free_kick_sec', 'corner_sec']].idxmin(axis=1).str[:-4]\n"
     ]
    }
   ],
   "source": [
    "group_match = df_statsbomb_event.groupby(['match_id', 'period'])\n",
    "for set_piece in ['Corner', 'Throw-in', 'Free Kick']:\n",
    "    mask = df_statsbomb_event.set_piece == set_piece\n",
    "    name = set_piece.replace(' ', '_').replace('-', '_').lower()\n",
    "    df_statsbomb_event.loc[mask, f'{name}_sec'] = df_statsbomb_event.loc[mask, 'eventSec']\n",
    "    df_statsbomb_event.loc[mask, f'{name}_team'] = df_statsbomb_event.loc[mask, 'team_id']\n",
    "    df_statsbomb_event[f'{name}_sec'] = group_match[f'{name}_sec'].ffill()\n",
    "    df_statsbomb_event[f'{name}_team'] = group_match[f'{name}_team'].ffill()\n",
    "    df_statsbomb_event[f'{name}_sec'] = df_statsbomb_event.eventSec - df_statsbomb_event[f'{name}_sec']\n",
    "df_statsbomb_event.loc[df_statsbomb_event.throw_in_sec > 20, 'throw_in_sec'] = np.nan\n",
    "df_statsbomb_event.loc[df_statsbomb_event.free_kick_sec > 10, 'free_kick_sec'] = np.nan\n",
    "df_statsbomb_event.loc[df_statsbomb_event.corner_sec > 10, 'corner_sec'] = np.nan\n",
    "df_statsbomb_event['play_type'] = df_statsbomb_event[['throw_in_sec', 'free_kick_sec', 'corner_sec']].idxmin(axis=1).str[:-4]\n",
    "# if throw-in and defensive set to null\n",
    "mask_defensive = ((df_statsbomb_event.play_type == 'throw_in') &\n",
    "                  (df_statsbomb_event['throw_in_team'] != df_statsbomb_event.team_id))\n",
    "df_statsbomb_event.loc[mask_defensive, 'play_type'] = np.nan"
   ]
  },
  {
   "cell_type": "markdown",
   "metadata": {},
   "source": [
    "Add player name"
   ]
  },
  {
   "cell_type": "code",
   "execution_count": 14,
   "metadata": {},
   "outputs": [],
   "source": [
    "player_name_series = df_statsbomb_event.player_name.str.strip().str.replace(pat='\"', repl=\"'\").str.split(' ')\n",
    "df_statsbomb_event['firstName'] = player_name_series.apply(lambda x: x[0] if isinstance(x, list) else None)\n",
    "df_statsbomb_event['middleName'] = player_name_series.apply(lambda x: ' '.join(x[1:-1]) if isinstance(x, list) else None)\n",
    "df_statsbomb_event['middleName'] = df_statsbomb_event['middleName'].str.strip()\n",
    "df_statsbomb_event['lastName'] = player_name_series.apply(lambda x: x[-1] if isinstance(x, list) else None)\n",
    "df_statsbomb_event['Name'] = ((df_statsbomb_event['firstName'] + ' ' + df_statsbomb_event['middleName']).str.strip()\n",
    "                              + ' ' + df_statsbomb_event['lastName'])"
   ]
  },
  {
   "cell_type": "markdown",
   "metadata": {},
   "source": [
    "### Filter Shots"
   ]
  },
  {
   "cell_type": "code",
   "execution_count": 15,
   "metadata": {},
   "outputs": [
    {
     "name": "stdout",
     "output_type": "stream",
     "text": [
      "Number of shots: 85773\n",
      "Number of goals: 8687\n"
     ]
    }
   ],
   "source": [
    "df_statsbomb_shots = (df_statsbomb_event[(df_statsbomb_event.type_name=='Shot')&\n",
    "                                        (~df_statsbomb_event.sub_type_name.isin(['Penalty', 'Corner']))]\n",
    "                      .dropna(how='all', axis=1)\n",
    "                      .copy())\n",
    "print('Number of shots:',len(df_statsbomb_shots))\n",
    "print('Number of goals:', (df_statsbomb_shots.outcome_name == 'Goal').sum())"
   ]
  },
  {
   "cell_type": "markdown",
   "metadata": {},
   "source": [
    "Add on competition gender"
   ]
  },
  {
   "cell_type": "code",
   "execution_count": 16,
   "metadata": {},
   "outputs": [],
   "source": [
    "df_statsbomb_shots = df_statsbomb_shots.merge(df_statsbomb_match[['match_id', 'home_team_gender']].rename({'home_team_gender': 'competition_gender'},\n",
    "                                                                                                          axis='columns'),\n",
    "                                              on='match_id', how='left')\n",
    "# fill in when the match dataset is missing\n",
    "women = [7298, 22536, 265905, 266234, 266466, 266574, 266933, 267161, 267405, 267609, 267679]\n",
    "men = [18235, 18236, 18237, 18240, 18241, 18242, 18245, 18236, 18237, 18240, 18241, 18242, 18243, 18244, 18245]\n",
    "df_statsbomb_shots.loc[df_statsbomb_shots.match_id.isin(women), 'competitio_gender'] = 'female'\n",
    "df_statsbomb_shots.loc[df_statsbomb_shots.match_id.isin(men), 'competition_gender'] = 'male'"
   ]
  },
  {
   "cell_type": "raw",
   "metadata": {},
   "source": [
    "StatsBomb: Add on shot fidelity"
   ]
  },
  {
   "cell_type": "code",
   "execution_count": 17,
   "metadata": {},
   "outputs": [],
   "source": [
    "additional_higher_fidelity_shots = [22536, 265905, 266234, 266466, 266574, 266933, 267161, 267405,\n",
    "                                    267609, 267679]\n",
    "df_statsbomb_shots = df_statsbomb_shots.merge(df_statsbomb_match[['match_id', 'metadata_shot_fidelity_version']],\n",
    "                                              on='match_id', how='left', validate='m:1')\n",
    "df_statsbomb_shots.loc[df_statsbomb_shots.match_id.isin(additional_higher_fidelity_shots),\n",
    "                       'metadata_shot_fidelity_version'] = '2'"
   ]
  },
  {
   "cell_type": "markdown",
   "metadata": {},
   "source": [
    "Add on pass assist information"
   ]
  },
  {
   "cell_type": "code",
   "execution_count": 18,
   "metadata": {},
   "outputs": [
    {
     "name": "stderr",
     "output_type": "stream",
     "text": [
      "C:\\Users\\nicol\\AppData\\Local\\Temp\\ipykernel_19344\\737081843.py:5: FutureWarning: A value is trying to be set on a copy of a DataFrame or Series through chained assignment using an inplace method.\n",
      "The behavior will change in pandas 3.0. This inplace method will never work because the intermediate object on which we are setting values always behaves as a copy.\n",
      "\n",
      "For example, when doing 'df[col].method(value, inplace=True)', try using 'df.method({col: value}, inplace=True)' or df[col] = df[col].method(value) instead, to perform the operation inplace on the original object.\n",
      "\n",
      "\n",
      "  df_pass['pass_switch'].fillna(False, inplace=True)\n",
      "C:\\Users\\nicol\\AppData\\Local\\Temp\\ipykernel_19344\\737081843.py:5: FutureWarning: Downcasting object dtype arrays on .fillna, .ffill, .bfill is deprecated and will change in a future version. Call result.infer_objects(copy=False) instead. To opt-in to the future behavior, set `pd.set_option('future.no_silent_downcasting', True)`\n",
      "  df_pass['pass_switch'].fillna(False, inplace=True)\n",
      "C:\\Users\\nicol\\AppData\\Local\\Temp\\ipykernel_19344\\737081843.py:6: FutureWarning: A value is trying to be set on a copy of a DataFrame or Series through chained assignment using an inplace method.\n",
      "The behavior will change in pandas 3.0. This inplace method will never work because the intermediate object on which we are setting values always behaves as a copy.\n",
      "\n",
      "For example, when doing 'df[col].method(value, inplace=True)', try using 'df.method({col: value}, inplace=True)' or df[col] = df[col].method(value) instead, to perform the operation inplace on the original object.\n",
      "\n",
      "\n",
      "  df_pass['pass_cross'].fillna(False, inplace=True)\n",
      "C:\\Users\\nicol\\AppData\\Local\\Temp\\ipykernel_19344\\737081843.py:6: FutureWarning: Downcasting object dtype arrays on .fillna, .ffill, .bfill is deprecated and will change in a future version. Call result.infer_objects(copy=False) instead. To opt-in to the future behavior, set `pd.set_option('future.no_silent_downcasting', True)`\n",
      "  df_pass['pass_cross'].fillna(False, inplace=True)\n",
      "C:\\Users\\nicol\\AppData\\Local\\Temp\\ipykernel_19344\\737081843.py:7: FutureWarning: A value is trying to be set on a copy of a DataFrame or Series through chained assignment using an inplace method.\n",
      "The behavior will change in pandas 3.0. This inplace method will never work because the intermediate object on which we are setting values always behaves as a copy.\n",
      "\n",
      "For example, when doing 'df[col].method(value, inplace=True)', try using 'df.method({col: value}, inplace=True)' or df[col] = df[col].method(value) instead, to perform the operation inplace on the original object.\n",
      "\n",
      "\n",
      "  df_pass['pass_cut_back'].fillna(False, inplace=True)\n",
      "C:\\Users\\nicol\\AppData\\Local\\Temp\\ipykernel_19344\\737081843.py:7: FutureWarning: Downcasting object dtype arrays on .fillna, .ffill, .bfill is deprecated and will change in a future version. Call result.infer_objects(copy=False) instead. To opt-in to the future behavior, set `pd.set_option('future.no_silent_downcasting', True)`\n",
      "  df_pass['pass_cut_back'].fillna(False, inplace=True)\n"
     ]
    }
   ],
   "source": [
    "pass_cols = ['pass_assisted_shot_id', 'end_x', 'end_y', 'pass_height_name',\n",
    "             'pass_switch', 'technique_name', 'pass_cross', 'pass_cut_back']\n",
    "df_pass = df_statsbomb_event.loc[df_statsbomb_event.pass_assisted_shot_id.notnull(), pass_cols]\n",
    "df_pass.rename({'pass_assisted_shot_id': 'id', 'end_x': 'pass_end_x', 'end_y': 'pass_end_y'}, axis=1, inplace=True)\n",
    "df_pass['pass_switch'].fillna(False, inplace=True)\n",
    "df_pass['pass_cross'].fillna(False, inplace=True)\n",
    "df_pass['pass_cut_back'].fillna(False, inplace=True)\n",
    "df_statsbomb_shots = df_statsbomb_shots.merge(df_pass, on='id', how='left', suffixes=['', '_pass'])\n",
    "df_statsbomb_shots.rename({'technique_name_pass': 'pass_technique_name'}, axis=1, inplace=True)"
   ]
  },
  {
   "cell_type": "markdown",
   "metadata": {},
   "source": [
    "Simplify the pass height name column"
   ]
  },
  {
   "cell_type": "code",
   "execution_count": 19,
   "metadata": {},
   "outputs": [
    {
     "name": "stderr",
     "output_type": "stream",
     "text": [
      "C:\\Users\\nicol\\AppData\\Local\\Temp\\ipykernel_19344\\760738873.py:1: FutureWarning: A value is trying to be set on a copy of a DataFrame or Series through chained assignment using an inplace method.\n",
      "The behavior will change in pandas 3.0. This inplace method will never work because the intermediate object on which we are setting values always behaves as a copy.\n",
      "\n",
      "For example, when doing 'df[col].method(value, inplace=True)', try using 'df.method({col: value}, inplace=True)' or df[col] = df[col].method(value) instead, to perform the operation inplace on the original object.\n",
      "\n",
      "\n",
      "  df_statsbomb_shots.pass_height_name.replace({'Ground Pass': 'Ground/ Low Pass',\n"
     ]
    }
   ],
   "source": [
    "df_statsbomb_shots.pass_height_name.replace({'Ground Pass': 'Ground/ Low Pass',\n",
    "                                             'Low Pass': 'Ground/ Low Pass'}, inplace=True)"
   ]
  },
  {
   "cell_type": "markdown",
   "metadata": {},
   "source": [
    "Add carry length"
   ]
  },
  {
   "cell_type": "code",
   "execution_count": 20,
   "metadata": {},
   "outputs": [],
   "source": [
    "df_statsbomb_shots['carry_length'] = (((df_statsbomb_shots.x - df_statsbomb_shots.pass_end_x)) ** 2 +\n",
    "                                      ((df_statsbomb_shots.y - df_statsbomb_shots.pass_end_y)) ** 2) ** 0.5"
   ]
  },
  {
   "cell_type": "markdown",
   "metadata": {},
   "source": [
    "Simplify body part name. As wyscout just has either foot and other"
   ]
  },
  {
   "cell_type": "code",
   "execution_count": 21,
   "metadata": {},
   "outputs": [],
   "source": [
    "df_statsbomb_shots['body_part_name'] = df_statsbomb_shots.body_part_name.replace({'Head': 'Other'})"
   ]
  },
  {
   "cell_type": "markdown",
   "metadata": {},
   "source": [
    "Merge on strongest foot"
   ]
  },
  {
   "cell_type": "code",
   "execution_count": 22,
   "metadata": {},
   "outputs": [],
   "source": [
    "df_statsbomb_shots = df_statsbomb_shots.merge(df_foot, how='left', on='player_id')"
   ]
  },
  {
   "cell_type": "markdown",
   "metadata": {},
   "source": [
    "Flag for whether shot is on the strongest foot"
   ]
  },
  {
   "cell_type": "code",
   "execution_count": 23,
   "metadata": {},
   "outputs": [],
   "source": [
    "df_statsbomb_shots['strong_foot'] = (((df_statsbomb_shots.foot.isin(['left', 'both'])) &\n",
    "                                     (df_statsbomb_shots.body_part_name == 'Left Foot')) |\n",
    "                                    ((df_statsbomb_shots.foot.isin(['right', 'both'])) & \n",
    "                                     (df_statsbomb_shots.body_part_name == 'Right Foot')))"
   ]
  },
  {
   "cell_type": "markdown",
   "metadata": {},
   "source": [
    "Angles/ distance to goals"
   ]
  },
  {
   "cell_type": "code",
   "execution_count": 24,
   "metadata": {},
   "outputs": [],
   "source": [
    "dim_uefa = create_pitch_dims(pitch_type='uefa')\n",
    "goal_width = dim_uefa.goal_width\n",
    "dx = abs(dim_uefa.right - df_statsbomb_shots.x)\n",
    "dy = abs(dim_uefa.center_width - df_statsbomb_shots.y)\n",
    "df_statsbomb_shots['visible_angle'] = np.arctan2(goal_width * dx , (dx**2 + dy**2 - (goal_width / 2.) ** 2))\n",
    "df_statsbomb_shots['middle_angle'] = np.arctan2(dy, dx)\n",
    "df_statsbomb_shots['distance_to_goal'] = round((dy**2 + dx**2)**0.5, 1)"
   ]
  },
  {
   "cell_type": "markdown",
   "metadata": {},
   "source": [
    "Interaction between angle and distance"
   ]
  },
  {
   "cell_type": "code",
   "execution_count": 25,
   "metadata": {},
   "outputs": [],
   "source": [
    "df_statsbomb_shots['distance_visible_angle'] = df_statsbomb_shots.distance_to_goal * df_statsbomb_shots.visible_angle"
   ]
  },
  {
   "cell_type": "markdown",
   "metadata": {},
   "source": [
    "Log distance"
   ]
  },
  {
   "cell_type": "code",
   "execution_count": 26,
   "metadata": {},
   "outputs": [],
   "source": [
    "df_statsbomb_shots['log_distance_to_goal'] = np.log(df_statsbomb_shots.distance_to_goal)"
   ]
  },
  {
   "cell_type": "markdown",
   "metadata": {},
   "source": [
    "Counter attack"
   ]
  },
  {
   "cell_type": "code",
   "execution_count": 27,
   "metadata": {},
   "outputs": [],
   "source": [
    "df_statsbomb_shots['counter_attack'] = df_statsbomb_shots.play_pattern_name == 'From Counter'"
   ]
  },
  {
   "cell_type": "markdown",
   "metadata": {},
   "source": [
    "Assist type"
   ]
  },
  {
   "cell_type": "code",
   "execution_count": 28,
   "metadata": {},
   "outputs": [],
   "source": [
    "df_statsbomb_shots.loc[df_statsbomb_shots.pass_end_x.notnull(), 'assist_type'] = 'pass'\n",
    "df_statsbomb_shots.loc[df_statsbomb_shots.sub_type_name.isin(['Free Kick', 'Corner', 'Kick Off']), 'assist_type'] = 'direct'\n",
    "df_statsbomb_shots.loc[df_statsbomb_shots.assist_type.isnull() &\n",
    "                       ((df_statsbomb_shots.prev_type_name_3.isin(['Shot', 'Goal Keeper'])) |\n",
    "                        (df_statsbomb_shots.prev_type_name_2.isin(['Shot', 'Goal Keeper'])) |\n",
    "                        (df_statsbomb_shots.prev_type_name_1.isin(['Shot', 'Goal Keeper']))), 'assist_type'] = 'rebound'\n",
    "df_statsbomb_shots.loc[df_statsbomb_shots.assist_type.isnull() &\n",
    "                       ((df_statsbomb_shots.prev_type_name_3.isin(['Clearance'])) |\n",
    "                        (df_statsbomb_shots.prev_type_name_2.isin(['Clearance'])) |\n",
    "                        (df_statsbomb_shots.prev_type_name_1.isin(['Clearance']))), 'assist_type'] = 'clearance'\n",
    "df_statsbomb_shots.loc[df_statsbomb_shots.assist_type.isnull(), 'assist_type'] = 'recovery'"
   ]
  },
  {
   "cell_type": "markdown",
   "metadata": {},
   "source": [
    "Shot type name"
   ]
  },
  {
   "cell_type": "code",
   "execution_count": 29,
   "metadata": {},
   "outputs": [
    {
     "name": "stderr",
     "output_type": "stream",
     "text": [
      "C:\\Users\\nicol\\AppData\\Local\\Temp\\ipykernel_19344\\896514090.py:1: FutureWarning: A value is trying to be set on a copy of a DataFrame or Series through chained assignment using an inplace method.\n",
      "The behavior will change in pandas 3.0. This inplace method will never work because the intermediate object on which we are setting values always behaves as a copy.\n",
      "\n",
      "For example, when doing 'df[col].method(value, inplace=True)', try using 'df.method({col: value}, inplace=True)' or df[col] = df[col].method(value) instead, to perform the operation inplace on the original object.\n",
      "\n",
      "\n",
      "  df_statsbomb_shots.sub_type_name.replace({'Open Play': np.nan,\n"
     ]
    }
   ],
   "source": [
    "df_statsbomb_shots.sub_type_name.replace({'Open Play': np.nan,\n",
    "                                          'Free Kick': 'direct_set_piece',\n",
    "                                          'Kick Off': 'direct_set_piece'}, inplace=True)\n",
    "mask_null = df_statsbomb_shots.sub_type_name.isnull()\n",
    "df_statsbomb_shots.loc[mask_null, 'sub_type_name'] = df_statsbomb_shots.loc[mask_null, 'play_type']\n",
    "df_statsbomb_shots.loc[df_statsbomb_shots.sub_type_name.isnull(), 'sub_type_name'] = 'open_play'\n",
    "df_statsbomb_shots.rename({'sub_type_name': 'shot_type_name'}, axis=1, inplace=True)"
   ]
  },
  {
   "cell_type": "markdown",
   "metadata": {},
   "source": [
    "Add goal boolean"
   ]
  },
  {
   "cell_type": "code",
   "execution_count": 30,
   "metadata": {},
   "outputs": [],
   "source": [
    "df_statsbomb_shots['goal'] = df_statsbomb_shots.outcome_name == 'Goal'"
   ]
  },
  {
   "cell_type": "markdown",
   "metadata": {},
   "source": [
    "Turn some of the StatsBomb columns to boolean columns"
   ]
  },
  {
   "cell_type": "code",
   "execution_count": 31,
   "metadata": {},
   "outputs": [
    {
     "name": "stderr",
     "output_type": "stream",
     "text": [
      "C:\\Users\\nicol\\AppData\\Local\\Temp\\ipykernel_19344\\1492594205.py:1: FutureWarning: A value is trying to be set on a copy of a DataFrame or Series through chained assignment using an inplace method.\n",
      "The behavior will change in pandas 3.0. This inplace method will never work because the intermediate object on which we are setting values always behaves as a copy.\n",
      "\n",
      "For example, when doing 'df[col].method(value, inplace=True)', try using 'df.method({col: value}, inplace=True)' or df[col] = df[col].method(value) instead, to perform the operation inplace on the original object.\n",
      "\n",
      "\n",
      "  df_statsbomb_shots['shot_open_goal'].fillna(False, inplace=True)\n",
      "C:\\Users\\nicol\\AppData\\Local\\Temp\\ipykernel_19344\\1492594205.py:1: FutureWarning: Downcasting object dtype arrays on .fillna, .ffill, .bfill is deprecated and will change in a future version. Call result.infer_objects(copy=False) instead. To opt-in to the future behavior, set `pd.set_option('future.no_silent_downcasting', True)`\n",
      "  df_statsbomb_shots['shot_open_goal'].fillna(False, inplace=True)\n",
      "C:\\Users\\nicol\\AppData\\Local\\Temp\\ipykernel_19344\\1492594205.py:3: FutureWarning: A value is trying to be set on a copy of a DataFrame or Series through chained assignment using an inplace method.\n",
      "The behavior will change in pandas 3.0. This inplace method will never work because the intermediate object on which we are setting values always behaves as a copy.\n",
      "\n",
      "For example, when doing 'df[col].method(value, inplace=True)', try using 'df.method({col: value}, inplace=True)' or df[col] = df[col].method(value) instead, to perform the operation inplace on the original object.\n",
      "\n",
      "\n",
      "  df_statsbomb_shots['shot_one_on_one'].fillna(False, inplace=True)\n",
      "C:\\Users\\nicol\\AppData\\Local\\Temp\\ipykernel_19344\\1492594205.py:3: FutureWarning: Downcasting object dtype arrays on .fillna, .ffill, .bfill is deprecated and will change in a future version. Call result.infer_objects(copy=False) instead. To opt-in to the future behavior, set `pd.set_option('future.no_silent_downcasting', True)`\n",
      "  df_statsbomb_shots['shot_one_on_one'].fillna(False, inplace=True)\n"
     ]
    }
   ],
   "source": [
    "df_statsbomb_shots['shot_open_goal'].fillna(False, inplace=True)\n",
    "df_statsbomb_shots['under_pressure'] = df_statsbomb_shots['under_pressure'].fillna(0).astype(bool)\n",
    "df_statsbomb_shots['shot_one_on_one'].fillna(False, inplace=True)"
   ]
  },
  {
   "cell_type": "markdown",
   "metadata": {},
   "source": [
    "Reduce columns"
   ]
  },
  {
   "cell_type": "code",
   "execution_count": 32,
   "metadata": {},
   "outputs": [],
   "source": [
    "cols_to_keep = ['match_id', 'id', 'eventSec', 'period', 'goal', 'team_id', 'team_name', 'player_id', 'firstName',\n",
    "                'middleName', 'lastName', 'Name', 'shot_type_name', 'x', 'y', 'counter_attack',\n",
    "                'fast_break', 'strong_foot', 'body_part_name', 'assist_type',\n",
    "                'pass_end_y', 'pass_end_x', 'pass_switch', 'pass_cross',\n",
    "                'pass_cut_back', 'pass_height_name', 'pass_technique_name',\n",
    "                'carry_length', 'visible_angle', 'middle_angle', 'distance_to_goal', \n",
    "                'distance_visible_angle', 'log_distance_to_goal', 'competition_gender',\n",
    "                'shot_one_on_one', 'shot_open_goal', 'under_pressure']\n",
    "df_statsbomb_shots = df_statsbomb_shots[cols_to_keep].copy()"
   ]
  },
  {
   "cell_type": "markdown",
   "metadata": {},
   "source": [
    "Add on the goalkeeper player id"
   ]
  },
  {
   "cell_type": "code",
   "execution_count": 33,
   "metadata": {},
   "outputs": [],
   "source": [
    "df_statsbomb_shots = df_statsbomb_shots.merge(df_gk[['id', 'player_id']], how='left', on='id', suffixes=['', '_goalkeeper'])"
   ]
  },
  {
   "cell_type": "markdown",
   "metadata": {},
   "source": [
    "Add on country name"
   ]
  },
  {
   "cell_type": "code",
   "execution_count": 34,
   "metadata": {},
   "outputs": [],
   "source": [
    "df_statsbomb_shots = df_statsbomb_shots.merge(df_statsbomb_lineup, how='left', on='player_id', validate='m:1')"
   ]
  },
  {
   "cell_type": "markdown",
   "metadata": {},
   "source": [
    "Save dataset"
   ]
  },
  {
   "cell_type": "code",
   "execution_count": 35,
   "metadata": {},
   "outputs": [],
   "source": [
    "df_statsbomb_shots.reset_index(drop=True, inplace=True)\n",
    "df_statsbomb_shots.to_parquet(os.path.join(STATSBOMB, 'shots.parquet'))"
   ]
  },
  {
   "cell_type": "markdown",
   "metadata": {},
   "source": [
    "Show information"
   ]
  },
  {
   "cell_type": "code",
   "execution_count": 36,
   "metadata": {},
   "outputs": [
    {
     "name": "stdout",
     "output_type": "stream",
     "text": [
      "<class 'pandas.core.frame.DataFrame'>\n",
      "RangeIndex: 85773 entries, 0 to 85772\n",
      "Data columns (total 39 columns):\n",
      " #   Column                  Non-Null Count  Dtype  \n",
      "---  ------                  --------------  -----  \n",
      " 0   match_id                85773 non-null  int64  \n",
      " 1   id                      85773 non-null  object \n",
      " 2   eventSec                85773 non-null  float64\n",
      " 3   period                  85773 non-null  int64  \n",
      " 4   goal                    85773 non-null  bool   \n",
      " 5   team_id                 85773 non-null  int64  \n",
      " 6   team_name               85773 non-null  object \n",
      " 7   player_id               85773 non-null  float64\n",
      " 8   firstName               85773 non-null  object \n",
      " 9   middleName              85773 non-null  object \n",
      " 10  lastName                85773 non-null  object \n",
      " 11  Name                    85773 non-null  object \n",
      " 12  shot_type_name          85773 non-null  object \n",
      " 13  x                       85773 non-null  float64\n",
      " 14  y                       85773 non-null  float64\n",
      " 15  counter_attack          85773 non-null  bool   \n",
      " 16  fast_break              85773 non-null  bool   \n",
      " 17  strong_foot             85773 non-null  bool   \n",
      " 18  body_part_name          85773 non-null  object \n",
      " 19  assist_type             85773 non-null  object \n",
      " 20  pass_end_y              61394 non-null  float64\n",
      " 21  pass_end_x              61394 non-null  float64\n",
      " 22  pass_switch             61394 non-null  object \n",
      " 23  pass_cross              61394 non-null  object \n",
      " 24  pass_cut_back           61394 non-null  object \n",
      " 25  pass_height_name        61394 non-null  object \n",
      " 26  pass_technique_name     8574 non-null   object \n",
      " 27  carry_length            61394 non-null  float64\n",
      " 28  visible_angle           85773 non-null  float64\n",
      " 29  middle_angle            85773 non-null  float64\n",
      " 30  distance_to_goal        85773 non-null  float64\n",
      " 31  distance_visible_angle  85773 non-null  float64\n",
      " 32  log_distance_to_goal    85773 non-null  float64\n",
      " 33  competition_gender      85773 non-null  object \n",
      " 34  shot_one_on_one         85773 non-null  bool   \n",
      " 35  shot_open_goal          85773 non-null  bool   \n",
      " 36  under_pressure          85773 non-null  bool   \n",
      " 37  player_id_goalkeeper    85773 non-null  float64\n",
      " 38  country_name            85760 non-null  object \n",
      "dtypes: bool(7), float64(13), int64(3), object(16)\n",
      "memory usage: 21.5+ MB\n"
     ]
    }
   ],
   "source": [
    "df_statsbomb_shots.info()"
   ]
  }
 ],
 "metadata": {
  "kernelspec": {
   "display_name": "expected-goals",
   "language": "python",
   "name": "python3"
  },
  "language_info": {
   "codemirror_mode": {
    "name": "ipython",
    "version": 3
   },
   "file_extension": ".py",
   "mimetype": "text/x-python",
   "name": "python",
   "nbconvert_exporter": "python",
   "pygments_lexer": "ipython3",
   "version": "3.12.9"
  }
 },
 "nbformat": 4,
 "nbformat_minor": 4
}
