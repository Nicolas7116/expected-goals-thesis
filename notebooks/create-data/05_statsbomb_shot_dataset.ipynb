{
 "cells": [
  {
   "cell_type": "code",
   "execution_count": 1,
   "metadata": {},
   "outputs": [],
   "source": [
    "import pandas as pd\n",
    "import numpy as np\n",
    "import os\n",
    "import matplotlib.pyplot as plt\n",
    "from mplsoccer.pitch import Pitch"
   ]
  },
  {
   "cell_type": "markdown",
   "metadata": {},
   "source": [
    "Load the data"
   ]
  },
  {
   "cell_type": "code",
   "execution_count": 2,
   "metadata": {},
   "outputs": [],
   "source": [
    "STATSBOMB = os.path.join('..', '..', 'data', 'statsbomb')\n",
    "df_statsbomb_event = pd.read_parquet(os.path.join(STATSBOMB, 'event.parquet'))\n",
    "df_statsbomb_match = pd.read_parquet(os.path.join(STATSBOMB, 'match.parquet'))"
   ]
  },
  {
   "cell_type": "markdown",
   "metadata": {},
   "source": [
    "Pitches for coordinate conversion"
   ]
  },
  {
   "cell_type": "code",
   "execution_count": 3,
   "metadata": {},
   "outputs": [],
   "source": [
    "pitch_statsbomb = Pitch(pitch_type='statsbomb', figsize=(16, 9))\n",
    "pitch_statsperform = Pitch(pitch_type='statsperform', figsize=(16, 9))"
   ]
  },
  {
   "cell_type": "markdown",
   "metadata": {},
   "source": [
    "Create a dataframe of the strongest foot\n",
    "\n",
    "Assumptions:\n",
    "- based on all events with body_part_name left or right\n",
    "- both feet if the percentage of events on either foot are within 10 percentage points of each other (if the players have more than 20 events)\n",
    "- left foot if left is used more often (other than when marked both feet)\n",
    "- otherwise right foot"
   ]
  },
  {
   "cell_type": "code",
   "execution_count": 4,
   "metadata": {},
   "outputs": [],
   "source": [
    "df_foot = df_statsbomb_event[df_statsbomb_event.body_part_name.isin(['Right Foot', 'Left Foot'])].copy()\n",
    "df_foot = df_foot.groupby('player_id').body_part_name.value_counts()\n",
    "df_foot = df_foot.unstack()\n",
    "df_foot.reset_index(drop=False, inplace=True)\n",
    "df_foot.index.name = ''\n",
    "df_foot.rename({'Left Foot': 'left', 'Right Foot': 'right'}, axis=1, inplace=True)\n",
    "df_foot.fillna(0, inplace=True)\n",
    "n_total = df_foot[['left', 'right']].sum(axis=1)\n",
    "df_foot['left'] = df_foot['left'] / n_total\n",
    "df_foot['right'] = df_foot['right'] / n_total\n",
    "df_foot.loc[(np.abs(df_foot.left - df_foot.right) < 0.1) & n_total > 20, 'foot'] = 'both'\n",
    "df_foot.loc[(df_foot.foot.isnull()) & (df_foot.left > df_foot.right), 'foot'] = 'left'\n",
    "df_foot.loc[(df_foot.foot.isnull()), 'foot'] = 'right'"
   ]
  },
  {
   "cell_type": "markdown",
   "metadata": {},
   "source": [
    "Fast attack, win ball in own third, shoot in last quarter in 7-25 seconds"
   ]
  },
  {
   "cell_type": "code",
   "execution_count": 5,
   "metadata": {},
   "outputs": [],
   "source": [
    "df_statsbomb_event['eventSec'] = (df_statsbomb_event.timestamp_minute * 60 + df_statsbomb_event.timestamp_second +\n",
    "                                  df_statsbomb_event.timestamp_millisecond/1000)\n",
    "mask_gk = ((df_statsbomb_event.type_name == 'Goal Keeper') & \n",
    "           (~df_statsbomb_event.goalkeeper_type_name.isin(['Shot Faced', 'Goal Conceded', 'Penalty Conceded'])))\n",
    "mask_50 =((df_statsbomb_event.type_name == '50/50') & \n",
    "          (df_statsbomb_event.outcome_name.isin(['Success To Team', 'Won','Success To Opposition'])))\n",
    "mask_other = (df_statsbomb_event.type_name == 'Interception') | (df_statsbomb_event.duel_type_name == 'Tackle')\n",
    "mask_defence_win = (mask_gk | mask_50 | mask_other) & (df_statsbomb_event.x < 40.08)\n",
    "df_statsbomb_event.loc[mask_defence_win, 'defence_win'] = df_statsbomb_event.loc[mask_defence_win, 'team_id']\n",
    "df_statsbomb_event.loc[mask_defence_win, 'defence_sec'] = df_statsbomb_event.loc[mask_defence_win, 'eventSec']\n",
    "group_match = df_statsbomb_event.groupby(['match_id', 'period'])\n",
    "df_statsbomb_event[['defence_win', 'defence_sec']] = group_match[['defence_win', 'defence_sec']].ffill()\n",
    "mask_fast = (((df_statsbomb_event.eventSec - df_statsbomb_event.defence_sec) <= 25) &\n",
    "             (df_statsbomb_event.x > 90) &\n",
    "             (df_statsbomb_event.type_name == 'Shot') & (df_statsbomb_event.team_id == df_statsbomb_event.defence_win))\n",
    "df_statsbomb_event['fast_break'] = mask_fast"
   ]
  },
  {
   "cell_type": "markdown",
   "metadata": {},
   "source": [
    "Add on previous info"
   ]
  },
  {
   "cell_type": "code",
   "execution_count": 6,
   "metadata": {},
   "outputs": [],
   "source": [
    "# first filter out some events so the previous event is the correct assist type\n",
    "on_ball = ['Ball Recovery','Block','Clearance','Dispossessed','Dribble','Referee Ball-Drop','Shield',\n",
    "           'Error','Foul Won','Goal Keeper','Interception','Miscontrol','Own Goal Against','Pass','Shot']\n",
    "# won 50/50s\n",
    "mask_50_50_success = ((df_statsbomb_event.type_name=='50/50')&\n",
    "                      (df_statsbomb_event.outcome_name.isin(['Won','Success To Team','Success To Opposition'])))\n",
    "# off ball goal keeper\n",
    "mask_goalkeeper_off_ball = df_statsbomb_event.goalkeeper_type_name.isin(['Shot Faced', 'Goal Conceded',\n",
    "                                                                         'Penalty Conceded', 'Smother'])\n",
    "# all on the ball events\n",
    "mask_on_ball = ((df_statsbomb_event.type_name.isin(on_ball))&(~mask_goalkeeper_off_ball))|(mask_50_50_success)\n",
    "df_statsbomb_event = df_statsbomb_event[mask_on_ball].copy()\n",
    "match_group = df_statsbomb_event.groupby(['match_id', 'period'])\n",
    "for i in range(1, 4):\n",
    "    df_statsbomb_event[f'prev_id_{i}'] = match_group.id.shift(i)\n",
    "    df_statsbomb_event[f'prev_type_name_{i}'] = match_group.type_name.shift(i)\n",
    "    df_statsbomb_event[f'prev_player_id_{i}'] = match_group.player_id.shift(i)\n",
    "    df_statsbomb_event[f'prev_team_id_{i}'] = match_group.team_id.shift(i)"
   ]
  },
  {
   "cell_type": "markdown",
   "metadata": {},
   "source": [
    "Add set piece column"
   ]
  },
  {
   "cell_type": "code",
   "execution_count": 7,
   "metadata": {},
   "outputs": [],
   "source": [
    "mask_set_piece1 = df_statsbomb_event.pass_type_name.isin(['Throw-in', 'Corner', 'Free Kick'])\n",
    "mask_set_piece2 = df_statsbomb_event.shot_type_name == 'Free Kick'\n",
    "df_statsbomb_event.loc[mask_set_piece1, 'set_piece'] = df_statsbomb_event.loc[mask_set_piece1, 'pass_type_name']\n",
    "df_statsbomb_event.loc[mask_set_piece2, 'set_piece'] = df_statsbomb_event.loc[mask_set_piece2, 'shot_type_name']"
   ]
  },
  {
   "cell_type": "markdown",
   "metadata": {},
   "source": [
    "Flag 10 seconds from a corner or freekick/ 20 seconds from a throw-in"
   ]
  },
  {
   "cell_type": "code",
   "execution_count": 8,
   "metadata": {},
   "outputs": [],
   "source": [
    "group_match = df_statsbomb_event.groupby(['match_id', 'period'])\n",
    "for set_piece in ['Corner', 'Throw-in', 'Free Kick']:\n",
    "    mask = df_statsbomb_event.set_piece == set_piece\n",
    "    name = set_piece.replace(' ', '_').replace('-', '_').lower()\n",
    "    df_statsbomb_event.loc[mask, f'{name}_sec'] = df_statsbomb_event.loc[mask, 'eventSec']\n",
    "    df_statsbomb_event.loc[mask, f'{name}_team'] = df_statsbomb_event.loc[mask, 'team_id']\n",
    "    df_statsbomb_event[f'{name}_sec'] = group_match[f'{name}_sec'].ffill()\n",
    "    df_statsbomb_event[f'{name}_team'] = group_match[f'{name}_team'].ffill()\n",
    "    df_statsbomb_event[f'{name}_sec'] = df_statsbomb_event.eventSec - df_statsbomb_event[f'{name}_sec']\n",
    "df_statsbomb_event.loc[df_statsbomb_event.throw_in_sec > 20, 'throw_in_sec'] = np.nan\n",
    "df_statsbomb_event.loc[df_statsbomb_event.free_kick_sec > 10, 'free_kick_sec'] = np.nan\n",
    "df_statsbomb_event.loc[df_statsbomb_event.corner_sec > 10, 'corner_sec'] = np.nan\n",
    "df_statsbomb_event['play_type'] = df_statsbomb_event[['throw_in_sec', 'free_kick_sec', 'corner_sec']].idxmin(axis=1).str[:-4]\n",
    "# if throw-in seperate defensive from offensive\n",
    "mask_defensive = ((df_statsbomb_event.play_type == 'throw_in') &\n",
    "                  (df_statsbomb_event['throw_in_team'] != df_statsbomb_event.team_id))\n",
    "df_statsbomb_event.loc[mask_defensive, 'play_type'] = 'defensive_' + df_statsbomb_event.loc[mask_defensive, 'play_type']"
   ]
  },
  {
   "cell_type": "markdown",
   "metadata": {},
   "source": [
    "Add player name"
   ]
  },
  {
   "cell_type": "code",
   "execution_count": 9,
   "metadata": {},
   "outputs": [],
   "source": [
    "player_name_series = df_statsbomb_event.player_name.str.strip().str.replace(pat='\"', repl=\"'\").str.split(' ')\n",
    "df_statsbomb_event['firstName'] = player_name_series.apply(lambda x: x[0] if isinstance(x, list) else None)\n",
    "df_statsbomb_event['middleName'] = player_name_series.apply(lambda x: ' '.join(x[1:-1]) if isinstance(x, list) else None)\n",
    "df_statsbomb_event['middleName'] = df_statsbomb_event['middleName'].str.strip()\n",
    "df_statsbomb_event['lastName'] = player_name_series.apply(lambda x: x[-1] if isinstance(x, list) else None)\n",
    "df_statsbomb_event['Name'] = ((df_statsbomb_event['firstName'] + ' ' + df_statsbomb_event['middleName']).str.strip()\n",
    "                              + ' ' + df_statsbomb_event['lastName'])"
   ]
  },
  {
   "cell_type": "markdown",
   "metadata": {},
   "source": [
    "### Filter Shots"
   ]
  },
  {
   "cell_type": "code",
   "execution_count": 10,
   "metadata": {},
   "outputs": [
    {
     "name": "stdout",
     "output_type": "stream",
     "text": [
      "Number of shots: 21532\n",
      "Number of goals: 2470\n"
     ]
    }
   ],
   "source": [
    "df_statsbomb_shots = (df_statsbomb_event[(df_statsbomb_event.type_name=='Shot')&\n",
    "                                        (~df_statsbomb_event.shot_type_name.isin(['Penalty', 'Corner']))]\n",
    "                      .dropna(how='all', axis=1)\n",
    "                      .copy())\n",
    "print('Number of shots:',len(df_statsbomb_shots))\n",
    "print('Number of goals:', (df_statsbomb_shots.outcome_name == 'Goal').sum())"
   ]
  },
  {
   "cell_type": "markdown",
   "metadata": {},
   "source": [
    "Add on competition gender"
   ]
  },
  {
   "cell_type": "code",
   "execution_count": 11,
   "metadata": {},
   "outputs": [],
   "source": [
    "df_statsbomb_shots = df_statsbomb_shots.merge(df_statsbomb_match[['match_id', 'competition_gender']], on='match_id', how='left')\n",
    "# fill in when the match dataset is missing\n",
    "women = [7298, 22536, 265905, 266234, 266466, 266574, 266933, 267161, 267405, 267609, 267679]\n",
    "men = [18235, 18236, 18237, 18240, 18241, 18242, 18245, 18236, 18237, 18240, 18241, 18242, 18243, 18244, 18245]\n",
    "df_statsbomb_shots.loc[df_statsbomb_shots.match_id.isin(women), 'competition_gender'] = 'female'\n",
    "df_statsbomb_shots.loc[df_statsbomb_shots.match_id.isin(men), 'competition_gender'] = 'male'"
   ]
  },
  {
   "cell_type": "markdown",
   "metadata": {},
   "source": [
    "StatsBomb: Add on shot fidelity"
   ]
  },
  {
   "cell_type": "code",
   "execution_count": 12,
   "metadata": {},
   "outputs": [],
   "source": [
    "additional_higher_fidelity_shots = [22536, 265905, 266234, 266466, 266574, 266933, 267161, 267405,\n",
    "                                    267609, 267679]\n",
    "df_statsbomb_shots = df_statsbomb_shots.merge(df_statsbomb_match[['match_id', 'metadata_shot_fidelity_version']],\n",
    "                                              on='match_id', how='left', validate='m:1')\n",
    "df_statsbomb_shots.loc[df_statsbomb_shots.match_id.isin(additional_higher_fidelity_shots),\n",
    "                       'metadata_shot_fidelity_version'] = '2'"
   ]
  },
  {
   "cell_type": "markdown",
   "metadata": {},
   "source": [
    "Add on pass assist information"
   ]
  },
  {
   "cell_type": "code",
   "execution_count": 13,
   "metadata": {},
   "outputs": [],
   "source": [
    "pass_cols = ['pass_assisted_shot_id', 'end_x', 'end_y', 'pass_length', 'pass_angle', 'pass_height_name',\n",
    "             'pass_type_name', 'pass_switch', 'pass_through_ball',\n",
    "             'pass_technique_name', 'pass_cross', 'pass_cut_back']\n",
    "df_pass = df_statsbomb_event.loc[df_statsbomb_event.pass_assisted_shot_id.notnull(), pass_cols]\n",
    "df_pass.rename({'pass_assisted_shot_id': 'id', 'end_x': 'pass_end_x', 'end_y': 'pass_end_y'}, axis=1, inplace=True)\n",
    "df_pass['pass_switch'].fillna(False, inplace=True)\n",
    "df_pass['pass_cross'].fillna(False, inplace=True)\n",
    "df_pass['pass_cut_back'].fillna(False, inplace=True)\n",
    "df_statsbomb_shots = df_statsbomb_shots.merge(df_pass, on='id', how='left')\n",
    "# one through ball not included in the pass_technique name\n",
    "df_statsbomb_shots.loc[df_statsbomb_shots.pass_through_ball == True, 'pass_technique_name'] = 'Through Ball'\n",
    "df_statsbomb_shots.drop('pass_through_ball', axis=1, inplace=True)"
   ]
  },
  {
   "cell_type": "markdown",
   "metadata": {},
   "source": [
    "Simplify the pass height name column"
   ]
  },
  {
   "cell_type": "code",
   "execution_count": 14,
   "metadata": {},
   "outputs": [],
   "source": [
    "df_statsbomb_shots.pass_height_name.replace({'Ground Pass': 'Ground/ Low Pass',\n",
    "                                             'Low Pass': 'Ground/ Low Pass'}, inplace=True)"
   ]
  },
  {
   "cell_type": "markdown",
   "metadata": {},
   "source": [
    "Add carry length"
   ]
  },
  {
   "cell_type": "code",
   "execution_count": 15,
   "metadata": {},
   "outputs": [],
   "source": [
    "df_statsbomb_shots['carry_length'] = (((df_statsbomb_shots.x - df_statsbomb_shots.pass_end_x) / 120 * 115) ** 2 +\n",
    "                                      ((df_statsbomb_shots.y - df_statsbomb_shots.pass_end_y) / 80 * 74) ** 2) ** 0.5"
   ]
  },
  {
   "cell_type": "markdown",
   "metadata": {},
   "source": [
    "Simplify body part name. As wyscout just has either foot and other"
   ]
  },
  {
   "cell_type": "code",
   "execution_count": 16,
   "metadata": {},
   "outputs": [],
   "source": [
    "df_statsbomb_shots['body_part_name'] = df_statsbomb_shots.body_part_name.replace({'Head': 'Other'})"
   ]
  },
  {
   "cell_type": "markdown",
   "metadata": {},
   "source": [
    "Merge on strongest foot"
   ]
  },
  {
   "cell_type": "code",
   "execution_count": 17,
   "metadata": {},
   "outputs": [],
   "source": [
    "df_statsbomb_shots = df_statsbomb_shots.merge(df_foot, how='left', on='player_id')"
   ]
  },
  {
   "cell_type": "markdown",
   "metadata": {},
   "source": [
    "Flag for whether shot is on the strongest foot"
   ]
  },
  {
   "cell_type": "code",
   "execution_count": 18,
   "metadata": {},
   "outputs": [],
   "source": [
    "df_statsbomb_shots['strong_foot'] = (((df_statsbomb_shots.foot.isin(['left', 'both'])) &\n",
    "                                     (df_statsbomb_shots.body_part_name == 'Left Foot')) |\n",
    "                                    ((df_statsbomb_shots.foot.isin(['right', 'both'])) & \n",
    "                                     (df_statsbomb_shots.body_part_name == 'Right Foot')))"
   ]
  },
  {
   "cell_type": "markdown",
   "metadata": {},
   "source": [
    "Side of field"
   ]
  },
  {
   "cell_type": "code",
   "execution_count": 19,
   "metadata": {},
   "outputs": [],
   "source": [
    "df_statsbomb_shots.loc[df_statsbomb_shots.y < 36, 'side'] = 'left'\n",
    "df_statsbomb_shots.loc[(df_statsbomb_shots.y >= 36) & (df_statsbomb_shots.y <= 44), 'side'] = 'center'\n",
    "df_statsbomb_shots.loc[df_statsbomb_shots.y > 44, 'side'] = 'right'"
   ]
  },
  {
   "cell_type": "markdown",
   "metadata": {},
   "source": [
    "Convert coordinates to standard pitch size (105m * 68m)"
   ]
  },
  {
   "cell_type": "code",
   "execution_count": 20,
   "metadata": {},
   "outputs": [],
   "source": [
    "x_cols = ['x', 'pass_end_x']\n",
    "y_cols = ['y', 'pass_end_y']\n",
    "df_statsbomb_shots[x_cols] = (df_statsbomb_shots[x_cols]) / float(pitch_statsbomb.right) * pitch_statsperform.right\n",
    "df_statsbomb_shots[y_cols] = ((float(pitch_statsbomb.bottom) - df_statsbomb_shots[y_cols]) /\n",
    "                              float(pitch_statsbomb.bottom)  * pitch_statsperform.top)"
   ]
  },
  {
   "cell_type": "markdown",
   "metadata": {},
   "source": [
    "Angles/ distance to goals"
   ]
  },
  {
   "cell_type": "code",
   "execution_count": 21,
   "metadata": {},
   "outputs": [],
   "source": [
    "left_post, right_post = pitch_statsperform.goal_right\n",
    "goal_width = abs(right_post - left_post)[1]\n",
    "dx = abs(pitch_statsperform.right - df_statsbomb_shots.x)\n",
    "dy = abs(pitch_statsperform.center_width - df_statsbomb_shots.y)\n",
    "df_statsbomb_shots['visible_angle'] = np.arctan2(goal_width * dx , (dx**2 + dy**2 - (goal_width / 2.) ** 2))\n",
    "df_statsbomb_shots['middle_angle'] = np.arctan2(dy, dx)\n",
    "df_statsbomb_shots['distance_to_goal'] = round((dy**2 + dx**2)**0.5, 1)"
   ]
  },
  {
   "cell_type": "markdown",
   "metadata": {},
   "source": [
    "Interaction between angle and distance"
   ]
  },
  {
   "cell_type": "code",
   "execution_count": 22,
   "metadata": {},
   "outputs": [],
   "source": [
    "df_statsbomb_shots['distance_mid_angle'] = df_statsbomb_shots.distance_to_goal * df_statsbomb_shots.middle_angle\n",
    "df_statsbomb_shots['distance_visible_angle'] = df_statsbomb_shots.distance_to_goal * df_statsbomb_shots.visible_angle"
   ]
  },
  {
   "cell_type": "markdown",
   "metadata": {},
   "source": [
    "Log distance"
   ]
  },
  {
   "cell_type": "code",
   "execution_count": 23,
   "metadata": {},
   "outputs": [],
   "source": [
    "df_statsbomb_shots['log_distance_to_goal'] = np.log(df_statsbomb_shots.distance_to_goal)"
   ]
  },
  {
   "cell_type": "markdown",
   "metadata": {},
   "source": [
    "Counter attack"
   ]
  },
  {
   "cell_type": "code",
   "execution_count": 24,
   "metadata": {},
   "outputs": [],
   "source": [
    "df_statsbomb_shots['counter_attack'] = df_statsbomb_shots.play_pattern_name == 'From Counter'"
   ]
  },
  {
   "cell_type": "markdown",
   "metadata": {},
   "source": [
    "Assist type"
   ]
  },
  {
   "cell_type": "code",
   "execution_count": 25,
   "metadata": {},
   "outputs": [],
   "source": [
    "df_statsbomb_shots.loc[df_statsbomb_shots.pass_end_x.notnull(), 'assist_type'] = 'pass'\n",
    "df_statsbomb_shots.loc[df_statsbomb_shots.shot_type_name.isin(['Free Kick', 'Corner', 'Kick Off']), 'assist_type'] = 'direct'\n",
    "df_statsbomb_shots.loc[df_statsbomb_shots.assist_type.isnull() &\n",
    "                       ((df_statsbomb_shots.prev_type_name_3.isin(['Shot', 'Goal Keeper'])) |\n",
    "                        (df_statsbomb_shots.prev_type_name_2.isin(['Shot', 'Goal Keeper'])) |\n",
    "                        (df_statsbomb_shots.prev_type_name_1.isin(['Shot', 'Goal Keeper']))), 'assist_type'] = 'rebound'\n",
    "df_statsbomb_shots.loc[df_statsbomb_shots.assist_type.isnull() &\n",
    "                       ((df_statsbomb_shots.prev_type_name_3.isin(['Clearance'])) |\n",
    "                        (df_statsbomb_shots.prev_type_name_2.isin(['Clearance'])) |\n",
    "                        (df_statsbomb_shots.prev_type_name_1.isin(['Clearance']))), 'assist_type'] = 'clearance'\n",
    "df_statsbomb_shots.loc[df_statsbomb_shots.assist_type.isnull(), 'assist_type'] = 'recovery'"
   ]
  },
  {
   "cell_type": "markdown",
   "metadata": {},
   "source": [
    "Shot type name"
   ]
  },
  {
   "cell_type": "code",
   "execution_count": 26,
   "metadata": {},
   "outputs": [],
   "source": [
    "df_statsbomb_shots.shot_type_name.replace({'Open Play': np.nan,\n",
    "                                           'Free Kick': 'direct_set_piece',\n",
    "                                           'Kick Off': 'direct_set_piece'}, inplace=True)\n",
    "mask_null = df_statsbomb_shots.shot_type_name.isnull()\n",
    "df_statsbomb_shots.loc[mask_null, 'shot_type_name'] = df_statsbomb_shots.loc[mask_null, 'play_type']\n",
    "df_statsbomb_shots.loc[df_statsbomb_shots.shot_type_name.isnull(), 'shot_type_name'] = 'open_play'"
   ]
  },
  {
   "cell_type": "markdown",
   "metadata": {},
   "source": [
    "Add goal boolean"
   ]
  },
  {
   "cell_type": "code",
   "execution_count": 27,
   "metadata": {},
   "outputs": [],
   "source": [
    "df_statsbomb_shots['goal'] = df_statsbomb_shots.outcome_name == 'Goal'"
   ]
  },
  {
   "cell_type": "markdown",
   "metadata": {},
   "source": [
    "Turn some of the StatsBomb columns to boolean columns"
   ]
  },
  {
   "cell_type": "code",
   "execution_count": 28,
   "metadata": {},
   "outputs": [],
   "source": [
    "df_statsbomb_shots['shot_open_goal'].fillna(False, inplace=True)\n",
    "df_statsbomb_shots['under_pressure'] = df_statsbomb_shots['under_pressure'].fillna(0).astype(np.bool)\n",
    "df_statsbomb_shots['shot_one_on_one'].fillna(False, inplace=True)"
   ]
  },
  {
   "cell_type": "markdown",
   "metadata": {},
   "source": [
    "Reduce columns"
   ]
  },
  {
   "cell_type": "code",
   "execution_count": 29,
   "metadata": {},
   "outputs": [],
   "source": [
    "cols_to_keep = ['match_id', 'id', 'goal', 'team_id', 'team_name', 'player_id', 'firstName',\n",
    "                'middleName', 'lastName', 'Name', 'shot_type_name', 'x', 'y', 'counter_attack',\n",
    "                'fast_break', 'strong_foot', 'body_part_name', 'assist_type',\n",
    "                'pass_end_y', 'pass_end_x', 'pass_switch', 'pass_cross',\n",
    "                'pass_cut_back', 'pass_height_name', 'pass_technique_name',\n",
    "                'pass_length', 'pass_angle', 'carry_length', 'side', 'visible_angle',\n",
    "                'middle_angle', 'distance_to_goal', 'distance_mid_angle',\n",
    "                'distance_visible_angle', 'log_distance_to_goal', 'competition_gender',\n",
    "                'shot_one_on_one', 'shot_open_goal', 'under_pressure']\n",
    "df_statsbomb_shots = df_statsbomb_shots[cols_to_keep].copy()"
   ]
  },
  {
   "cell_type": "markdown",
   "metadata": {},
   "source": [
    "Save dataset"
   ]
  },
  {
   "cell_type": "code",
   "execution_count": 30,
   "metadata": {},
   "outputs": [],
   "source": [
    "df_statsbomb_shots.reset_index(drop=True, inplace=True)\n",
    "df_statsbomb_shots.to_parquet(os.path.join(STATSBOMB, 'shots.parquet'))"
   ]
  },
  {
   "cell_type": "markdown",
   "metadata": {},
   "source": [
    "Show information"
   ]
  },
  {
   "cell_type": "code",
   "execution_count": 31,
   "metadata": {},
   "outputs": [
    {
     "name": "stdout",
     "output_type": "stream",
     "text": [
      "<class 'pandas.core.frame.DataFrame'>\n",
      "RangeIndex: 21532 entries, 0 to 21531\n",
      "Data columns (total 39 columns):\n",
      " #   Column                  Non-Null Count  Dtype  \n",
      "---  ------                  --------------  -----  \n",
      " 0   match_id                21532 non-null  int64  \n",
      " 1   id                      21532 non-null  object \n",
      " 2   goal                    21532 non-null  bool   \n",
      " 3   team_id                 21532 non-null  int64  \n",
      " 4   team_name               21532 non-null  object \n",
      " 5   player_id               21532 non-null  float64\n",
      " 6   firstName               21532 non-null  object \n",
      " 7   middleName              21532 non-null  object \n",
      " 8   lastName                21532 non-null  object \n",
      " 9   Name                    21532 non-null  object \n",
      " 10  shot_type_name          21532 non-null  object \n",
      " 11  x                       21532 non-null  float64\n",
      " 12  y                       21532 non-null  float64\n",
      " 13  counter_attack          21532 non-null  bool   \n",
      " 14  fast_break              21532 non-null  bool   \n",
      " 15  strong_foot             21532 non-null  bool   \n",
      " 16  body_part_name          21532 non-null  object \n",
      " 17  assist_type             21532 non-null  object \n",
      " 18  pass_end_y              15291 non-null  float64\n",
      " 19  pass_end_x              15291 non-null  float64\n",
      " 20  pass_switch             15291 non-null  object \n",
      " 21  pass_cross              15291 non-null  object \n",
      " 22  pass_cut_back           15291 non-null  object \n",
      " 23  pass_height_name        15291 non-null  object \n",
      " 24  pass_technique_name     2028 non-null   object \n",
      " 25  pass_length             15291 non-null  float64\n",
      " 26  pass_angle              15291 non-null  float64\n",
      " 27  carry_length            15291 non-null  float64\n",
      " 28  side                    21532 non-null  object \n",
      " 29  visible_angle           21532 non-null  float64\n",
      " 30  middle_angle            21532 non-null  float64\n",
      " 31  distance_to_goal        21532 non-null  float64\n",
      " 32  distance_mid_angle      21532 non-null  float64\n",
      " 33  distance_visible_angle  21532 non-null  float64\n",
      " 34  log_distance_to_goal    21532 non-null  float64\n",
      " 35  competition_gender      21532 non-null  object \n",
      " 36  shot_one_on_one         21532 non-null  bool   \n",
      " 37  shot_open_goal          21532 non-null  bool   \n",
      " 38  under_pressure          21532 non-null  bool   \n",
      "dtypes: bool(7), float64(14), int64(2), object(16)\n",
      "memory usage: 5.4+ MB\n"
     ]
    }
   ],
   "source": [
    "df_statsbomb_shots.info()"
   ]
  }
 ],
 "metadata": {
  "kernelspec": {
   "display_name": "Python 3",
   "language": "python",
   "name": "python3"
  },
  "language_info": {
   "codemirror_mode": {
    "name": "ipython",
    "version": 3
   },
   "file_extension": ".py",
   "mimetype": "text/x-python",
   "name": "python",
   "nbconvert_exporter": "python",
   "pygments_lexer": "ipython3",
   "version": "3.7.7"
  }
 },
 "nbformat": 4,
 "nbformat_minor": 4
}
