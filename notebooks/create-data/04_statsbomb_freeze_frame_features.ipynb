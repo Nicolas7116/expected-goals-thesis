{
 "cells": [
  {
   "cell_type": "code",
   "execution_count": null,
   "metadata": {},
   "outputs": [],
   "source": [
    "import pandas as pd\n",
    "import numpy as np\n",
    "import os\n",
    "from mplsoccer.pitch import Pitch\n",
    "from shapely.geometry import MultiPoint, Polygon, Point"
   ]
  },
  {
   "cell_type": "markdown",
   "metadata": {},
   "source": [
    "Load the data"
   ]
  },
  {
   "cell_type": "code",
   "execution_count": null,
   "metadata": {},
   "outputs": [],
   "source": [
    "STATSBOMB = os.path.join('..', '..', 'data', 'statsbomb')\n",
    "df_statsbomb_event = pd.read_parquet(os.path.join(STATSBOMB, 'event.parquet'))\n",
    "df_statsbomb_freeze = pd.read_parquet(os.path.join(STATSBOMB, 'freeze.parquet'))"
   ]
  },
  {
   "cell_type": "markdown",
   "metadata": {},
   "source": [
    "Filter shots"
   ]
  },
  {
   "cell_type": "code",
   "execution_count": null,
   "metadata": {},
   "outputs": [],
   "source": [
    "df_statsbomb_shot = df_statsbomb_event[df_statsbomb_event.type_name == 'Shot'].copy()"
   ]
  },
  {
   "cell_type": "markdown",
   "metadata": {},
   "source": [
    "# Features based on StatsBomb freeze frame"
   ]
  },
  {
   "cell_type": "markdown",
   "metadata": {},
   "source": [
    "Features based on freeze frame - this takes a while as looping over 20k+ shots:\n",
    "- space around goaly\n",
    "- space around shooter\n",
    "- number of players in shot angle to goal"
   ]
  },
  {
   "cell_type": "markdown",
   "metadata": {},
   "source": [
    "Filter out penalty goals from freeze frames"
   ]
  },
  {
   "cell_type": "code",
   "execution_count": null,
   "metadata": {},
   "outputs": [],
   "source": [
    "non_penalty_id = df_statsbomb_shot.loc[(df_statsbomb_shot.shot_type_name != 'Penalty'), 'id']\n",
    "df_statsbomb_freeze = df_statsbomb_freeze[df_statsbomb_freeze.id.isin(non_penalty_id)].copy()"
   ]
  },
  {
   "cell_type": "markdown",
   "metadata": {},
   "source": [
    "Add the shot taker to the freeze frame"
   ]
  },
  {
   "cell_type": "code",
   "execution_count": null,
   "metadata": {},
   "outputs": [],
   "source": [
    "cols_to_keep = ['id','player_id','player_name','position_id','position_name','x','y','match_id']\n",
    "freeze_ids = df_statsbomb_freeze.id.unique()\n",
    "df_shot_taker = df_statsbomb_shot.loc[df_statsbomb_shot.id.isin(freeze_ids), cols_to_keep].copy()\n",
    "df_shot_taker['player_teammate'] = True\n",
    "df_shot_taker['event_freeze_id'] = 0\n",
    "df_shot_taker.rename({'position_id': 'player_position_id', 'position_name': 'player_position_name'}, axis=1, inplace=True)\n",
    "df_statsbomb_freeze = pd.concat([df_statsbomb_freeze, df_shot_taker])"
   ]
  },
  {
   "cell_type": "markdown",
   "metadata": {},
   "source": [
    "Calculate features"
   ]
  },
  {
   "cell_type": "code",
   "execution_count": null,
   "metadata": {},
   "outputs": [],
   "source": [
    "statsbomb_pitch = Pitch()\n",
    "\n",
    "# store the results in lists\n",
    "area_goal = []\n",
    "area_shot = []\n",
    "n_angle = []\n",
    "\n",
    "# loop through the freeze frames create a voronoi and calculate the area around the goalkeeper/ shot taker\n",
    "for shot_id in df_statsbomb_freeze.id.unique():\n",
    "    subset = df_statsbomb_freeze.loc[df_statsbomb_freeze.id == shot_id,\n",
    "                                     ['x', 'y', 'player_teammate', 'event_freeze_id', \n",
    "                                      'player_position_id','player_position_name']].copy()\n",
    "    team1, team2 = statsbomb_pitch.voronoi(subset.x, subset.y, subset.player_teammate)\n",
    "    subset['rank'] = subset.groupby('player_teammate')['x'].cumcount()\n",
    "    \n",
    "    # goal keeper voronoi\n",
    "    if (subset.player_position_name=='Goalkeeper').sum() > 0:\n",
    "        goalkeeper_voronoi = team2[subset.loc[subset.player_position_id == 1, 'rank'].values[0]]\n",
    "        area_goal.append(Polygon(goalkeeper_voronoi).area)\n",
    "    else:\n",
    "        area_goal.append(0)\n",
    "    \n",
    "    # shot voronoi\n",
    "    shot_taker_voronoi = team1[subset.loc[subset.event_freeze_id == 0, 'rank'].values[0]]\n",
    "    area_shot.append(Polygon(shot_taker_voronoi).area)\n",
    "    \n",
    "    # calculate number of players in the angle to the goal\n",
    "    shot_taker = subset.loc[subset.event_freeze_id == 0, ['x', 'y']]\n",
    "    verts = np.zeros((3, 2))\n",
    "    verts[0, 0] = shot_taker.x\n",
    "    verts[0, 1] = shot_taker.y\n",
    "    verts[1:, :] = statsbomb_pitch.goal_right\n",
    "    angle = Polygon(verts).buffer(0)  # the angle to the goal polygon, buffer added as sometimes shot is on the goal line\n",
    "    players = MultiPoint(subset.loc[subset.event_freeze_id!=0, ['x', 'y']].values.tolist())  # points for players\n",
    "    intersection = players.intersection(angle)  # intersection between angle and players\n",
    "    if isinstance(intersection, MultiPoint):  # calculate number of players\n",
    "        n_players = len(players.intersection(angle))\n",
    "    elif isinstance(intersection, Point):\n",
    "        n_players = 1\n",
    "    else:\n",
    "        n_players = 0\n",
    "    n_angle.append(n_players)\n",
    "    \n",
    "# create a dataframe\n",
    "df_freeze_features = pd.DataFrame({'id': df_statsbomb_freeze.id.unique(), 'area_shot': area_shot,\n",
    "                                   'area_goal': area_goal, 'n_angle': n_angle})"
   ]
  },
  {
   "cell_type": "markdown",
   "metadata": {},
   "source": [
    "Add on goalkeeper position"
   ]
  },
  {
   "cell_type": "code",
   "execution_count": null,
   "metadata": {},
   "outputs": [],
   "source": [
    "gk_position = df_statsbomb_freeze.loc[(df_statsbomb_freeze.player_position_name == 'Goalkeeper') &\n",
    "                                      (df_statsbomb_freeze.player_teammate == False), ['id', 'x', 'y']]\n",
    "gk_position.rename({'x': 'goalkeeper_x','y': 'goalkeeper_y'}, axis=1, inplace=True)\n",
    "df_freeze_features = df_freeze_features.merge(gk_position, how='left', on='id', validate='1:1')"
   ]
  },
  {
   "cell_type": "markdown",
   "metadata": {},
   "source": [
    "Save features"
   ]
  },
  {
   "cell_type": "code",
   "execution_count": null,
   "metadata": {},
   "outputs": [],
   "source": [
    "df_freeze_features.to_parquet(os.path.join(STATSBOMB, 'freeze_features.parquet'))\n",
    "df_freeze_features.info()"
   ]
  }
 ],
 "metadata": {
  "kernelspec": {
   "display_name": "Python 3",
   "language": "python",
   "name": "python3"
  },
  "language_info": {
   "codemirror_mode": {
    "name": "ipython",
    "version": 3
   },
   "file_extension": ".py",
   "mimetype": "text/x-python",
   "name": "python",
   "nbconvert_exporter": "python",
   "pygments_lexer": "ipython3",
   "version": "3.7.7"
  }
 },
 "nbformat": 4,
 "nbformat_minor": 4
}
