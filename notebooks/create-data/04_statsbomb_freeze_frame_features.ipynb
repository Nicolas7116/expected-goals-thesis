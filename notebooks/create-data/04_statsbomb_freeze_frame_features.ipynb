{
 "cells": [
  {
   "cell_type": "code",
   "execution_count": null,
   "metadata": {},
   "outputs": [],
   "source": [
    "import pandas as pd\n",
    "import numpy as np\n",
    "import os\n",
    "from mplsoccer import Pitch, Standardizer\n",
    "from shapely.geometry import MultiPoint, Polygon, Point\n",
    "import geopandas as gpd\n",
    "from tqdm import tqdm"
   ]
  },
  {
   "cell_type": "markdown",
   "metadata": {},
   "source": [
    "Load the data"
   ]
  },
  {
   "cell_type": "code",
   "execution_count": null,
   "metadata": {},
   "outputs": [],
   "source": [
    "STATSBOMB = os.path.join('..', '..', 'data', 'statsbomb')\n",
    "df_statsbomb_event = pd.read_parquet(os.path.join(STATSBOMB, 'event.parquet'))\n",
    "df_statsbomb_freeze = pd.read_parquet(os.path.join(STATSBOMB, 'freeze.parquet'))"
   ]
  },
  {
   "cell_type": "markdown",
   "metadata": {},
   "source": [
    "Filter shots"
   ]
  },
  {
   "cell_type": "code",
   "execution_count": null,
   "metadata": {},
   "outputs": [],
   "source": [
    "df_statsbomb_shot = df_statsbomb_event[df_statsbomb_event['type_name'] == 'Shot'].copy()"
   ]
  },
  {
   "cell_type": "markdown",
   "metadata": {},
   "source": [
    "Statsbomb pitch"
   ]
  },
  {
   "cell_type": "code",
   "execution_count": null,
   "metadata": {},
   "outputs": [],
   "source": [
    "statsbomb_pitch = Pitch()"
   ]
  },
  {
   "cell_type": "markdown",
   "metadata": {},
   "source": [
    "# Features based on StatsBomb freeze frame"
   ]
  },
  {
   "cell_type": "markdown",
   "metadata": {},
   "source": [
    "Features based on freeze frame - this takes a while as looping over many thousands of shots:\n",
    "- space around goaly\n",
    "- space around shooter\n",
    "- number of defenders in shot angle to goal"
   ]
  },
  {
   "cell_type": "markdown",
   "metadata": {},
   "source": [
    "Filter out penalty goals from freeze frames"
   ]
  },
  {
   "cell_type": "code",
   "execution_count": null,
   "metadata": {},
   "outputs": [],
   "source": [
    "non_penalty_id = df_statsbomb_shot.loc[(df_statsbomb_shot['sub_type_name'] != 'Penalty'), 'id']\n",
    "df_statsbomb_freeze = df_statsbomb_freeze[df_statsbomb_freeze['id'].isin(non_penalty_id)].copy()"
   ]
  },
  {
   "cell_type": "markdown",
   "metadata": {},
   "source": [
    "Add the shot taker to the freeze frame, which is generally not included although thtere are a few cases where they are"
   ]
  },
  {
   "cell_type": "code",
   "execution_count": null,
   "metadata": {},
   "outputs": [],
   "source": [
    "cols_to_keep = ['id', 'player_id', 'player_name', 'position_id', 'position_name', 'x', 'y', 'match_id']\n",
    "freeze_ids = df_statsbomb_freeze['id'].unique()\n",
    "\n",
    "df_shot_taker = df_statsbomb_shot.loc[df_statsbomb_shot['id'].isin(freeze_ids), cols_to_keep].copy()\n",
    "df_shot_taker['teammate'] = True\n",
    "df_shot_taker['event_freeze_id'] = 0\n",
    "df_statsbomb_freeze = pd.concat([df_statsbomb_freeze, df_shot_taker])\n",
    "\n",
    "# get rid of duplicated players (around 7 after adding shot from event dataframe and keep the event from event dataframe)\n",
    "df_statsbomb_freeze.sort_values(['id', 'event_freeze_id'], inplace=True)\n",
    "df_statsbomb_freeze.drop_duplicates(['id', 'player_id'], keep='first', inplace=True)"
   ]
  },
  {
   "cell_type": "markdown",
   "metadata": {},
   "source": [
    "Calculate number of defenders in the goal angle"
   ]
  },
  {
   "cell_type": "code",
   "execution_count": null,
   "metadata": {},
   "outputs": [],
   "source": [
    "shot_takers = df_statsbomb_freeze[df_statsbomb_freeze['event_freeze_id'] == 0].copy()  # we added this earlier\n",
    "shot_takers.reset_index(drop=True, inplace=True)\n",
    "\n",
    "verts = np.zeros((len(shot_takers), 3, 2))\n",
    "verts[:, 1:, :] = statsbomb_pitch.goal_right\n",
    "verts[:, 0, :] = shot_takers[['x', 'y']].values\n",
    "verts = gpd.GeoSeries([Polygon(vert).buffer(0) for vert in verts])  # the angle to the goal polygon, buffer added as sometimes shot is on the goal line\n",
    "verts = gpd.GeoDataFrame({'id': shot_takers['id'], 'goal_angle': gpd.GeoSeries(verts)})\n",
    "\n",
    "player_positions = gpd.GeoSeries.from_xy(df_statsbomb_freeze['x'], df_statsbomb_freeze['y'])\n",
    "player_positions = gpd.GeoDataFrame({'id': df_statsbomb_freeze['id'], 'event_freeze_id': df_statsbomb_freeze['event_freeze_id'], 'position': player_positions})\n",
    "\n",
    "# merge the goal angle onto the player positions\n",
    "player_positions = gpd.GeoDataFrame(player_positions.merge(verts, on='id'))\n",
    "\n",
    "# add a mask for whether the player intersects with the goal angle\n",
    "player_positions['n_angle'] = player_positions['position'].intersects(player_positions['goal_angle'])\n",
    "df_statsbomb_freeze = df_statsbomb_freeze.merge(player_positions[['id', 'event_freeze_id', 'n_angle']], on=['id', 'event_freeze_id'])\n",
    "\n",
    "# calculate the number of defenders in the goal angle\n",
    "num_in_goal_angle = df_statsbomb_freeze[df_statsbomb_freeze['teammate'] == False].groupby('id')['n_angle'].sum().reset_index()"
   ]
  },
  {
   "cell_type": "markdown",
   "metadata": {},
   "source": [
    "Standardize the coordinates to 105 * 68 pitch"
   ]
  },
  {
   "cell_type": "code",
   "execution_count": null,
   "metadata": {},
   "outputs": [],
   "source": [
    "standard = Standardizer(pitch_from='statsbomb', pitch_to='uefa')\n",
    "x_std, y_std = standard.transform(df_statsbomb_freeze['x'], df_statsbomb_freeze['y'])\n",
    "df_statsbomb_freeze['x'] = x_std\n",
    "df_statsbomb_freeze['y'] = y_std"
   ]
  },
  {
   "cell_type": "markdown",
   "metadata": {},
   "source": [
    "Use Voronoi to calculate the amount of space around the shot taker and goalkeepper"
   ]
  },
  {
   "cell_type": "code",
   "execution_count": null,
   "metadata": {},
   "outputs": [],
   "source": [
    "area_goal = []\n",
    "area_shot = []\n",
    "\n",
    "for shot_id in tqdm(df_statsbomb_freeze['id'].unique()):\n",
    "    subset = df_statsbomb_freeze.loc[df_statsbomb_freeze['id'] == shot_id,\n",
    "                                     ['x', 'y', 'teammate', 'event_freeze_id', 'position_id','position_name']].copy()\n",
    "    team1, team2 = statsbomb_pitch.voronoi(subset['x'], subset['y'], subset['teammate'])\n",
    "    subset['rank'] = subset.groupby('teammate')['x'].cumcount()\n",
    "\n",
    "    gk_rank = subset.loc[(subset['teammate'] == False) & (subset['position_id'] == 1), 'rank']\n",
    "    if len(gk_rank) > 0:\n",
    "        area_goal.append(Polygon(team2[gk_rank.iloc[0]]).area)\n",
    "    else:\n",
    "        area_goal.append(0)\n",
    "\n",
    "    shot_taker_voronoi = team1[subset.loc[subset['event_freeze_id'] == 0, 'rank'].iloc[0]]\n",
    "    area_shot.append(Polygon(shot_taker_voronoi).area)\n",
    "\n",
    "df_freeze_features = pd.DataFrame({'id': df_statsbomb_freeze['id'].unique(),\n",
    "                                   'area_shot': area_shot,\n",
    "                                   'area_goal': area_goal}\n",
    "                                 )"
   ]
  },
  {
   "cell_type": "markdown",
   "metadata": {},
   "source": [
    "Combine voronoi features, goalkeeper position and the number of players in the goal angle"
   ]
  },
  {
   "cell_type": "code",
   "execution_count": null,
   "metadata": {},
   "outputs": [],
   "source": [
    "gk_position = df_statsbomb_freeze.loc[(df_statsbomb_freeze['position_name'] == 'Goalkeeper') &\n",
    "                                      (df_statsbomb_freeze['teammate'] == False),\n",
    "                                      ['id', 'x', 'y']]\n",
    "gk_position.rename({'x': 'goalkeeper_x',\n",
    "                    'y': 'goalkeeper_y'},\n",
    "                   axis=1, inplace=True)"
   ]
  },
  {
   "cell_type": "code",
   "execution_count": null,
   "metadata": {},
   "outputs": [],
   "source": [
    "df_freeze_features = (df_freeze_features\n",
    "                      .merge(num_in_goal_angle, how='left', on='id', validate='1:1')\n",
    "                      .merge(gk_position, how='left', on='id', validate='1:1')\n",
    "                     )"
   ]
  },
  {
   "cell_type": "markdown",
   "metadata": {},
   "source": [
    "Save features"
   ]
  },
  {
   "cell_type": "code",
   "execution_count": null,
   "metadata": {},
   "outputs": [],
   "source": [
    "df_freeze_features.to_parquet(os.path.join(STATSBOMB, 'freeze_features.parquet'))\n",
    "df_freeze_features.info()"
   ]
  }
 ],
 "metadata": {
  "kernelspec": {
   "display_name": "Python 3 (ipykernel)",
   "language": "python",
   "name": "python3"
  },
  "language_info": {
   "codemirror_mode": {
    "name": "ipython",
    "version": 3
   },
   "file_extension": ".py",
   "mimetype": "text/x-python",
   "name": "python",
   "nbconvert_exporter": "python",
   "pygments_lexer": "ipython3",
   "version": "3.10.6"
  }
 },
 "nbformat": 4,
 "nbformat_minor": 4
}
