{
 "cells": [
  {
   "cell_type": "code",
   "execution_count": 1,
   "metadata": {},
   "outputs": [],
   "source": [
    "import pandas as pd\n",
    "import numpy as np\n",
    "import os\n",
    "import matplotlib.pyplot as plt\n",
    "from mplsoccer.pitch import Pitch\n",
    "import shapely.geometry as geom"
   ]
  },
  {
   "cell_type": "markdown",
   "metadata": {},
   "source": [
    "Load the data"
   ]
  },
  {
   "cell_type": "code",
   "execution_count": 2,
   "metadata": {},
   "outputs": [],
   "source": [
    "WYSCOUT = os.path.join('..', '..', 'data', 'wyscout')\n",
    "df_wyscout_event = pd.read_parquet(os.path.join(WYSCOUT, 'event.parquet'))\n",
    "df_wyscout_player = pd.read_parquet(os.path.join(WYSCOUT, 'player.parquet'))\n",
    "df_wyscout_match = pd.read_parquet(os.path.join(WYSCOUT, 'match.parquet'))"
   ]
  },
  {
   "cell_type": "markdown",
   "metadata": {},
   "source": [
    "Add on team name"
   ]
  },
  {
   "cell_type": "code",
   "execution_count": 3,
   "metadata": {},
   "outputs": [],
   "source": [
    "df_team = pd.concat([(df_wyscout_match[['away_team_id', 'away_team_name']]\n",
    "                      .rename({'away_team_id': 'team_id', 'away_team_name': 'team_name'}, axis=1)),\n",
    "                     (df_wyscout_match[['home_team_id', 'home_team_name']]\n",
    "                      .rename({'home_team_id': 'team_id', 'home_team_name': 'team_name'}, axis=1))])\n",
    "df_team.drop_duplicates('team_id', inplace=True)\n",
    "df_wyscout_event = df_wyscout_event.merge(df_team, on='team_id', how='left')"
   ]
  },
  {
   "cell_type": "markdown",
   "metadata": {},
   "source": [
    "Replace player_id = Zero with nullm"
   ]
  },
  {
   "cell_type": "code",
   "execution_count": 4,
   "metadata": {},
   "outputs": [],
   "source": [
    "df_wyscout_event.player_id.replace({0: np.nan}, inplace=True)"
   ]
  },
  {
   "cell_type": "markdown",
   "metadata": {},
   "source": [
    "Pitches for coordinate conversion"
   ]
  },
  {
   "cell_type": "code",
   "execution_count": 5,
   "metadata": {},
   "outputs": [],
   "source": [
    "pitch_wyscout = Pitch(pitch_type='wyscout')\n",
    "pitch_statsperform = Pitch(pitch_type='statsperform', figsize=(16, 9))"
   ]
  },
  {
   "cell_type": "markdown",
   "metadata": {},
   "source": [
    "Rename Free Kick to Set Piece"
   ]
  },
  {
   "cell_type": "code",
   "execution_count": 6,
   "metadata": {},
   "outputs": [],
   "source": [
    "df_wyscout_event.eventName.replace('Free Kick', 'Set Piece', inplace=True)"
   ]
  },
  {
   "cell_type": "markdown",
   "metadata": {},
   "source": [
    "Add on a column for a pass attempt"
   ]
  },
  {
   "cell_type": "code",
   "execution_count": 7,
   "metadata": {},
   "outputs": [],
   "source": [
    "mask_pass = ((df_wyscout_event.eventName == 'Pass') | \n",
    "             df_wyscout_event.subEventName.isin(['Throw in', 'Free Kick', 'Goal kick', 'Corner', 'Free kick cross']))\n",
    "df_wyscout_event['pass_attempt'] = mask_pass"
   ]
  },
  {
   "cell_type": "markdown",
   "metadata": {},
   "source": [
    "Add shot attempt boolean column"
   ]
  },
  {
   "cell_type": "code",
   "execution_count": 8,
   "metadata": {},
   "outputs": [],
   "source": [
    "mask_corner_goal = (df_wyscout_event.subEventName=='Corner') & (df_wyscout_event.goal==True)\n",
    "df_wyscout_event['shot'] = ((df_wyscout_event.eventName == 'Shot') | \n",
    "                            (df_wyscout_event.subEventName=='Free kick shot') | \n",
    "                            (df_wyscout_event.subEventName == 'Penalty') |\n",
    "                            (mask_corner_goal))"
   ]
  },
  {
   "cell_type": "markdown",
   "metadata": {},
   "source": [
    "Add on switch (StatsBomb definition = ball transitioned at least 50% of the pitch vertically). Note that I have already removed dodgy end locations near the corner flags so this works."
   ]
  },
  {
   "cell_type": "code",
   "execution_count": 9,
   "metadata": {},
   "outputs": [],
   "source": [
    "mask_switch = (abs(df_wyscout_event.end_y - df_wyscout_event.y) >= 50) & (df_wyscout_event.pass_attempt)\n",
    "df_wyscout_event['pass_switch'] = mask_switch"
   ]
  },
  {
   "cell_type": "markdown",
   "metadata": {},
   "source": [
    "Add on cross (StatsBomb definition: See Appendix 6 of the Docs for Events)"
   ]
  },
  {
   "cell_type": "code",
   "execution_count": 10,
   "metadata": {},
   "outputs": [],
   "source": [
    "# cross right side start\n",
    "cross_right_start = np.array([[pitch_wyscout.right,\n",
    "                               pitch_wyscout.bottom - pitch_wyscout.six_yard_from_side],\n",
    "                              [pitch_wyscout.right,\n",
    "                               pitch_wyscout.bottom],\n",
    "                              [pitch_wyscout.right - pitch_wyscout.pitch_length*0.3,\n",
    "                               pitch_wyscout.bottom],\n",
    "                              [pitch_wyscout.right - pitch_wyscout.pitch_length*0.3,\n",
    "                               pitch_wyscout.bottom - pitch_wyscout.penalty_area_from_side],\n",
    "                              [pitch_wyscout.right - pitch_wyscout.penalty_area_length,\n",
    "                               pitch_wyscout.bottom - pitch_wyscout.penalty_area_from_side]])\n",
    "cross_right_start = geom.Polygon(cross_right_start)\n",
    "# cross right side end\n",
    "cross_right_end = np.array([[pitch_wyscout.right,\n",
    "                             pitch_wyscout.top],\n",
    "                            [pitch_wyscout.right - pitch_wyscout.penalty_area_length,\n",
    "                             pitch_wyscout.top],\n",
    "                            [pitch_wyscout.right - pitch_wyscout.penalty_area_length,\n",
    "                             pitch_wyscout.bottom - pitch_wyscout.six_yard_from_side],\n",
    "                            [pitch_wyscout.right,\n",
    "                             pitch_wyscout.bottom - pitch_wyscout.six_yard_from_side]])\n",
    "cross_right_end = geom.Polygon(cross_right_end)\n",
    "# cross left side start\n",
    "cross_left_start = np.array([[pitch_wyscout.right,\n",
    "                               pitch_wyscout.top + pitch_wyscout.six_yard_from_side],\n",
    "                              [pitch_wyscout.right,\n",
    "                               pitch_wyscout.top],\n",
    "                              [pitch_wyscout.right - pitch_wyscout.pitch_length*0.3,\n",
    "                               pitch_wyscout.top],\n",
    "                              [pitch_wyscout.right - pitch_wyscout.pitch_length*0.3,\n",
    "                               pitch_wyscout.top + pitch_wyscout.penalty_area_from_side],\n",
    "                              [pitch_wyscout.right - pitch_wyscout.penalty_area_length,\n",
    "                               pitch_wyscout.top + pitch_wyscout.penalty_area_from_side]])\n",
    "cross_left_start = geom.Polygon(cross_left_start)\n",
    "# cross left side end\n",
    "cross_left_end = np.array([[pitch_wyscout.right,\n",
    "                             pitch_wyscout.bottom],\n",
    "                            [pitch_wyscout.right - pitch_wyscout.penalty_area_length,\n",
    "                             pitch_wyscout.bottom],\n",
    "                            [pitch_wyscout.right - pitch_wyscout.penalty_area_length,\n",
    "                             pitch_wyscout.top + pitch_wyscout.six_yard_from_side],\n",
    "                            [pitch_wyscout.right,\n",
    "                             pitch_wyscout.top + pitch_wyscout.six_yard_from_side]])\n",
    "cross_left_end = geom.Polygon(cross_left_end)\n",
    "# find intersection of passes and cross polygons\n",
    "df_pass = df_wyscout_event[df_wyscout_event.pass_attempt].copy()\n",
    "# starting locations\n",
    "pass_start = geom.MultiPoint(df_pass[['x', 'y']].values)\n",
    "cross_start_left_intersects = [point.intersects(cross_left_start) for point in pass_start]\n",
    "cross_start_right_intersects = [point.intersects(cross_right_start) for point in pass_start]\n",
    "# end locations\n",
    "pass_end = geom.MultiPoint(df_pass[['end_x', 'end_y']].values)\n",
    "cross_end_left_intersects = [point.intersects(cross_left_end) for point in pass_end]\n",
    "cross_end_right_intersects = [point.intersects(cross_right_end) for point in pass_end]\n",
    "# add cross marker to event data\n",
    "mask_cross = ((np.array(cross_start_left_intersects) & np.array(cross_end_left_intersects)) | \n",
    "              (np.array(cross_start_right_intersects) & np.array(cross_end_right_intersects)))\n",
    "cross_ids = df_pass[mask_cross].id\n",
    "df_wyscout_event['cross'] = df_wyscout_event.id.isin(cross_ids)"
   ]
  },
  {
   "cell_type": "markdown",
   "metadata": {},
   "source": [
    "Add on cut-back StatsBomb definition (StatsBomb definition: See Appendix 5 of the Docs for Events)"
   ]
  },
  {
   "cell_type": "code",
   "execution_count": 11,
   "metadata": {},
   "outputs": [],
   "source": [
    "# right side start\n",
    "cut_right_start = np.array([[pitch_wyscout.right, pitch_wyscout.bottom - pitch_wyscout.six_yard_from_side],\n",
    "                            [pitch_wyscout.right, pitch_wyscout.bottom],\n",
    "                            [pitch_wyscout.right - pitch_wyscout.six_yard_length, pitch_wyscout.bottom],\n",
    "                            [pitch_wyscout.right - pitch_wyscout.six_yard_length,\n",
    "                             pitch_wyscout.bottom - pitch_wyscout.six_yard_from_side]])\n",
    "cut_right_start = geom.Polygon(cut_right_start)\n",
    "# right side end\n",
    "cut_right_end = np.array([[pitch_wyscout.right - pitch_wyscout.six_yard_length,\n",
    "                          pitch_wyscout.bottom - pitch_wyscout.penalty_area_from_side],\n",
    "                         [pitch_wyscout.right - pitch_wyscout.penalty_area_length,\n",
    "                          pitch_wyscout.bottom - pitch_wyscout.penalty_area_from_side],\n",
    "                         [pitch_wyscout.right - pitch_wyscout.penalty_area_length,\n",
    "                          pitch_wyscout.top + pitch_wyscout.six_yard_from_side],\n",
    "                         [pitch_wyscout.right - pitch_wyscout.six_yard_length,\n",
    "                          pitch_wyscout.top + pitch_wyscout.six_yard_from_side]])\n",
    "cut_right_end = geom.Polygon(cut_right_end)\n",
    "# left side start\n",
    "cut_left_start = np.array([[pitch_wyscout.right, pitch_wyscout.top + pitch_wyscout.six_yard_from_side],\n",
    "                           [pitch_wyscout.right, pitch_wyscout.top],\n",
    "                           [pitch_wyscout.right - pitch_wyscout.six_yard_length, pitch_wyscout.top],\n",
    "                           [pitch_wyscout.right - pitch_wyscout.six_yard_length,\n",
    "                            pitch_wyscout.top + pitch_wyscout.six_yard_from_side]])\n",
    "cut_left_start = geom.Polygon(cut_left_start)\n",
    "# left side end\n",
    "cut_left_end = np.array([[pitch_wyscout.right - pitch_wyscout.six_yard_length,\n",
    "                          pitch_wyscout.top + pitch_wyscout.penalty_area_from_side],\n",
    "                         [pitch_wyscout.right - pitch_wyscout.penalty_area_length,\n",
    "                          pitch_wyscout.top + pitch_wyscout.penalty_area_from_side],\n",
    "                         [pitch_wyscout.right - pitch_wyscout.penalty_area_length,\n",
    "                          pitch_wyscout.bottom - pitch_wyscout.six_yard_from_side],\n",
    "                         [pitch_wyscout.right - pitch_wyscout.six_yard_length,\n",
    "                          pitch_wyscout.bottom - pitch_wyscout.six_yard_from_side]])\n",
    "cut_left_end = geom.Polygon(cut_left_end)\n",
    "# find intersection of passes and cut back polygons\n",
    "cut_start_left_intersects = [point.intersects(cut_left_start) for point in pass_start]\n",
    "cut_start_right_intersects = [point.intersects(cut_right_start) for point in pass_start]\n",
    "# end locations\n",
    "cut_end_left_intersects = [point.intersects(cut_left_end) for point in pass_end]\n",
    "cut_end_right_intersects = [point.intersects(cut_right_end) for point in pass_end]\n",
    "# add cut back marker to event data\n",
    "mask_cut = ((np.array(cut_start_left_intersects) & np.array(cut_end_left_intersects)) | \n",
    "            (np.array(cut_start_right_intersects) & np.array(cut_end_right_intersects)))\n",
    "# not high and comes from a normal pass (not corner etc.)\n",
    "cut_ids = df_pass[((mask_cut) & (df_pass.high == False) & (df_pass.eventName == 'Pass'))].id\n",
    "df_wyscout_event['cut_back'] = df_wyscout_event.id.isin(cut_ids)"
   ]
  },
  {
   "cell_type": "markdown",
   "metadata": {},
   "source": [
    "Add goal scored (excluding shootouts)"
   ]
  },
  {
   "cell_type": "code",
   "execution_count": 12,
   "metadata": {},
   "outputs": [],
   "source": [
    "df_wyscout_event['goal_scored_excl_shootout'] = (((df_wyscout_event.goal) &\n",
    "                                                  (df_wyscout_event['matchPeriod']!='P') &\n",
    "                                                  (df_wyscout_event['shot'])) |\n",
    "                                                 (df_wyscout_event.own_goal))"
   ]
  },
  {
   "cell_type": "markdown",
   "metadata": {},
   "source": [
    "Check for missing Goals - there is one Kevin de Bruyne goal missing in the Wyscout event data"
   ]
  },
  {
   "cell_type": "code",
   "execution_count": 13,
   "metadata": {},
   "outputs": [
    {
     "data": {
      "text/html": [
       "<div>\n",
       "<style scoped>\n",
       "    .dataframe tbody tr th:only-of-type {\n",
       "        vertical-align: middle;\n",
       "    }\n",
       "\n",
       "    .dataframe tbody tr th {\n",
       "        vertical-align: top;\n",
       "    }\n",
       "\n",
       "    .dataframe thead th {\n",
       "        text-align: right;\n",
       "    }\n",
       "</style>\n",
       "<table border=\"1\" class=\"dataframe\">\n",
       "  <thead>\n",
       "    <tr style=\"text-align: right;\">\n",
       "      <th></th>\n",
       "      <th>match_id</th>\n",
       "      <th>Goals</th>\n",
       "      <th>home_score</th>\n",
       "      <th>label</th>\n",
       "      <th>away_score</th>\n",
       "      <th>kick_off</th>\n",
       "    </tr>\n",
       "  </thead>\n",
       "  <tbody>\n",
       "    <tr>\n",
       "      <th>1731</th>\n",
       "      <td>2499781</td>\n",
       "      <td>0.0</td>\n",
       "      <td>0.0</td>\n",
       "      <td>Chelsea - Manchester City, 0 - 1</td>\n",
       "      <td>1.0</td>\n",
       "      <td>2017-09-30 18:30:00</td>\n",
       "    </tr>\n",
       "  </tbody>\n",
       "</table>\n",
       "</div>"
      ],
      "text/plain": [
       "      match_id  Goals  home_score                             label  \\\n",
       "1731   2499781    0.0         0.0  Chelsea - Manchester City, 0 - 1   \n",
       "\n",
       "      away_score            kick_off  \n",
       "1731         1.0 2017-09-30 18:30:00  "
      ]
     },
     "execution_count": 13,
     "metadata": {},
     "output_type": "execute_result"
    }
   ],
   "source": [
    "goals_per_game = pd.DataFrame(df_wyscout_event[df_wyscout_event['goal_scored_excl_shootout']]\n",
    "                              .groupby('match_id')\n",
    "                              .match_id.count())\n",
    "goals_per_game.columns = ['Goals']\n",
    "goals_per_game.reset_index(inplace=True)\n",
    "goals_per_game = goals_per_game.merge(df_wyscout_match[['home_score', 'label', 'away_score','match_id', 'kick_off']], \n",
    "                                      how='right', on='match_id')\n",
    "goals_per_game = goals_per_game.fillna(0)\n",
    "# only one game missing a goal it's a Kevin de Bruyne goal and it's not in the event data\n",
    "goals_per_game[goals_per_game.Goals != (goals_per_game.home_score + goals_per_game.away_score)]"
   ]
  },
  {
   "cell_type": "markdown",
   "metadata": {},
   "source": [
    "#### Create a pass_height_name feature.\n",
    "\n",
    "Assumptions:\n",
    "- headed passes are high (roughly 60% are in the StatsBomb data)\n",
    "- smart passes with the through ball tag are Ground/ low. It says in the Wyscout docs that through ball is added to smart pass if the pass is on the ground or it’s over the heads of the opposite players, but it’s on short distance – 5-10 meters.\n",
    "- smart passes without through balls are high passes\n",
    "- hand passes are ground/low (hopefully launch catches high passes)\n",
    "- throw-in / goal kick are high\n",
    "- free-kick, crosses and corners are low unless high=True"
   ]
  },
  {
   "cell_type": "code",
   "execution_count": 14,
   "metadata": {},
   "outputs": [],
   "source": [
    "# assumption made here that head passes are high passes (in StatsBomb roughly 60% are)\n",
    "df_wyscout_event.loc[df_wyscout_event.subEventName.isin(['High pass', 'Launch', 'Head pass']),\n",
    "                     'pass_height_name'] = 'High Pass'\n",
    "df_wyscout_event.loc[(df_wyscout_event.high == True) & (df_wyscout_event.eventName == 'Pass'),\n",
    "                     'pass_height_name'] = 'High Pass'\n",
    "# if smart pass and not a through ball assumed high\n",
    "df_wyscout_event.loc[(df_wyscout_event.subEventName == 'Smart pass') & (df_wyscout_event.through == False),\n",
    "                     'pass_height_name'] = 'High Pass'\n",
    "df_wyscout_event.loc[df_wyscout_event.subEventName == 'Simple pass',\n",
    "                     'pass_height_name'] = 'Ground/ Low Pass' \n",
    "df_wyscout_event.loc[(df_wyscout_event.subEventName.isin(['Corner', 'Free kick cross', 'Free Kick', 'Cross'])) &\n",
    "                     (df_wyscout_event.high == False),\n",
    "                     'pass_height_name'] = 'Ground/ Low Pass'\n",
    "df_wyscout_event.loc[df_wyscout_event.subEventName.isin(['Throw in', 'Goal kick']),\n",
    "                     'pass_height_name'] = 'High Pass'\n",
    "df_wyscout_event.loc[(df_wyscout_event.subEventName.isin(['Corner', 'Free kick cross', 'Cross'])) &\n",
    "                     (df_wyscout_event.high),\n",
    "                     'pass_height_name'] = 'High Pass'\n",
    "# assumption made here that smart through balls are ground/ low\n",
    "df_wyscout_event.loc[(df_wyscout_event.subEventName == 'Smart pass') & (df_wyscout_event.through),\n",
    "                     'pass_height_name'] = 'Ground/ Low Pass'\n",
    "df_wyscout_event.loc[(df_wyscout_event.subEventName == 'Hand pass'),\n",
    "                     'pass_height_name'] = 'Ground/ Low Pass'"
   ]
  },
  {
   "cell_type": "markdown",
   "metadata": {},
   "source": [
    "Seperate out names in player dataset"
   ]
  },
  {
   "cell_type": "code",
   "execution_count": 15,
   "metadata": {},
   "outputs": [],
   "source": [
    "df_wyscout_player['fullName'] = (df_wyscout_player.firstName + ' ' + df_wyscout_player.lastName).str.strip()\n",
    "player_name_series = df_wyscout_player.fullName.str.split(' ')\n",
    "df_wyscout_player['firstName'] = player_name_series.apply(lambda x: x[0] if isinstance(x, list) else None)\n",
    "df_wyscout_player['middleName'] = player_name_series.apply(lambda x: ' '.join(x[1:-1]) if isinstance(x, list) else None)\n",
    "df_wyscout_player['lastName'] = player_name_series.apply(lambda x: x[-1] if isinstance(x, list) else None)\n",
    "df_wyscout_player['middleName'] = df_wyscout_player['middleName'].str.strip()\n",
    "df_wyscout_player['Name'] = ((df_wyscout_player['firstName'] + ' ' + df_wyscout_player['middleName']).str.strip()\n",
    "                             + ' ' + df_wyscout_player['lastName'])\n"
   ]
  },
  {
   "cell_type": "markdown",
   "metadata": {},
   "source": [
    "Add on the player name/ foot"
   ]
  },
  {
   "cell_type": "code",
   "execution_count": 16,
   "metadata": {},
   "outputs": [],
   "source": [
    "df_wyscout_player.foot.replace({'null': None, '': None}, inplace=True)\n",
    "df_wyscout_event = df_wyscout_event.merge(df_wyscout_player[['player_id',\n",
    "                                                             'firstName', 'middleName', 'lastName', 'Name', 'foot']],\n",
    "                                          how='left', on='player_id')"
   ]
  },
  {
   "cell_type": "markdown",
   "metadata": {},
   "source": [
    "Create a pass_technique name.\n",
    "\n",
    "Assumptions:\n",
    "- outswinging, different foot as the side of the pitch\n",
    "- inswinging, same foot as the side of the pitch\n",
    "- missing/ both foot = inswinging\n",
    "- each player takes the kick with the foot in the player table.\n",
    "\n",
    "This misses straight corner kicks and may not be 100% correct. "
   ]
  },
  {
   "cell_type": "code",
   "execution_count": 17,
   "metadata": {},
   "outputs": [],
   "source": [
    "mask_corner = df_wyscout_event.subEventName == 'Corner'\n",
    "mask_right = df_wyscout_event.foot == 'right'\n",
    "mask_left = df_wyscout_event.foot == 'left'\n",
    "mask_right_side = df_wyscout_event.y >= pitch_wyscout.center_width\n",
    "mask_left_side = df_wyscout_event.y < pitch_wyscout.center_width\n",
    "mask_both = df_wyscout_event.foot == 'both'\n",
    "mask_missing = df_wyscout_event.foot.isnull()\n",
    "mask_inswing = mask_corner & ((mask_left & mask_left_side) | (mask_right & mask_right_side) | mask_both | mask_missing)\n",
    "mask_outswing = mask_corner & ((mask_left & mask_right_side) | (mask_right & mask_left_side))\n",
    "df_wyscout_event.loc[mask_inswing, 'pass_technique_name'] = 'Inswinging'\n",
    "df_wyscout_event.loc[mask_outswing, 'pass_technique_name'] = 'Outswinging'\n",
    "df_wyscout_event.loc[df_wyscout_event.through, 'pass_technique_name'] = 'Through Ball'"
   ]
  },
  {
   "cell_type": "markdown",
   "metadata": {},
   "source": [
    "Fix a corner at the wrong end\n"
   ]
  },
  {
   "cell_type": "code",
   "execution_count": 18,
   "metadata": {},
   "outputs": [],
   "source": [
    "df_wyscout_event.loc[(df_wyscout_event.y == 100) & (df_wyscout_event.x == 0) & \n",
    "                     (df_wyscout_event.subEventName == 'Corner'), 'x'] = 100"
   ]
  },
  {
   "cell_type": "markdown",
   "metadata": {},
   "source": [
    "Length of the pass in yards"
   ]
  },
  {
   "cell_type": "code",
   "execution_count": 19,
   "metadata": {},
   "outputs": [],
   "source": [
    "yards = (((df_wyscout_event.end_x - df_wyscout_event.x) / pitch_wyscout.right * 115) ** 2 +\n",
    "         ((df_wyscout_event.end_y - df_wyscout_event.y) / pitch_wyscout.bottom * 74) ** 2) ** (0.5)\n",
    "df_wyscout_event['pass_length'] = yards\n",
    "df_wyscout_event.loc[(~df_wyscout_event.pass_attempt), 'pass_length'] = np.nan"
   ]
  },
  {
   "cell_type": "markdown",
   "metadata": {},
   "source": [
    "Pass angle (StatsBomb definition)"
   ]
  },
  {
   "cell_type": "code",
   "execution_count": 20,
   "metadata": {},
   "outputs": [],
   "source": [
    "x_dist = (df_wyscout_event.end_x - df_wyscout_event.x) / pitch_wyscout.right * 115\n",
    "y_dist = (df_wyscout_event.y - df_wyscout_event.end_y) / pitch_wyscout.bottom * 74\n",
    "# note negative angle so same as StatsBomb definition\n",
    "# 0 pointing straight ahead, positve clockwise, negative anticlockwise\n",
    "pass_radians = - np.arctan2(y_dist, x_dist)\n",
    "df_wyscout_event['pass_angle'] = pass_radians\n",
    "df_wyscout_event.loc[(~df_wyscout_event.pass_attempt), 'pass_angle'] = np.nan"
   ]
  },
  {
   "cell_type": "markdown",
   "metadata": {},
   "source": [
    "Correct a few shots that appear to be on the wrong side of the pitch. I haven't checked, but these seem to be too far away to be real shots. Especially as some are goals"
   ]
  },
  {
   "cell_type": "code",
   "execution_count": 21,
   "metadata": {},
   "outputs": [],
   "source": [
    "mask_correct_shot = (df_wyscout_event.x < 34) & (df_wyscout_event.shot)\n",
    "df_wyscout_event.loc[mask_correct_shot, 'x'] = 100 - df_wyscout_event.loc[mask_correct_shot, 'x']"
   ]
  },
  {
   "cell_type": "markdown",
   "metadata": {},
   "source": [
    "Fast attack, win ball in own third, shoot in last quarter in 7-25 seconds"
   ]
  },
  {
   "cell_type": "code",
   "execution_count": 22,
   "metadata": {},
   "outputs": [],
   "source": [
    "mask_defence_win = ((df_wyscout_event.subEventName.isin(['Ground defending duel', 'Air duel', 'Save attempt'])) |\n",
    "                    (df_wyscout_event.interception)) & (df_wyscout_event.x < 33.4)\n",
    "df_wyscout_event.loc[mask_defence_win, 'defence_win'] = df_wyscout_event.loc[mask_defence_win, 'team_id']\n",
    "df_wyscout_event.loc[mask_defence_win, 'defence_sec'] = df_wyscout_event.loc[mask_defence_win, 'eventSec']\n",
    "group_match = df_wyscout_event.groupby(['match_id', 'matchPeriod'])\n",
    "df_wyscout_event[['defence_win', 'defence_sec']] = group_match[['defence_win', 'defence_sec']].ffill()\n",
    "mask_fast = (((df_wyscout_event.eventSec - df_wyscout_event.defence_sec) <= 25) &\n",
    "             (df_wyscout_event.x > 75) &\n",
    "             (df_wyscout_event.shot) & (df_wyscout_event.team_id == df_wyscout_event.defence_win))\n",
    "df_wyscout_event['fast_break'] = mask_fast"
   ]
  },
  {
   "cell_type": "markdown",
   "metadata": {},
   "source": [
    "Flag 10 seconds from a corner or freekick/ 20 seconds from a throw-in"
   ]
  },
  {
   "cell_type": "code",
   "execution_count": 23,
   "metadata": {},
   "outputs": [],
   "source": [
    "for set_piece in ['Corner', 'Throw in', ['Free kick cross', 'Free kick shot']]:\n",
    "    if isinstance(set_piece, list):\n",
    "        mask = df_wyscout_event.subEventName.isin(set_piece)\n",
    "        name = 'freekick'\n",
    "    else:\n",
    "        mask = df_wyscout_event.subEventName.isin([set_piece])\n",
    "        name = set_piece.replace(' ', '_').lower()\n",
    "    df_wyscout_event.loc[mask, f'{name}_sec'] = df_wyscout_event.loc[mask, 'eventSec']\n",
    "    df_wyscout_event.loc[mask, f'{name}_team'] = df_wyscout_event.loc[mask, 'team_id']\n",
    "    df_wyscout_event[f'{name}_sec'] = group_match[f'{name}_sec'].ffill()\n",
    "    df_wyscout_event[f'{name}_team'] = group_match[f'{name}_team'].ffill()\n",
    "    df_wyscout_event[f'{name}_sec'] = df_wyscout_event.eventSec - df_wyscout_event[f'{name}_sec']\n",
    "df_wyscout_event.loc[df_wyscout_event.throw_in_sec > 20, 'throw_in_sec'] = np.nan\n",
    "df_wyscout_event.loc[df_wyscout_event.freekick_sec > 10, 'freekick_sec'] = np.nan\n",
    "df_wyscout_event.loc[df_wyscout_event.corner_sec > 10, 'corner_sec'] = np.nan\n",
    "df_wyscout_event['play_type'] = df_wyscout_event[['throw_in_sec', 'freekick_sec', 'corner_sec']].idxmin(axis=1).str[:-4]\n",
    "# if throw-in seperate defensive from offensive\n",
    "mask_defensive = ((df_wyscout_event.play_type == 'throw_in') &\n",
    "                  (df_wyscout_event['throw_in_team'] != df_wyscout_event.team_id))\n",
    "df_wyscout_event.loc[mask_defensive, 'play_type'] = 'defensive_' + df_wyscout_event.loc[mask_defensive, 'play_type']"
   ]
  },
  {
   "cell_type": "markdown",
   "metadata": {},
   "source": [
    "Add on previous info"
   ]
  },
  {
   "cell_type": "code",
   "execution_count": 24,
   "metadata": {},
   "outputs": [],
   "source": [
    "# first filter out some events so the previous event is the correct assist type\n",
    "mask_exclude = ((df_wyscout_event.eventName.isin(['Goalkeeper leaving line', 'Interruption'])) |\n",
    "                (df_wyscout_event.subEventName == 'Acceleration'))\n",
    "df_wyscout_event = df_wyscout_event[~mask_exclude].copy()\n",
    "match_group = df_wyscout_event.groupby(['match_id', 'matchPeriod'])\n",
    "for i in range(1, 4):\n",
    "    df_wyscout_event[f'prev_id_{i}'] = match_group.id.shift(i)\n",
    "    df_wyscout_event[f'prevEventName_{i}'] = match_group.eventName.shift(i)\n",
    "    df_wyscout_event[f'prevSubEventName_{i}'] = match_group.subEventName.shift(i)\n",
    "    df_wyscout_event[f'prev_player_id_{i}'] = match_group.player_id.shift(i)\n",
    "    df_wyscout_event[f'prev_team_id_{i}'] = match_group.team_id.shift(i)\n",
    "    df_wyscout_event[f'prev_pass_attempt_{i}'] = match_group.pass_attempt.shift(i)\n",
    "    df_wyscout_event[f'prev_shot_{i}'] = match_group.shot.shift(i)"
   ]
  },
  {
   "cell_type": "markdown",
   "metadata": {},
   "source": [
    "### Filter Non-penalty/ non-corner shots"
   ]
  },
  {
   "cell_type": "code",
   "execution_count": 25,
   "metadata": {},
   "outputs": [
    {
     "name": "stdout",
     "output_type": "stream",
     "text": [
      "Number of shots: 42867\n",
      "Number of goals: 4384\n"
     ]
    }
   ],
   "source": [
    "mask_shot1 = (((df_wyscout_event.eventName=='Shot') | (df_wyscout_event.subEventName=='Free kick shot')) & \n",
    "              (df_wyscout_event['matchPeriod']!='P'))\n",
    "mask_shot2 = (df_wyscout_event.subEventName=='Corner') & (df_wyscout_event.goal==True)\n",
    "mask_corner_goal = (df_wyscout_event.subEventName=='Corner') & (df_wyscout_event.goal==True)\n",
    "mask_shot = (mask_shot1 | mask_shot2) & (~mask_corner_goal)\n",
    "df_wyscout_shots = df_wyscout_event[mask_shot].copy()\n",
    "print('Number of shots:', len(df_wyscout_shots))\n",
    "print('Number of goals:', df_wyscout_shots.goal.sum())"
   ]
  },
  {
   "cell_type": "markdown",
   "metadata": {},
   "source": [
    "Add body part name"
   ]
  },
  {
   "cell_type": "code",
   "execution_count": 26,
   "metadata": {},
   "outputs": [],
   "source": [
    "df_wyscout_shots.loc[df_wyscout_shots.left_foot, 'body_part_name'] = 'Left Foot'\n",
    "df_wyscout_shots.loc[df_wyscout_shots.right_foot, 'body_part_name'] = 'Right Foot'\n",
    "df_wyscout_shots.loc[df_wyscout_shots.other_body_part, 'body_part_name'] = 'Other'\n",
    "df_wyscout_shots.drop(['left_foot', 'right_foot', 'other_body_part'], axis=1, inplace=True)"
   ]
  },
  {
   "cell_type": "markdown",
   "metadata": {},
   "source": [
    "Strongest foot column"
   ]
  },
  {
   "cell_type": "code",
   "execution_count": 27,
   "metadata": {},
   "outputs": [],
   "source": [
    "mask_strong_foot = (((df_wyscout_shots.foot.isin(['right', 'both'])) & (df_wyscout_shots.body_part_name == 'Right Foot')) |\n",
    "                    (((df_wyscout_shots.foot.isin(['left', 'both'])) & (df_wyscout_shots.body_part_name == 'Left Foot'))))\n",
    "df_wyscout_shots['strong_foot'] = mask_strong_foot"
   ]
  },
  {
   "cell_type": "markdown",
   "metadata": {},
   "source": [
    "Add shot type name"
   ]
  },
  {
   "cell_type": "code",
   "execution_count": 28,
   "metadata": {},
   "outputs": [],
   "source": [
    "# note there are three goals that come direct from corner kicks - they are tagged 'Free Kick' originally though\n",
    "# this was renamed earlier to Set Piece\n",
    "df_wyscout_shots['shot_type_name']  = df_wyscout_shots.eventName.replace({'Shot': 'Open Play',\n",
    "                                                                          'Set Piece': 'Direct Set Piece'})"
   ]
  },
  {
   "cell_type": "markdown",
   "metadata": {},
   "source": [
    "Assist type, and get event id if pass"
   ]
  },
  {
   "cell_type": "code",
   "execution_count": 29,
   "metadata": {},
   "outputs": [],
   "source": [
    "# direct from set pieces\n",
    "df_wyscout_shots.loc[df_wyscout_shots.shot_type_name == 'Direct Set Piece', 'assist_type'] = 'direct'\n",
    "# rebound/ clearance from the previous event\n",
    "df_wyscout_shots.loc[(df_wyscout_shots.assist_type.isnull()) &\n",
    "                     (df_wyscout_shots.prevEventName_1.isin(['Save attempt', 'Shot', 'Set Piece'])), 'assist_type'] = 'rebound'\n",
    "df_wyscout_shots.loc[(df_wyscout_shots.assist_type.isnull()) &\n",
    "                     (df_wyscout_shots.prevSubEventName_1 == 'Clearance'), 'assist_type'] = 'clearance'\n",
    "# pass from the previous event\n",
    "mask_pass1 = ((df_wyscout_shots.prev_pass_attempt_1 == True) &\n",
    "              (df_wyscout_shots.team_id == df_wyscout_shots.prev_team_id_1) &\n",
    "              (df_wyscout_shots.assist_type.isnull()))\n",
    "df_wyscout_shots.loc[mask_pass1, 'assist_type'] = 'pass'\n",
    "df_wyscout_shots.loc[mask_pass1, 'pass_id'] = df_wyscout_shots.loc[mask_pass1, 'prev_id_1']\n",
    "# pass from the third previous event if and there are two duels in-between\n",
    "mask_duel = ((df_wyscout_shots.prevEventName_1 == 'Duel') &\n",
    "             (df_wyscout_shots.prevEventName_2 == 'Duel') &\n",
    "             (df_wyscout_shots.assist_type.isnull()))             \n",
    "mask_pass2 = (mask_duel & (df_wyscout_shots.prev_pass_attempt_3) &\n",
    "              (df_wyscout_shots.team_id == df_wyscout_shots.prev_team_id_3))\n",
    "df_wyscout_shots.loc[mask_pass2, 'assist_type'] = 'pass'\n",
    "df_wyscout_shots.loc[mask_pass2, 'pass_id'] = df_wyscout_shots.loc[mask_pass2, 'prev_id_3'] \n",
    "# rebound/clearance if the third previous event involved a shot or save and there are two duels in-between\n",
    "df_wyscout_shots.loc[(df_wyscout_shots.assist_type.isnull()) & mask_duel &\n",
    "                     ((df_wyscout_shots.prev_shot_3) | (df_wyscout_shots.prevEventName_3 == 'Save attempt')),\n",
    "                     'assist_type'] = 'rebound'\n",
    "df_wyscout_shots.loc[(df_wyscout_shots.assist_type.isnull()) & mask_duel &\n",
    "                     (df_wyscout_shots.prevSubEventName_3 =='Clearance'),\n",
    "                     'assist_type'] = 'clearance'\n",
    "# if still null and the second event involves a shot or save set to a rebound\n",
    "df_wyscout_shots.loc[(df_wyscout_shots.assist_type.isnull()) & \n",
    "                     ((df_wyscout_shots.prevEventName_2 == 'Save attempt') | (df_wyscout_shots.prev_shot_2)),\n",
    "                     'assist_type'] = 'rebound'\n",
    "# if still null and the second event involves a clearance set to a clearance\n",
    "df_wyscout_shots.loc[df_wyscout_shots.assist_type.isnull() & (df_wyscout_shots.prevSubEventName_2 == 'Clearance'),\n",
    "                     'assist_type'] = 'clearance'\n",
    "# if still null and the third event involves a pass set to a pass\n",
    "mask_pass3 = ((df_wyscout_shots.assist_type.isnull()) & (df_wyscout_shots.prev_pass_attempt_3) & \n",
    "              (df_wyscout_shots.prev_team_id_3 == df_wyscout_shots.team_id))\n",
    "df_wyscout_shots.loc[mask_pass3, 'assist_type'] = 'pass'\n",
    "df_wyscout_shots.loc[mask_pass3, 'pass_id'] = df_wyscout_shots.loc[mask_pass3, 'prev_id_3']\n",
    "# if still null set to recovery\n",
    "df_wyscout_shots.loc[df_wyscout_shots.assist_type.isnull(), 'assist_type'] = 'recovery'"
   ]
  },
  {
   "cell_type": "markdown",
   "metadata": {},
   "source": [
    "Keep subset of columns"
   ]
  },
  {
   "cell_type": "code",
   "execution_count": 30,
   "metadata": {},
   "outputs": [],
   "source": [
    "df_wyscout_shots = df_wyscout_shots[['match_id', 'id', 'goal', 'team_id', 'team_name', 'player_id',\n",
    "                                     'firstName', 'middleName', 'lastName', 'Name', \n",
    "                                     'shot_type_name', 'play_type',\n",
    "                                     'x', 'y', 'counter_attack', 'fast_break',\n",
    "                                     'strong_foot', 'body_part_name', 'assist_type', 'pass_id']].copy()                               "
   ]
  },
  {
   "cell_type": "markdown",
   "metadata": {},
   "source": [
    "Add on pass information"
   ]
  },
  {
   "cell_type": "code",
   "execution_count": 31,
   "metadata": {},
   "outputs": [],
   "source": [
    "df_pass = df_wyscout_event.loc[df_wyscout_event.pass_attempt, ['id', 'end_y', 'end_x',\n",
    "                                                               'pass_switch', 'cross', 'cut_back', 'pass_height_name',\n",
    "                                                               'pass_technique_name', 'pass_length', 'pass_angle']].copy()\n",
    "df_pass.rename({'id': 'pass_id', 'end_x': 'pass_end_x', 'end_y': 'pass_end_y',\n",
    "                'cross': 'pass_cross', 'cut_back': 'pass_cut_back'}, axis=1, inplace=True)\n",
    "df_wyscout_shots = df_wyscout_shots.merge(df_pass, how='left', on='pass_id')"
   ]
  },
  {
   "cell_type": "markdown",
   "metadata": {},
   "source": [
    "Calculate distance of carry/ dribble in yards (not calculated as too often zero)"
   ]
  },
  {
   "cell_type": "code",
   "execution_count": 32,
   "metadata": {},
   "outputs": [],
   "source": [
    "#yards = (((df_wyscout_shots.pass_end_x - df_wyscout_shots.x) / pitch_wyscout.right * 115) ** 2 +\n",
    "#         ((df_wyscout_shots.pass_end_y - df_wyscout_shots.y) / pitch_wyscout.bottom * 74) ** 2) ** (0.5)\n",
    "#df_wyscout_shots['carry_length'] = yards"
   ]
  },
  {
   "cell_type": "markdown",
   "metadata": {},
   "source": [
    "Side of field"
   ]
  },
  {
   "cell_type": "code",
   "execution_count": 33,
   "metadata": {},
   "outputs": [],
   "source": [
    "df_wyscout_shots.loc[df_wyscout_shots.y < 45, 'side'] = 'left'\n",
    "df_wyscout_shots.loc[(df_wyscout_shots.y >= 45) & (df_wyscout_shots.y <= 55), 'side'] = 'center'\n",
    "df_wyscout_shots.loc[df_wyscout_shots.y > 55, 'side'] = 'right'"
   ]
  },
  {
   "cell_type": "markdown",
   "metadata": {},
   "source": [
    "Convert coordinates to standard pitch size (105m * 68m)"
   ]
  },
  {
   "cell_type": "code",
   "execution_count": 34,
   "metadata": {},
   "outputs": [],
   "source": [
    "x_cols = ['x', 'pass_end_x']\n",
    "y_cols = ['y', 'pass_end_y']\n",
    "df_wyscout_shots[x_cols] = (df_wyscout_shots[x_cols]) / float(pitch_wyscout.right) * pitch_statsperform.right\n",
    "df_wyscout_shots[y_cols] = ((float(pitch_wyscout.bottom) - df_wyscout_shots[y_cols]) /\n",
    "                            float(pitch_wyscout.bottom)  * pitch_statsperform.top)"
   ]
  },
  {
   "cell_type": "markdown",
   "metadata": {},
   "source": [
    "Droping the end locations of the assist pass as they too often are the same as the shot location (compared with StatsBomb where they differ more often)"
   ]
  },
  {
   "cell_type": "code",
   "execution_count": 35,
   "metadata": {},
   "outputs": [],
   "source": [
    "df_wyscout_shots.drop(['pass_end_y', 'pass_end_x'], axis=1, inplace=True)"
   ]
  },
  {
   "cell_type": "markdown",
   "metadata": {},
   "source": [
    "Angles/ distance to goals"
   ]
  },
  {
   "cell_type": "code",
   "execution_count": 36,
   "metadata": {},
   "outputs": [],
   "source": [
    "left_post, right_post = pitch_statsperform.goal_right\n",
    "goal_width = abs(right_post - left_post)[1]\n",
    "dx = abs(pitch_statsperform.right - df_wyscout_shots.x)\n",
    "dy = abs(pitch_statsperform.center_width - df_wyscout_shots.y)\n",
    "df_wyscout_shots['visible_angle'] = np.arctan2(goal_width * dx , (dx**2 + dy**2 - (goal_width / 2.) ** 2))\n",
    "df_wyscout_shots['middle_angle'] = np.arctan2(dy, dx)\n",
    "df_wyscout_shots['distance_to_goal'] = round((dy**2 + dx**2)**0.5, 1)"
   ]
  },
  {
   "cell_type": "markdown",
   "metadata": {},
   "source": [
    "Interaction between angle and distance"
   ]
  },
  {
   "cell_type": "code",
   "execution_count": 37,
   "metadata": {},
   "outputs": [],
   "source": [
    "df_wyscout_shots['distance_mid_angle'] = df_wyscout_shots.distance_to_goal * df_wyscout_shots.middle_angle\n",
    "df_wyscout_shots['distance_visible_angle'] = df_wyscout_shots.distance_to_goal * df_wyscout_shots.visible_angle"
   ]
  },
  {
   "cell_type": "markdown",
   "metadata": {},
   "source": [
    "Log distance"
   ]
  },
  {
   "cell_type": "code",
   "execution_count": 38,
   "metadata": {},
   "outputs": [],
   "source": [
    "df_wyscout_shots['log_distance_to_goal'] = np.log(df_wyscout_shots.distance_to_goal)"
   ]
  },
  {
   "cell_type": "markdown",
   "metadata": {},
   "source": [
    "Amend shot type to take into account the play_type (set piece column) made earlier"
   ]
  },
  {
   "cell_type": "code",
   "execution_count": 39,
   "metadata": {},
   "outputs": [],
   "source": [
    "mask_amend = (df_wyscout_shots.shot_type_name != 'Direct Set Piece') & (df_wyscout_shots.play_type.notnull())\n",
    "df_wyscout_shots.loc[mask_amend, 'shot_type_name'] = df_wyscout_shots.loc[mask_amend, 'play_type']\n",
    "df_wyscout_shots['shot_type_name'] = df_wyscout_shots.shot_type_name.str.lower().str.replace(' ', '_')\n",
    "df_wyscout_shots.drop('play_type', axis=1, inplace=True)"
   ]
  },
  {
   "cell_type": "markdown",
   "metadata": {},
   "source": [
    "Add Men"
   ]
  },
  {
   "cell_type": "code",
   "execution_count": 40,
   "metadata": {},
   "outputs": [],
   "source": [
    "df_wyscout_shots['competition_gender'] = 'male'"
   ]
  },
  {
   "cell_type": "markdown",
   "metadata": {},
   "source": [
    "Save dataset"
   ]
  },
  {
   "cell_type": "code",
   "execution_count": 41,
   "metadata": {},
   "outputs": [],
   "source": [
    "df_wyscout_shots.drop(['pass_id'], axis=1, inplace=True)\n",
    "df_wyscout_shots.reset_index(drop=True, inplace=True)\n",
    "df_wyscout_shots.to_parquet(os.path.join(WYSCOUT, 'shots.parquet'))"
   ]
  },
  {
   "cell_type": "markdown",
   "metadata": {},
   "source": [
    "Info on dataset"
   ]
  },
  {
   "cell_type": "code",
   "execution_count": 42,
   "metadata": {},
   "outputs": [
    {
     "name": "stdout",
     "output_type": "stream",
     "text": [
      "<class 'pandas.core.frame.DataFrame'>\n",
      "RangeIndex: 42867 entries, 0 to 42866\n",
      "Data columns (total 33 columns):\n",
      " #   Column                  Non-Null Count  Dtype  \n",
      "---  ------                  --------------  -----  \n",
      " 0   match_id                42867 non-null  int64  \n",
      " 1   id                      42867 non-null  int64  \n",
      " 2   goal                    42867 non-null  bool   \n",
      " 3   team_id                 42867 non-null  int64  \n",
      " 4   team_name               42867 non-null  object \n",
      " 5   player_id               42864 non-null  float64\n",
      " 6   firstName               42864 non-null  object \n",
      " 7   middleName              42864 non-null  object \n",
      " 8   lastName                42864 non-null  object \n",
      " 9   Name                    42864 non-null  object \n",
      " 10  shot_type_name          42867 non-null  object \n",
      " 11  x                       42867 non-null  float64\n",
      " 12  y                       42867 non-null  float64\n",
      " 13  counter_attack          42867 non-null  bool   \n",
      " 14  fast_break              42867 non-null  bool   \n",
      " 15  strong_foot             42867 non-null  bool   \n",
      " 16  body_part_name          42867 non-null  object \n",
      " 17  assist_type             42867 non-null  object \n",
      " 18  pass_switch             28547 non-null  object \n",
      " 19  pass_cross              28547 non-null  object \n",
      " 20  pass_cut_back           28547 non-null  object \n",
      " 21  pass_height_name        28547 non-null  object \n",
      " 22  pass_technique_name     3996 non-null   object \n",
      " 23  pass_length             28376 non-null  float64\n",
      " 24  pass_angle              28376 non-null  float64\n",
      " 25  side                    42867 non-null  object \n",
      " 26  visible_angle           42867 non-null  float64\n",
      " 27  middle_angle            42867 non-null  float64\n",
      " 28  distance_to_goal        42867 non-null  float64\n",
      " 29  distance_mid_angle      42867 non-null  float64\n",
      " 30  distance_visible_angle  42867 non-null  float64\n",
      " 31  log_distance_to_goal    42867 non-null  float64\n",
      " 32  competition_gender      42867 non-null  object \n",
      "dtypes: bool(4), float64(11), int64(3), object(15)\n",
      "memory usage: 9.6+ MB\n"
     ]
    }
   ],
   "source": [
    "df_wyscout_shots.info()"
   ]
  }
 ],
 "metadata": {
  "kernelspec": {
   "display_name": "Python 3",
   "language": "python",
   "name": "python3"
  },
  "language_info": {
   "codemirror_mode": {
    "name": "ipython",
    "version": 3
   },
   "file_extension": ".py",
   "mimetype": "text/x-python",
   "name": "python",
   "nbconvert_exporter": "python",
   "pygments_lexer": "ipython3",
   "version": "3.7.7"
  }
 },
 "nbformat": 4,
 "nbformat_minor": 4
}
