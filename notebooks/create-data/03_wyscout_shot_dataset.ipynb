{
 "cells": [
  {
   "cell_type": "code",
   "execution_count": 1,
   "metadata": {},
   "outputs": [],
   "source": [
    "import pandas as pd\n",
    "import numpy as np\n",
    "import os\n",
    "import matplotlib.pyplot as plt\n",
    "from mplsoccer import Standardizer\n",
    "from mplsoccer.dimensions import create_pitch_dims\n",
    "from shapely.geometry import Polygon\n",
    "import geopandas as gpd"
   ]
  },
  {
   "cell_type": "markdown",
   "metadata": {},
   "source": [
    "Load the data"
   ]
  },
  {
   "cell_type": "code",
   "execution_count": 2,
   "metadata": {},
   "outputs": [],
   "source": [
    "WYSCOUT = os.path.join('..', '..', 'data', 'wyscout')\n",
    "df_wyscout_event = pd.read_parquet(os.path.join(WYSCOUT, 'event.parquet'))\n",
    "df_wyscout_player = pd.read_parquet(os.path.join(WYSCOUT, 'player.parquet'))\n",
    "df_wyscout_match = pd.read_parquet(os.path.join(WYSCOUT, 'match.parquet'))\n",
    "df_wyscout_formation = pd.read_parquet(os.path.join(WYSCOUT, 'formation.parquet'))\n",
    "df_wyscout_sub = pd.read_parquet(os.path.join(WYSCOUT, 'substitution.parquet'))"
   ]
  },
  {
   "cell_type": "markdown",
   "metadata": {},
   "source": [
    "Get the time in minutes when the goalkeepers come on the pitch"
   ]
  },
  {
   "cell_type": "code",
   "execution_count": 3,
   "metadata": {},
   "outputs": [],
   "source": [
    "df_wyscout_gk = df_wyscout_player.loc[df_wyscout_player.role_name == 'Goalkeeper', ['player_id', 'role_name']].copy()\n",
    "df_wyscout_formation = df_wyscout_formation.merge(df_wyscout_gk, how='inner')\n",
    "df_wyscout_sub_in = df_wyscout_sub[['match_id', 'player_id_in', 'minute']].copy()\n",
    "df_wyscout_sub_in.rename({'player_id_in': 'player_id', 'minute': 'minute_in'}, axis=1, inplace=True)\n",
    "df_wyscout_formation = df_wyscout_formation.merge(df_wyscout_sub_in, how='left')\n",
    "df_wyscout_formation.loc[df_wyscout_formation.bench == False, 'minute_in'] = 0\n",
    "df_wyscout_formation = df_wyscout_formation[df_wyscout_formation.minute_in.notnull()].copy()\n",
    "df_wyscout_formation.sort_values('minute_in', inplace=True)"
   ]
  },
  {
   "cell_type": "markdown",
   "metadata": {},
   "source": [
    "Add on team name"
   ]
  },
  {
   "cell_type": "code",
   "execution_count": 4,
   "metadata": {},
   "outputs": [],
   "source": [
    "df_team = pd.concat([(df_wyscout_match[['away_team_id', 'away_team_name']]\n",
    "                      .rename({'away_team_id': 'team_id', 'away_team_name': 'team_name'}, axis=1)),\n",
    "                     (df_wyscout_match[['home_team_id', 'home_team_name']]\n",
    "                      .rename({'home_team_id': 'team_id', 'home_team_name': 'team_name'}, axis=1))])\n",
    "df_team.drop_duplicates('team_id', inplace=True)\n",
    "df_wyscout_event = df_wyscout_event.merge(df_team, on='team_id', how='left')"
   ]
  },
  {
   "cell_type": "markdown",
   "metadata": {},
   "source": [
    "Add on smart pass marker"
   ]
  },
  {
   "cell_type": "code",
   "execution_count": 5,
   "metadata": {},
   "outputs": [],
   "source": [
    "df_wyscout_event['smart_pass'] = (df_wyscout_event.subEventName == 'Smart pass')"
   ]
  },
  {
   "cell_type": "markdown",
   "metadata": {},
   "source": [
    "Replace player_id = Zero with null"
   ]
  },
  {
   "cell_type": "code",
   "execution_count": 6,
   "metadata": {},
   "outputs": [
    {
     "name": "stderr",
     "output_type": "stream",
     "text": [
      "C:\\Users\\nicol\\AppData\\Local\\Temp\\ipykernel_34852\\4075637712.py:1: FutureWarning: A value is trying to be set on a copy of a DataFrame or Series through chained assignment using an inplace method.\n",
      "The behavior will change in pandas 3.0. This inplace method will never work because the intermediate object on which we are setting values always behaves as a copy.\n",
      "\n",
      "For example, when doing 'df[col].method(value, inplace=True)', try using 'df.method({col: value}, inplace=True)' or df[col] = df[col].method(value) instead, to perform the operation inplace on the original object.\n",
      "\n",
      "\n",
      "  df_wyscout_event.player_id.replace({0: np.nan}, inplace=True)\n"
     ]
    }
   ],
   "source": [
    "df_wyscout_event.player_id.replace({0: np.nan}, inplace=True)"
   ]
  },
  {
   "cell_type": "markdown",
   "metadata": {},
   "source": [
    "Rename Free Kick to Set Piece"
   ]
  },
  {
   "cell_type": "code",
   "execution_count": 7,
   "metadata": {},
   "outputs": [
    {
     "name": "stderr",
     "output_type": "stream",
     "text": [
      "C:\\Users\\nicol\\AppData\\Local\\Temp\\ipykernel_34852\\857501603.py:1: FutureWarning: A value is trying to be set on a copy of a DataFrame or Series through chained assignment using an inplace method.\n",
      "The behavior will change in pandas 3.0. This inplace method will never work because the intermediate object on which we are setting values always behaves as a copy.\n",
      "\n",
      "For example, when doing 'df[col].method(value, inplace=True)', try using 'df.method({col: value}, inplace=True)' or df[col] = df[col].method(value) instead, to perform the operation inplace on the original object.\n",
      "\n",
      "\n",
      "  df_wyscout_event.eventName.replace('Free Kick', 'Set Piece', inplace=True)\n"
     ]
    }
   ],
   "source": [
    "df_wyscout_event.eventName.replace('Free Kick', 'Set Piece', inplace=True)"
   ]
  },
  {
   "cell_type": "markdown",
   "metadata": {},
   "source": [
    "Add on a column for a pass attempt"
   ]
  },
  {
   "cell_type": "code",
   "execution_count": 8,
   "metadata": {},
   "outputs": [],
   "source": [
    "mask_pass = ((df_wyscout_event.eventName == 'Pass') | \n",
    "             df_wyscout_event.subEventName.isin(['Throw in', 'Free Kick', 'Goal kick', 'Corner', 'Free kick cross']))\n",
    "df_wyscout_event['pass_attempt'] = mask_pass"
   ]
  },
  {
   "cell_type": "markdown",
   "metadata": {},
   "source": [
    "Add shot attempt boolean column"
   ]
  },
  {
   "cell_type": "code",
   "execution_count": 9,
   "metadata": {},
   "outputs": [],
   "source": [
    "mask_corner_goal = (df_wyscout_event.subEventName=='Corner') & (df_wyscout_event.goal==True)\n",
    "df_wyscout_event['shot'] = ((df_wyscout_event.eventName == 'Shot') | \n",
    "                            (df_wyscout_event.subEventName=='Free kick shot') | \n",
    "                            (df_wyscout_event.subEventName == 'Penalty') |\n",
    "                            (mask_corner_goal))"
   ]
  },
  {
   "cell_type": "markdown",
   "metadata": {},
   "source": [
    "Add on switch (StatsBomb definition = ball transitioned at least 50% of the pitch vertically). Note that I have already removed dodgy end locations near the corner flags so this works."
   ]
  },
  {
   "cell_type": "code",
   "execution_count": 10,
   "metadata": {},
   "outputs": [],
   "source": [
    "mask_switch = (abs(df_wyscout_event.end_y - df_wyscout_event.y) >= 50) & (df_wyscout_event.pass_attempt)\n",
    "df_wyscout_event['pass_switch'] = mask_switch"
   ]
  },
  {
   "cell_type": "markdown",
   "metadata": {},
   "source": [
    "Add on cross (StatsBomb definition: See Appendix 6 of the Docs for Events). We are using Shapely geom to calculate whether a pass is a cross"
   ]
  },
  {
   "cell_type": "code",
   "execution_count": 11,
   "metadata": {},
   "outputs": [],
   "source": [
    "dim = create_pitch_dims(pitch_type='wyscout')\n",
    "# 69.50952 is 84.1 (the minimum x value for a cross in StatsBomb's open-data) converted to Wyscout coordinates\n",
    "# using mplsoccer Standardizer (rounded to 5 digits)\n",
    "cross_right_start = np.array([[dim.right, dim.six_yard_bottom],\n",
    "                              [dim.right, dim.bottom],\n",
    "                              [69.50952, dim.bottom],\n",
    "                              [69.50952, dim.penalty_area_bottom],\n",
    "                              [dim.penalty_area_right, dim.penalty_area_bottom]])\n",
    "cross_left_start = np.array([[dim.right, dim.six_yard_top],\n",
    "                              [dim.right, dim.top],\n",
    "                              [69.50952, dim.top],\n",
    "                              [69.50952, dim.penalty_area_top],\n",
    "                              [dim.penalty_area_right, dim.penalty_area_top]])\n",
    "cross_right_end = np.array([[dim.right, dim.top],\n",
    "                            [dim.penalty_area_right, dim.top],\n",
    "                            [dim.penalty_area_right, dim.six_yard_bottom],\n",
    "                            [dim.right, dim.six_yard_bottom]])\n",
    "cross_left_end = np.array([[dim.right, dim.bottom],\n",
    "                           [dim.penalty_area_right, dim.bottom],\n",
    "                           [dim.penalty_area_right, dim.six_yard_top],\n",
    "                           [dim.right, dim.six_yard_top]])\n",
    "\n",
    "cross_left_start = Polygon(cross_left_start)\n",
    "cross_right_start = Polygon(cross_right_start)\n",
    "cross_left_end = Polygon(cross_left_end)\n",
    "cross_right_end = Polygon(cross_right_end)\n",
    "\n",
    "# find intersection of passes and cross polygons\n",
    "df_pass = df_wyscout_event[df_wyscout_event.pass_attempt].copy()\n",
    "start_pass_points = gpd.GeoSeries.from_xy(df_pass['x'], df_pass['y'])\n",
    "end_pass_points = gpd.GeoSeries.from_xy(df_pass['end_x'], df_pass['end_y'])\n",
    "mask_cross = ((start_pass_points.intersects(cross_left_start) & end_pass_points.intersects(cross_left_end)) |\n",
    "              (start_pass_points.intersects(cross_right_start) & end_pass_points.intersects(cross_right_end)))\n",
    "cross_ids = df_pass[mask_cross].id\n",
    "df_wyscout_event['cross'] = df_wyscout_event.id.isin(cross_ids)"
   ]
  },
  {
   "cell_type": "markdown",
   "metadata": {},
   "source": [
    "Add on cut-back StatsBomb definition (StatsBomb definition: See Appendix 5 of the Docs for Events)"
   ]
  },
  {
   "cell_type": "code",
   "execution_count": 12,
   "metadata": {},
   "outputs": [],
   "source": [
    "cut_left_start = np.array([[dim.right, dim.six_yard_top],\n",
    "                           [dim.right, dim.top],\n",
    "                           [dim.six_yard_right, dim.top],\n",
    "                           [dim.six_yard_right, dim.six_yard_top]])\n",
    "cut_right_start = np.array([[dim.right, dim.six_yard_bottom],\n",
    "                            [dim.right, dim.bottom],\n",
    "                            [dim.six_yard_right, dim.bottom],\n",
    "                            [dim.six_yard_right, dim.six_yard_bottom]])\n",
    "\n",
    "cut_left_end = np.array([[dim.six_yard_right, dim.penalty_area_top],\n",
    "                         [dim.penalty_area_right, dim.penalty_area_top],\n",
    "                         [dim.penalty_area_right, dim.six_yard_bottom],\n",
    "                         [dim.six_yard_right, dim.six_yard_bottom]])\n",
    "cut_right_end = np.array([[dim.six_yard_right, dim.penalty_area_bottom],\n",
    "                         [dim.penalty_area_right, dim.penalty_area_bottom],\n",
    "                         [dim.penalty_area_right, dim.six_yard_top],\n",
    "                         [dim.six_yard_right, dim.six_yard_top]])\n",
    "\n",
    "cut_left_start = Polygon(cut_left_start)\n",
    "cut_right_start = Polygon(cut_right_start)\n",
    "cut_left_end = Polygon(cut_left_end)\n",
    "cut_right_end = Polygon(cut_right_end)\n",
    "\n",
    "# find intersection of passes and cut polygons\n",
    "mask_cut = ((start_pass_points.intersects(cut_left_start) & end_pass_points.intersects(cut_left_end)) |\n",
    "            (start_pass_points.intersects(cut_right_start) & end_pass_points.intersects(cut_right_end)))\n",
    "# not high and comes from a normal pass (not corner etc.)\n",
    "cut_ids = df_pass[((mask_cut) & (df_pass.high == False) & (df_pass.eventName == 'Pass'))].id\n",
    "df_wyscout_event['cut_back'] = df_wyscout_event.id.isin(cut_ids)"
   ]
  },
  {
   "cell_type": "markdown",
   "metadata": {},
   "source": [
    "Fix a corner at the wrong end"
   ]
  },
  {
   "cell_type": "code",
   "execution_count": 13,
   "metadata": {},
   "outputs": [],
   "source": [
    "df_wyscout_event.loc[(df_wyscout_event.y == 100) & (df_wyscout_event.x == 0) & \n",
    "                     (df_wyscout_event.subEventName == 'Corner'), 'x'] = 100"
   ]
  },
  {
   "cell_type": "markdown",
   "metadata": {},
   "source": [
    "Correct a few shots that appear to be on the wrong side of the pitch. I haven't checked, but these seem to be too far away to be real shots. Especially as some are goals"
   ]
  },
  {
   "cell_type": "code",
   "execution_count": 14,
   "metadata": {},
   "outputs": [],
   "source": [
    "mask_correct_shot = (df_wyscout_event.x < 34) & (df_wyscout_event.shot)\n",
    "df_wyscout_event.loc[mask_correct_shot, 'x'] = 100 - df_wyscout_event.loc[mask_correct_shot, 'x']"
   ]
  },
  {
   "cell_type": "markdown",
   "metadata": {},
   "source": [
    "Standardize coordinates"
   ]
  },
  {
   "cell_type": "code",
   "execution_count": 15,
   "metadata": {},
   "outputs": [],
   "source": [
    "standard = Standardizer(pitch_from='wyscout', pitch_to='uefa')\n",
    "\n",
    "new_x, new_y = standard.transform(df_wyscout_event.x, df_wyscout_event.y)\n",
    "df_wyscout_event['x'] = new_x\n",
    "df_wyscout_event['y'] = new_y\n",
    "\n",
    "new_end_x, new_end_y = standard.transform(df_wyscout_event.end_x, df_wyscout_event.end_y)\n",
    "df_wyscout_event['end_x'] = new_end_x\n",
    "df_wyscout_event['end_y'] = new_end_y"
   ]
  },
  {
   "cell_type": "markdown",
   "metadata": {},
   "source": [
    "Add goal scored (excluding shootouts)"
   ]
  },
  {
   "cell_type": "code",
   "execution_count": 16,
   "metadata": {},
   "outputs": [],
   "source": [
    "df_wyscout_event['goal_scored_excl_shootout'] = (((df_wyscout_event.goal) &\n",
    "                                                  (df_wyscout_event['matchPeriod']!='P') &\n",
    "                                                  (df_wyscout_event['shot'])) |\n",
    "                                                 (df_wyscout_event.own_goal))"
   ]
  },
  {
   "cell_type": "markdown",
   "metadata": {},
   "source": [
    "Check for missing Goals - there is one Kevin de Bruyne goal missing in the Wyscout event data"
   ]
  },
  {
   "cell_type": "code",
   "execution_count": 17,
   "metadata": {},
   "outputs": [
    {
     "data": {
      "text/html": [
       "<div>\n",
       "<style scoped>\n",
       "    .dataframe tbody tr th:only-of-type {\n",
       "        vertical-align: middle;\n",
       "    }\n",
       "\n",
       "    .dataframe tbody tr th {\n",
       "        vertical-align: top;\n",
       "    }\n",
       "\n",
       "    .dataframe thead th {\n",
       "        text-align: right;\n",
       "    }\n",
       "</style>\n",
       "<table border=\"1\" class=\"dataframe\">\n",
       "  <thead>\n",
       "    <tr style=\"text-align: right;\">\n",
       "      <th></th>\n",
       "      <th>match_id</th>\n",
       "      <th>Goals</th>\n",
       "      <th>home_score</th>\n",
       "      <th>label</th>\n",
       "      <th>away_score</th>\n",
       "      <th>kick_off</th>\n",
       "    </tr>\n",
       "  </thead>\n",
       "  <tbody>\n",
       "    <tr>\n",
       "      <th>313</th>\n",
       "      <td>2499781</td>\n",
       "      <td>0.0</td>\n",
       "      <td>0.0</td>\n",
       "      <td>Chelsea - Manchester City, 0 - 1</td>\n",
       "      <td>1.0</td>\n",
       "      <td>2017-09-30 18:30:00</td>\n",
       "    </tr>\n",
       "  </tbody>\n",
       "</table>\n",
       "</div>"
      ],
      "text/plain": [
       "     match_id  Goals  home_score                             label  \\\n",
       "313   2499781    0.0         0.0  Chelsea - Manchester City, 0 - 1   \n",
       "\n",
       "     away_score            kick_off  \n",
       "313         1.0 2017-09-30 18:30:00  "
      ]
     },
     "execution_count": 17,
     "metadata": {},
     "output_type": "execute_result"
    }
   ],
   "source": [
    "goals_per_game = pd.DataFrame(df_wyscout_event[df_wyscout_event['goal_scored_excl_shootout']]\n",
    "                              .groupby('match_id')\n",
    "                              .match_id.count())\n",
    "goals_per_game.columns = ['Goals']\n",
    "goals_per_game.reset_index(inplace=True)\n",
    "goals_per_game = goals_per_game.merge(df_wyscout_match[['home_score', 'label', 'away_score','match_id', 'kick_off']], \n",
    "                                      how='right', on='match_id')\n",
    "goals_per_game = goals_per_game.fillna(0)\n",
    "# only one game missing a goal it's a Kevin de Bruyne goal and it's not in the event data\n",
    "goals_per_game[goals_per_game.Goals != (goals_per_game.home_score + goals_per_game.away_score)]"
   ]
  },
  {
   "cell_type": "markdown",
   "metadata": {},
   "source": [
    "#### Create a pass_height_name feature.\n",
    "\n",
    "Assumptions:\n",
    "- headed passes are high (roughly 60% are in the StatsBomb data)\n",
    "- smart passes with the through ball tag are Ground/ low. It says in the Wyscout docs that through ball is added to smart pass if the pass is on the ground or it’s over the heads of the opposite players, but it’s on short distance – 5-10 meters.\n",
    "- smart passes without through balls are high passes\n",
    "- hand passes are ground/low (hopefully launch catches high passes)\n",
    "- throw-in / goal kick are high\n",
    "- free-kick, crosses and corners are low unless high=True"
   ]
  },
  {
   "cell_type": "code",
   "execution_count": 18,
   "metadata": {},
   "outputs": [],
   "source": [
    "# assumption made here that head passes are high passes (in StatsBomb roughly 60% are)\n",
    "df_wyscout_event.loc[df_wyscout_event.subEventName.isin(['High pass', 'Launch', 'Head pass']),\n",
    "                     'pass_height_name'] = 'High Pass'\n",
    "df_wyscout_event.loc[(df_wyscout_event.high == True) & (df_wyscout_event.eventName == 'Pass'),\n",
    "                     'pass_height_name'] = 'High Pass'\n",
    "# if smart pass and not a through ball assumed high\n",
    "df_wyscout_event.loc[(df_wyscout_event.subEventName == 'Smart pass') & (df_wyscout_event.through == False),\n",
    "                     'pass_height_name'] = 'High Pass'\n",
    "df_wyscout_event.loc[df_wyscout_event.subEventName == 'Simple pass',\n",
    "                     'pass_height_name'] = 'Ground/ Low Pass' \n",
    "df_wyscout_event.loc[(df_wyscout_event.subEventName.isin(['Corner', 'Free kick cross', 'Free Kick', 'Cross'])) &\n",
    "                     (df_wyscout_event.high == False),\n",
    "                     'pass_height_name'] = 'Ground/ Low Pass'\n",
    "df_wyscout_event.loc[df_wyscout_event.subEventName.isin(['Throw in', 'Goal kick']),\n",
    "                     'pass_height_name'] = 'High Pass'\n",
    "df_wyscout_event.loc[(df_wyscout_event.subEventName.isin(['Corner', 'Free kick cross', 'Cross'])) &\n",
    "                     (df_wyscout_event.high),\n",
    "                     'pass_height_name'] = 'High Pass'\n",
    "# assumption made here that smart through balls are ground/ low\n",
    "df_wyscout_event.loc[(df_wyscout_event.subEventName == 'Smart pass') & (df_wyscout_event.through),\n",
    "                     'pass_height_name'] = 'Ground/ Low Pass'\n",
    "df_wyscout_event.loc[(df_wyscout_event.subEventName == 'Hand pass'),\n",
    "                     'pass_height_name'] = 'Ground/ Low Pass'"
   ]
  },
  {
   "cell_type": "markdown",
   "metadata": {},
   "source": [
    "Seperate out names in player dataset"
   ]
  },
  {
   "cell_type": "code",
   "execution_count": 19,
   "metadata": {},
   "outputs": [],
   "source": [
    "df_wyscout_player['fullName'] = (df_wyscout_player.firstName + ' ' + df_wyscout_player.lastName).str.strip()\n",
    "player_name_series = df_wyscout_player.fullName.str.split(' ')\n",
    "df_wyscout_player['firstName'] = player_name_series.apply(lambda x: x[0] if isinstance(x, list) else None)\n",
    "df_wyscout_player['middleName'] = player_name_series.apply(lambda x: ' '.join(x[1:-1]) if isinstance(x, list) else None)\n",
    "df_wyscout_player['lastName'] = player_name_series.apply(lambda x: x[-1] if isinstance(x, list) else None)\n",
    "df_wyscout_player['middleName'] = df_wyscout_player['middleName'].str.strip()\n",
    "df_wyscout_player['Name'] = ((df_wyscout_player['firstName'] + ' ' + df_wyscout_player['middleName']).str.strip()\n",
    "                             + ' ' + df_wyscout_player['lastName'])"
   ]
  },
  {
   "cell_type": "markdown",
   "metadata": {},
   "source": [
    "Add on the player name/ foot"
   ]
  },
  {
   "cell_type": "code",
   "execution_count": 20,
   "metadata": {},
   "outputs": [
    {
     "name": "stderr",
     "output_type": "stream",
     "text": [
      "C:\\Users\\nicol\\AppData\\Local\\Temp\\ipykernel_34852\\2341282523.py:1: FutureWarning: A value is trying to be set on a copy of a DataFrame or Series through chained assignment using an inplace method.\n",
      "The behavior will change in pandas 3.0. This inplace method will never work because the intermediate object on which we are setting values always behaves as a copy.\n",
      "\n",
      "For example, when doing 'df[col].method(value, inplace=True)', try using 'df.method({col: value}, inplace=True)' or df[col] = df[col].method(value) instead, to perform the operation inplace on the original object.\n",
      "\n",
      "\n",
      "  df_wyscout_player.foot.replace({'null': None, '': None}, inplace=True)\n"
     ]
    }
   ],
   "source": [
    "df_wyscout_player.foot.replace({'null': None, '': None}, inplace=True)\n",
    "df_wyscout_player.rename({'birthArea_name': 'country_name'}, axis='columns', inplace=True)\n",
    "df_wyscout_event = df_wyscout_event.merge(df_wyscout_player[['player_id', 'firstName', 'middleName', 'lastName', 'Name', 'foot', 'country_name']],\n",
    "                                          how='left', on='player_id')"
   ]
  },
  {
   "cell_type": "markdown",
   "metadata": {},
   "source": [
    "Create a pass_technique name.\n",
    "\n",
    "Assumptions:\n",
    "- outswinging, different foot as the side of the pitch\n",
    "- inswinging, same foot as the side of the pitch\n",
    "- missing/ both foot = inswinging\n",
    "- each player takes the kick with the foot in the player table.\n",
    "\n",
    "This misses straight corner kicks and may not be 100% correct. "
   ]
  },
  {
   "cell_type": "code",
   "execution_count": 21,
   "metadata": {},
   "outputs": [],
   "source": [
    "mask_corner = df_wyscout_event.subEventName == 'Corner'\n",
    "mask_right = df_wyscout_event.foot == 'right'\n",
    "mask_left = df_wyscout_event.foot == 'left'\n",
    "mask_right_side = df_wyscout_event.y >= dim.center_width\n",
    "mask_left_side = df_wyscout_event.y < dim.center_width\n",
    "mask_both = df_wyscout_event.foot == 'both'\n",
    "mask_missing = df_wyscout_event.foot.isnull()\n",
    "mask_inswing = mask_corner & ((mask_left & mask_left_side) | (mask_right & mask_right_side) | mask_both | mask_missing)\n",
    "mask_outswing = mask_corner & ((mask_left & mask_right_side) | (mask_right & mask_left_side))\n",
    "df_wyscout_event.loc[mask_inswing, 'pass_technique_name'] = 'Inswinging'\n",
    "df_wyscout_event.loc[mask_outswing, 'pass_technique_name'] = 'Outswinging'\n",
    "df_wyscout_event.loc[df_wyscout_event.through, 'pass_technique_name'] = 'Through Ball'"
   ]
  },
  {
   "cell_type": "markdown",
   "metadata": {},
   "source": [
    "Fast attack, win ball in own third, shoot in last quarter in 7-25 seconds"
   ]
  },
  {
   "cell_type": "code",
   "execution_count": 22,
   "metadata": {},
   "outputs": [],
   "source": [
    "mask_defence_win = ((df_wyscout_event.subEventName.isin(['Ground defending duel', 'Air duel', 'Save attempt'])) |\n",
    "                    (df_wyscout_event.interception)) & (df_wyscout_event.x < 35)\n",
    "df_wyscout_event.loc[mask_defence_win, 'defence_win'] = df_wyscout_event.loc[mask_defence_win, 'team_id']\n",
    "df_wyscout_event.loc[mask_defence_win, 'defence_sec'] = df_wyscout_event.loc[mask_defence_win, 'eventSec']\n",
    "group_match = df_wyscout_event.groupby(['match_id', 'matchPeriod'])\n",
    "df_wyscout_event[['defence_win', 'defence_sec']] = group_match[['defence_win', 'defence_sec']].ffill()\n",
    "mask_fast = (((df_wyscout_event.eventSec - df_wyscout_event.defence_sec) <= 25) &\n",
    "             (df_wyscout_event.x > 78.75) &\n",
    "             (df_wyscout_event.shot) & (df_wyscout_event.team_id == df_wyscout_event.defence_win))\n",
    "df_wyscout_event['fast_break'] = mask_fast"
   ]
  },
  {
   "cell_type": "markdown",
   "metadata": {},
   "source": [
    "Flag 10 seconds from a corner or freekick/ 20 seconds from a throw-in"
   ]
  },
  {
   "cell_type": "code",
   "execution_count": 23,
   "metadata": {},
   "outputs": [
    {
     "name": "stderr",
     "output_type": "stream",
     "text": [
      "C:\\Users\\nicol\\AppData\\Local\\Temp\\ipykernel_34852\\2360926202.py:16: FutureWarning: The behavior of DataFrame.idxmin with all-NA values, or any-NA and skipna=False, is deprecated. In a future version this will raise ValueError\n",
      "  df_wyscout_event['play_type'] = df_wyscout_event[['throw_in_sec', 'free_kick_sec', 'corner_sec']].idxmin(axis=1).str[:-4]\n"
     ]
    }
   ],
   "source": [
    "for set_piece in ['Corner', 'Throw in', ['Free kick cross', 'Free kick shot']]:\n",
    "    if isinstance(set_piece, list):\n",
    "        mask = df_wyscout_event.subEventName.isin(set_piece)\n",
    "        name = 'free_kick'\n",
    "    else:\n",
    "        mask = df_wyscout_event.subEventName.isin([set_piece])\n",
    "        name = set_piece.replace(' ', '_').lower()\n",
    "    df_wyscout_event.loc[mask, f'{name}_sec'] = df_wyscout_event.loc[mask, 'eventSec']\n",
    "    df_wyscout_event.loc[mask, f'{name}_team'] = df_wyscout_event.loc[mask, 'team_id']\n",
    "    df_wyscout_event[f'{name}_sec'] = group_match[f'{name}_sec'].ffill()\n",
    "    df_wyscout_event[f'{name}_team'] = group_match[f'{name}_team'].ffill()\n",
    "    df_wyscout_event[f'{name}_sec'] = df_wyscout_event.eventSec - df_wyscout_event[f'{name}_sec']\n",
    "df_wyscout_event.loc[df_wyscout_event.throw_in_sec > 20, 'throw_in_sec'] = np.nan\n",
    "df_wyscout_event.loc[df_wyscout_event.free_kick_sec > 10, 'free_kick_sec'] = np.nan\n",
    "df_wyscout_event.loc[df_wyscout_event.corner_sec > 10, 'corner_sec'] = np.nan\n",
    "df_wyscout_event['play_type'] = df_wyscout_event[['throw_in_sec', 'free_kick_sec', 'corner_sec']].idxmin(axis=1).str[:-4]\n",
    "# if throw-in and defensive set to null\n",
    "mask_defensive = ((df_wyscout_event.play_type == 'throw_in') &\n",
    "                  (df_wyscout_event['throw_in_team'] != df_wyscout_event.team_id))\n",
    "df_wyscout_event.loc[mask_defensive, 'play_type'] = np.nan"
   ]
  },
  {
   "cell_type": "markdown",
   "metadata": {},
   "source": [
    "Add on previous info"
   ]
  },
  {
   "cell_type": "code",
   "execution_count": 24,
   "metadata": {},
   "outputs": [],
   "source": [
    "# first filter out some events so the previous event is the correct assist type\n",
    "mask_exclude = ((df_wyscout_event.eventName.isin(['Goalkeeper leaving line', 'Interruption'])) |\n",
    "                (df_wyscout_event.subEventName == 'Acceleration'))\n",
    "df_wyscout_event = df_wyscout_event[~mask_exclude].copy()\n",
    "match_group = df_wyscout_event.groupby(['match_id', 'matchPeriod'])\n",
    "for i in range(1, 4):\n",
    "    df_wyscout_event[f'prev_id_{i}'] = match_group.id.shift(i)\n",
    "    df_wyscout_event[f'prevEventName_{i}'] = match_group.eventName.shift(i)\n",
    "    df_wyscout_event[f'prevSubEventName_{i}'] = match_group.subEventName.shift(i)\n",
    "    df_wyscout_event[f'prev_player_id_{i}'] = match_group.player_id.shift(i)\n",
    "    df_wyscout_event[f'prev_team_id_{i}'] = match_group.team_id.shift(i)\n",
    "    df_wyscout_event[f'prev_pass_attempt_{i}'] = match_group.pass_attempt.shift(i)\n",
    "    df_wyscout_event[f'prev_shot_{i}'] = match_group.shot.shift(i)"
   ]
  },
  {
   "cell_type": "markdown",
   "metadata": {},
   "source": [
    "### Filter Non-penalty/ non-corner shots"
   ]
  },
  {
   "cell_type": "code",
   "execution_count": 25,
   "metadata": {},
   "outputs": [
    {
     "name": "stdout",
     "output_type": "stream",
     "text": [
      "Number of shots: 42957\n",
      "Number of goals: 4397\n"
     ]
    }
   ],
   "source": [
    "mask_shot1 = (((df_wyscout_event.eventName=='Shot') | (df_wyscout_event.subEventName=='Free kick shot')) & \n",
    "              (df_wyscout_event['matchPeriod']!='P'))\n",
    "mask_shot2 = (df_wyscout_event.subEventName=='Corner') & (df_wyscout_event.goal==True)\n",
    "mask_corner_goal = (df_wyscout_event.subEventName=='Corner') & (df_wyscout_event.goal==True)\n",
    "mask_shot = (mask_shot1 | mask_shot2) & (~mask_corner_goal)\n",
    "df_wyscout_shots = df_wyscout_event[mask_shot].copy()\n",
    "print('Number of shots:', len(df_wyscout_shots))\n",
    "print('Number of goals:', df_wyscout_shots.goal.sum())"
   ]
  },
  {
   "cell_type": "markdown",
   "metadata": {},
   "source": [
    "Add body part name"
   ]
  },
  {
   "cell_type": "code",
   "execution_count": 26,
   "metadata": {},
   "outputs": [],
   "source": [
    "df_wyscout_shots.loc[df_wyscout_shots.left_foot, 'body_part_name'] = 'Left Foot'\n",
    "df_wyscout_shots.loc[df_wyscout_shots.right_foot, 'body_part_name'] = 'Right Foot'\n",
    "df_wyscout_shots.loc[df_wyscout_shots.head_body, 'body_part_name'] = 'Other'\n",
    "df_wyscout_shots.drop(['left_foot', 'right_foot', 'head_body'], axis=1, inplace=True)"
   ]
  },
  {
   "cell_type": "markdown",
   "metadata": {},
   "source": [
    "Strongest foot column"
   ]
  },
  {
   "cell_type": "code",
   "execution_count": 27,
   "metadata": {},
   "outputs": [],
   "source": [
    "mask_strong_foot = (((df_wyscout_shots.foot.isin(['right', 'both'])) &\n",
    "                     (df_wyscout_shots.body_part_name == 'Right Foot')) |\n",
    "                    (((df_wyscout_shots.foot.isin(['left', 'both'])) & \n",
    "                      (df_wyscout_shots.body_part_name == 'Left Foot'))))\n",
    "df_wyscout_shots['strong_foot'] = mask_strong_foot"
   ]
  },
  {
   "cell_type": "markdown",
   "metadata": {},
   "source": [
    "Add shot type name"
   ]
  },
  {
   "cell_type": "code",
   "execution_count": 28,
   "metadata": {},
   "outputs": [],
   "source": [
    "# note there are three goals that come direct from corner kicks - they are tagged 'Free Kick' originally though\n",
    "# this was renamed earlier to Set Piece\n",
    "df_wyscout_shots['shot_type_name']  = df_wyscout_shots.eventName.replace({'Shot': 'Open Play',\n",
    "                                                                          'Set Piece': 'Direct Set Piece'})"
   ]
  },
  {
   "cell_type": "markdown",
   "metadata": {},
   "source": [
    "Assist type, and get event id if pass"
   ]
  },
  {
   "cell_type": "code",
   "execution_count": 29,
   "metadata": {},
   "outputs": [],
   "source": [
    "# direct from set pieces\n",
    "df_wyscout_shots.loc[df_wyscout_shots.shot_type_name == 'Direct Set Piece', 'assist_type'] = 'direct'\n",
    "# rebound/ clearance from the previous event\n",
    "df_wyscout_shots.loc[(df_wyscout_shots.assist_type.isnull()) &\n",
    "                     (df_wyscout_shots.prevEventName_1.isin(['Save attempt', 'Shot', 'Set Piece'])), 'assist_type'] = 'rebound'\n",
    "df_wyscout_shots.loc[(df_wyscout_shots.assist_type.isnull()) &\n",
    "                     (df_wyscout_shots.prevSubEventName_1 == 'Clearance'), 'assist_type'] = 'clearance'\n",
    "# pass from the previous event\n",
    "mask_pass1 = ((df_wyscout_shots.prev_pass_attempt_1 == True) &\n",
    "              (df_wyscout_shots.team_id == df_wyscout_shots.prev_team_id_1) &\n",
    "              (df_wyscout_shots.assist_type.isnull()))\n",
    "df_wyscout_shots.loc[mask_pass1, 'assist_type'] = 'pass'\n",
    "df_wyscout_shots.loc[mask_pass1, 'pass_id'] = df_wyscout_shots.loc[mask_pass1, 'prev_id_1']\n",
    "# pass from the third previous event if and there are two duels in-between\n",
    "mask_duel = ((df_wyscout_shots.prevEventName_1 == 'Duel') &\n",
    "             (df_wyscout_shots.prevEventName_2 == 'Duel') &\n",
    "             (df_wyscout_shots.assist_type.isnull()))             \n",
    "mask_pass2 = (mask_duel & (df_wyscout_shots.prev_pass_attempt_3) &\n",
    "              (df_wyscout_shots.team_id == df_wyscout_shots.prev_team_id_3))\n",
    "df_wyscout_shots.loc[mask_pass2, 'assist_type'] = 'pass'\n",
    "df_wyscout_shots.loc[mask_pass2, 'pass_id'] = df_wyscout_shots.loc[mask_pass2, 'prev_id_3'] \n",
    "# rebound/clearance if the third previous event involved a shot or save and there are two duels in-between\n",
    "df_wyscout_shots.loc[(df_wyscout_shots.assist_type.isnull()) & mask_duel &\n",
    "                     ((df_wyscout_shots.prev_shot_3) | (df_wyscout_shots.prevEventName_3 == 'Save attempt')),\n",
    "                     'assist_type'] = 'rebound'\n",
    "df_wyscout_shots.loc[(df_wyscout_shots.assist_type.isnull()) & mask_duel &\n",
    "                     (df_wyscout_shots.prevSubEventName_3 =='Clearance'),\n",
    "                     'assist_type'] = 'clearance'\n",
    "# if still null and the second event involves a shot or save set to a rebound\n",
    "df_wyscout_shots.loc[(df_wyscout_shots.assist_type.isnull()) & \n",
    "                     ((df_wyscout_shots.prevEventName_2 == 'Save attempt') | (df_wyscout_shots.prev_shot_2)),\n",
    "                     'assist_type'] = 'rebound'\n",
    "# if still null and the second event involves a clearance set to a clearance\n",
    "df_wyscout_shots.loc[df_wyscout_shots.assist_type.isnull() & (df_wyscout_shots.prevSubEventName_2 == 'Clearance'),\n",
    "                     'assist_type'] = 'clearance'\n",
    "# if still null and the third event involves a pass set to a pass\n",
    "mask_pass3 = ((df_wyscout_shots.assist_type.isnull()) & (df_wyscout_shots.prev_pass_attempt_3) & \n",
    "              (df_wyscout_shots.prev_team_id_3 == df_wyscout_shots.team_id))\n",
    "df_wyscout_shots.loc[mask_pass3, 'assist_type'] = 'pass'\n",
    "df_wyscout_shots.loc[mask_pass3, 'pass_id'] = df_wyscout_shots.loc[mask_pass3, 'prev_id_3']\n",
    "# if still null set to recovery\n",
    "df_wyscout_shots.loc[df_wyscout_shots.assist_type.isnull(), 'assist_type'] = 'recovery'"
   ]
  },
  {
   "cell_type": "markdown",
   "metadata": {},
   "source": [
    "Keep subset of columns"
   ]
  },
  {
   "cell_type": "code",
   "execution_count": 30,
   "metadata": {},
   "outputs": [],
   "source": [
    "df_wyscout_shots = df_wyscout_shots[['match_id', 'matchPeriod', 'eventSec', 'id', 'goal', 'team_id',\n",
    "                                     'team_name', 'player_id',\n",
    "                                     'firstName', 'middleName', 'lastName', 'Name', 'country_name',\n",
    "                                     'shot_type_name', 'play_type',\n",
    "                                     'x', 'y', 'counter_attack', 'fast_break',\n",
    "                                     'strong_foot', 'body_part_name', 'assist_type', 'pass_id']].copy()                               "
   ]
  },
  {
   "cell_type": "markdown",
   "metadata": {},
   "source": [
    "Add on pass information"
   ]
  },
  {
   "cell_type": "code",
   "execution_count": 31,
   "metadata": {},
   "outputs": [],
   "source": [
    "df_pass = df_wyscout_event.loc[df_wyscout_event.pass_attempt, ['id', 'end_y', 'end_x', 'smart_pass',\n",
    "                                                               'pass_switch', 'cross', 'cut_back', 'pass_height_name',\n",
    "                                                               'pass_technique_name']].copy()\n",
    "df_pass.rename({'id': 'pass_id', 'end_x': 'pass_end_x', 'end_y': 'pass_end_y',\n",
    "                'cross': 'pass_cross', 'cut_back': 'pass_cut_back'}, axis=1, inplace=True)\n",
    "df_wyscout_shots = df_wyscout_shots.merge(df_pass, how='left', on='pass_id')"
   ]
  },
  {
   "cell_type": "markdown",
   "metadata": {},
   "source": [
    "Angles/ distance to goals"
   ]
  },
  {
   "cell_type": "code",
   "execution_count": 32,
   "metadata": {},
   "outputs": [],
   "source": [
    "dim_uefa = create_pitch_dims(pitch_type='uefa')\n",
    "goal_width = dim_uefa.goal_width\n",
    "dx = abs(dim_uefa.right - df_wyscout_shots.x)\n",
    "dy = abs(dim_uefa.center_width - df_wyscout_shots.y)\n",
    "df_wyscout_shots['visible_angle'] = np.arctan2(goal_width * dx , (dx**2 + dy**2 - (goal_width / 2.) ** 2))\n",
    "df_wyscout_shots['middle_angle'] = np.arctan2(dy, dx)\n",
    "df_wyscout_shots['distance_to_goal'] = round((dy**2 + dx**2)**0.5, 1)"
   ]
  },
  {
   "cell_type": "markdown",
   "metadata": {},
   "source": [
    "Interaction between angle and distance"
   ]
  },
  {
   "cell_type": "code",
   "execution_count": 33,
   "metadata": {},
   "outputs": [],
   "source": [
    "df_wyscout_shots['distance_visible_angle'] = df_wyscout_shots.distance_to_goal * df_wyscout_shots.visible_angle"
   ]
  },
  {
   "cell_type": "markdown",
   "metadata": {},
   "source": [
    "Log distance"
   ]
  },
  {
   "cell_type": "code",
   "execution_count": 34,
   "metadata": {},
   "outputs": [],
   "source": [
    "df_wyscout_shots['log_distance_to_goal'] = np.log(df_wyscout_shots.distance_to_goal)"
   ]
  },
  {
   "cell_type": "markdown",
   "metadata": {},
   "source": [
    "Amend shot type to take into account the play_type (set piece column) made earlier"
   ]
  },
  {
   "cell_type": "code",
   "execution_count": 35,
   "metadata": {},
   "outputs": [],
   "source": [
    "mask_amend = (df_wyscout_shots.shot_type_name != 'Direct Set Piece') & (df_wyscout_shots.play_type.notnull())\n",
    "df_wyscout_shots.loc[mask_amend, 'shot_type_name'] = df_wyscout_shots.loc[mask_amend, 'play_type']\n",
    "df_wyscout_shots['shot_type_name'] = df_wyscout_shots.shot_type_name.str.lower().str.replace(' ', '_')\n",
    "df_wyscout_shots.drop('play_type', axis=1, inplace=True)"
   ]
  },
  {
   "cell_type": "markdown",
   "metadata": {},
   "source": [
    "Add Men"
   ]
  },
  {
   "cell_type": "code",
   "execution_count": 36,
   "metadata": {},
   "outputs": [],
   "source": [
    "df_wyscout_shots['competition_gender'] = 'male'"
   ]
  },
  {
   "cell_type": "markdown",
   "metadata": {},
   "source": [
    "Add on the goalkeeper"
   ]
  },
  {
   "cell_type": "code",
   "execution_count": 37,
   "metadata": {},
   "outputs": [],
   "source": [
    "df_wyscout_shots['minute'] = np.ceil(df_wyscout_shots.eventSec / 60)\n",
    "df_wyscout_shots.loc[(df_wyscout_shots.matchPeriod == '1H') & (df_wyscout_shots.minute > 45), 'minute'] = 45\n",
    "df_wyscout_shots.sort_values('minute', inplace=True)\n",
    "df_wyscout_shots = pd.merge_asof(df_wyscout_shots, df_wyscout_formation[['player_id', 'minute_in']],\n",
    "                                 left_on='minute', right_on='minute_in',\n",
    "                                 allow_exact_matches=True, direction='backward', suffixes=['', '_goalkeeper'])"
   ]
  },
  {
   "cell_type": "markdown",
   "metadata": {},
   "source": [
    "Match Period consistent with StatsBomb"
   ]
  },
  {
   "cell_type": "code",
   "execution_count": 38,
   "metadata": {},
   "outputs": [],
   "source": [
    "df_wyscout_shots.rename({'matchPeriod': 'period'}, axis=1, inplace=True)\n",
    "df_wyscout_shots['period'] = df_wyscout_shots.period.map({'1H': 1, '2H': 2, 'E1': 3, 'E2': 4})"
   ]
  },
  {
   "cell_type": "markdown",
   "metadata": {},
   "source": [
    "Save dataset"
   ]
  },
  {
   "cell_type": "code",
   "execution_count": 39,
   "metadata": {},
   "outputs": [],
   "source": [
    "df_wyscout_shots.drop(['pass_id', 'minute', 'minute_in'], axis=1, inplace=True)\n",
    "df_wyscout_shots.reset_index(drop=True, inplace=True)\n",
    "df_wyscout_shots.to_parquet(os.path.join(WYSCOUT, 'shots.parquet'))"
   ]
  },
  {
   "cell_type": "markdown",
   "metadata": {},
   "source": [
    "Info on dataset"
   ]
  },
  {
   "cell_type": "code",
   "execution_count": 40,
   "metadata": {},
   "outputs": [
    {
     "name": "stdout",
     "output_type": "stream",
     "text": [
      "<class 'pandas.core.frame.DataFrame'>\n",
      "RangeIndex: 42957 entries, 0 to 42956\n",
      "Data columns (total 36 columns):\n",
      " #   Column                  Non-Null Count  Dtype  \n",
      "---  ------                  --------------  -----  \n",
      " 0   match_id                42957 non-null  int64  \n",
      " 1   period                  42957 non-null  int64  \n",
      " 2   eventSec                42957 non-null  float64\n",
      " 3   id                      42957 non-null  int64  \n",
      " 4   goal                    42957 non-null  bool   \n",
      " 5   team_id                 42957 non-null  int64  \n",
      " 6   team_name               42957 non-null  object \n",
      " 7   player_id               42954 non-null  float64\n",
      " 8   firstName               42954 non-null  object \n",
      " 9   middleName              42954 non-null  object \n",
      " 10  lastName                42954 non-null  object \n",
      " 11  Name                    42954 non-null  object \n",
      " 12  country_name            42954 non-null  object \n",
      " 13  shot_type_name          42957 non-null  object \n",
      " 14  x                       42957 non-null  float64\n",
      " 15  y                       42957 non-null  float64\n",
      " 16  counter_attack          42957 non-null  bool   \n",
      " 17  fast_break              42957 non-null  bool   \n",
      " 18  strong_foot             42957 non-null  bool   \n",
      " 19  body_part_name          42957 non-null  object \n",
      " 20  assist_type             42957 non-null  object \n",
      " 21  pass_end_y              28442 non-null  float64\n",
      " 22  pass_end_x              28442 non-null  float64\n",
      " 23  smart_pass              28613 non-null  object \n",
      " 24  pass_switch             28613 non-null  object \n",
      " 25  pass_cross              28613 non-null  object \n",
      " 26  pass_cut_back           28613 non-null  object \n",
      " 27  pass_height_name        28613 non-null  object \n",
      " 28  pass_technique_name     4003 non-null   object \n",
      " 29  visible_angle           42957 non-null  float64\n",
      " 30  middle_angle            42957 non-null  float64\n",
      " 31  distance_to_goal        42957 non-null  float64\n",
      " 32  distance_visible_angle  42957 non-null  float64\n",
      " 33  log_distance_to_goal    42957 non-null  float64\n",
      " 34  competition_gender      42957 non-null  object \n",
      " 35  player_id_goalkeeper    42957 non-null  int64  \n",
      "dtypes: bool(4), float64(11), int64(5), object(16)\n",
      "memory usage: 10.7+ MB\n"
     ]
    }
   ],
   "source": [
    "df_wyscout_shots.info()"
   ]
  }
 ],
 "metadata": {
  "kernelspec": {
   "display_name": "expected-goals",
   "language": "python",
   "name": "python3"
  },
  "language_info": {
   "codemirror_mode": {
    "name": "ipython",
    "version": 3
   },
   "file_extension": ".py",
   "mimetype": "text/x-python",
   "name": "python",
   "nbconvert_exporter": "python",
   "pygments_lexer": "ipython3",
   "version": "3.12.9"
  }
 },
 "nbformat": 4,
 "nbformat_minor": 4
}
